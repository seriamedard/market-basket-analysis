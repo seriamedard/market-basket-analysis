{
 "cells": [
  {
   "attachments": {},
   "cell_type": "markdown",
   "metadata": {
    "nteract": {
     "transient": {
      "deleting": false
     }
    }
   },
   "source": [
    "# Import modules"
   ]
  },
  {
   "cell_type": "code",
   "execution_count": 5,
   "metadata": {
    "gather": {
     "logged": 1680458593322
    },
    "jupyter": {
     "outputs_hidden": false,
     "source_hidden": false
    },
    "nteract": {
     "transient": {
      "deleting": false
     }
    }
   },
   "outputs": [],
   "source": [
    "# import\n",
    "from mlxtend.frequent_patterns import apriori, fpgrowth, association_rules\n",
    "from sklearn.model_selection import RandomizedSearchCV\n",
    "from sklearn.model_selection import train_test_split\n",
    "from sklearn.metrics import accuracy_score\n",
    "#from xgboost.sklearn import XGBClassifier\n",
    "from sklearn.metrics import f1_score\n",
    "import matplotlib.pyplot as plt\n",
    "from zipfile import ZipFile\n",
    "from scipy import sparse\n",
    "import seaborn as sns\n",
    "import pandas as pd\n",
    "import numpy as np\n",
    "import os"
   ]
  },
  {
   "attachments": {},
   "cell_type": "markdown",
   "metadata": {
    "nteract": {
     "transient": {
      "deleting": false
     }
    }
   },
   "source": [
    "## Preprocessing"
   ]
  },
  {
   "attachments": {},
   "cell_type": "markdown",
   "metadata": {
    "nteract": {
     "transient": {
      "deleting": false
     }
    }
   },
   "source": [
    "### Unzip data"
   ]
  },
  {
   "cell_type": "code",
   "execution_count": 22,
   "metadata": {
    "gather": {
     "logged": 1680458625082
    },
    "jupyter": {
     "outputs_hidden": false,
     "source_hidden": false
    },
    "nteract": {
     "transient": {
      "deleting": false
     }
    }
   },
   "outputs": [
    {
     "name": "stdout",
     "output_type": "stream",
     "text": [
      "../data/kaggle/aisles.csv.zip\n",
      "../data/kaggle/departments.csv.zip\n",
      "../data/kaggle/orders.csv.zip\n",
      "../data/kaggle/order_products__prior.csv.zip\n",
      "../data/kaggle/order_products__train.csv.zip\n",
      "../data/kaggle/products.csv.zip\n",
      "../data/kaggle/sample_submission.csv.zip\n"
     ]
    }
   ],
   "source": [
    "# Extract data\n",
    "def preDot(txt):\n",
    "    return txt.rsplit('.', 1)[0]\n",
    "\n",
    "np.random.seed(73)\n",
    "pd.options.mode.chained_assignment = None\n",
    "path = \"../data/kaggle/\" # Path of dataset \n",
    "dataDict = {}\n",
    "\n",
    "for dirname, _ , filenames in os.walk(path) :\n",
    "    #print(filenames)\n",
    "    for filename in filenames:\n",
    "        if filename.endswith('.zip'):\n",
    "            print(os.path.join(dirname, filename))\n",
    "            with ZipFile(os.path.join(dirname, filename), 'r') as zipf:\n",
    "                unzipped_fn = preDot(filename)\n",
    "                with zipf.open(unzipped_fn) as f:\n",
    "                    dataDict[preDot(unzipped_fn)] = pd.read_csv(f)\n",
    "train_orders = dataDict['orders'][dataDict['orders']['eval_set'] == 'train'].drop('eval_set', axis=1)\n",
    "prior_orders = dataDict['orders'][dataDict['orders']['eval_set'] == 'prior'].drop('eval_set', axis=1)\n",
    "test_orders = dataDict['orders'][dataDict['orders']['eval_set'] == 'test'].drop('eval_set', axis=1)"
   ]
  },
  {
   "attachments": {},
   "cell_type": "markdown",
   "metadata": {
    "nteract": {
     "transient": {
      "deleting": false
     }
    }
   },
   "source": [
    "### Exploration\n"
   ]
  },
  {
   "cell_type": "code",
   "execution_count": 23,
   "metadata": {
    "gather": {
     "logged": 1680463552684
    },
    "jupyter": {
     "outputs_hidden": false,
     "source_hidden": false
    },
    "nteract": {
     "transient": {
      "deleting": false
     }
    }
   },
   "outputs": [
    {
     "data": {
      "text/plain": [
       "dict_keys(['aisles', 'departments', 'orders', 'order_products__prior', 'order_products__train', 'products', 'sample_submission'])"
      ]
     },
     "execution_count": 23,
     "metadata": {},
     "output_type": "execute_result"
    }
   ],
   "source": [
    "dataDict.keys()"
   ]
  },
  {
   "cell_type": "code",
   "execution_count": 24,
   "metadata": {
    "gather": {
     "logged": 1680463939735
    },
    "jupyter": {
     "outputs_hidden": false,
     "source_hidden": false
    },
    "nteract": {
     "transient": {
      "deleting": false
     }
    }
   },
   "outputs": [],
   "source": [
    "def display_head(df):\n",
    "    print(df.head(),'\\n')\n"
   ]
  },
  {
   "cell_type": "code",
   "execution_count": 25,
   "metadata": {
    "gather": {
     "logged": 1680463942248
    },
    "jupyter": {
     "outputs_hidden": false,
     "source_hidden": false
    },
    "nteract": {
     "transient": {
      "deleting": false
     }
    }
   },
   "outputs": [
    {
     "name": "stdout",
     "output_type": "stream",
     "text": [
      "aisles \n",
      "\n",
      "   aisle_id                       aisle\n",
      "0         1       prepared soups salads\n",
      "1         2           specialty cheeses\n",
      "2         3         energy granola bars\n",
      "3         4               instant foods\n",
      "4         5  marinades meat preparation \n",
      "\n",
      "departments \n",
      "\n",
      "   department_id department\n",
      "0              1     frozen\n",
      "1              2      other\n",
      "2              3     bakery\n",
      "3              4    produce\n",
      "4              5    alcohol \n",
      "\n",
      "orders \n",
      "\n",
      "   order_id  user_id eval_set  order_number  order_dow  order_hour_of_day   \n",
      "0   2539329        1    prior             1          2                  8  \\\n",
      "1   2398795        1    prior             2          3                  7   \n",
      "2    473747        1    prior             3          3                 12   \n",
      "3   2254736        1    prior             4          4                  7   \n",
      "4    431534        1    prior             5          4                 15   \n",
      "\n",
      "   days_since_prior_order  \n",
      "0                     NaN  \n",
      "1                    15.0  \n",
      "2                    21.0  \n",
      "3                    29.0  \n",
      "4                    28.0   \n",
      "\n",
      "order_products__prior \n",
      "\n",
      "   order_id  product_id  add_to_cart_order  reordered\n",
      "0         2       33120                  1          1\n",
      "1         2       28985                  2          1\n",
      "2         2        9327                  3          0\n",
      "3         2       45918                  4          1\n",
      "4         2       30035                  5          0 \n",
      "\n",
      "order_products__train \n",
      "\n",
      "   order_id  product_id  add_to_cart_order  reordered\n",
      "0         1       49302                  1          1\n",
      "1         1       11109                  2          1\n",
      "2         1       10246                  3          0\n",
      "3         1       49683                  4          0\n",
      "4         1       43633                  5          1 \n",
      "\n",
      "products \n",
      "\n",
      "   product_id                                       product_name  aisle_id   \n",
      "0           1                         Chocolate Sandwich Cookies        61  \\\n",
      "1           2                                   All-Seasons Salt       104   \n",
      "2           3               Robust Golden Unsweetened Oolong Tea        94   \n",
      "3           4  Smart Ones Classic Favorites Mini Rigatoni Wit...        38   \n",
      "4           5                          Green Chile Anytime Sauce         5   \n",
      "\n",
      "   department_id  \n",
      "0             19  \n",
      "1             13  \n",
      "2              7  \n",
      "3              1  \n",
      "4             13   \n",
      "\n",
      "sample_submission \n",
      "\n",
      "   order_id     products\n",
      "0        17  39276 29259\n",
      "1        34  39276 29259\n",
      "2       137  39276 29259\n",
      "3       182  39276 29259\n",
      "4       257  39276 29259 \n",
      "\n"
     ]
    }
   ],
   "source": [
    "for file in dataDict.keys():\n",
    "    print(file,'\\n')\n",
    "    display_head(dataDict[file])"
   ]
  },
  {
   "attachments": {},
   "cell_type": "markdown",
   "metadata": {},
   "source": [
    "#### Exploration Data Analysis"
   ]
  },
  {
   "cell_type": "code",
   "execution_count": 58,
   "metadata": {},
   "outputs": [
    {
     "data": {
      "text/plain": [
       "dict_keys(['aisles', 'departments', 'orders', 'order_products__prior', 'order_products__train', 'products', 'sample_submission'])"
      ]
     },
     "execution_count": 58,
     "metadata": {},
     "output_type": "execute_result"
    }
   ],
   "source": [
    "dataDict.keys()"
   ]
  },
  {
   "cell_type": "code",
   "execution_count": 64,
   "metadata": {},
   "outputs": [],
   "source": [
    "aisles = dataDict['aisles']\n",
    "departments = dataDict['departments']\n",
    "orders = dataDict['orders']\n",
    "order_products__prior = dataDict['order_products__prior']\n",
    "order_products__train = dataDict['order_products__train']\n",
    "products = dataDict['products']\n",
    "sample_submission = dataDict['sample_submission']"
   ]
  },
  {
   "cell_type": "code",
   "execution_count": 72,
   "metadata": {},
   "outputs": [
    {
     "data": {
      "text/plain": [
       "Index(['product_id', 'product_name', 'aisle_id', 'department_id'], dtype='object')"
      ]
     },
     "execution_count": 72,
     "metadata": {},
     "output_type": "execute_result"
    }
   ],
   "source": [
    "products.columns"
   ]
  },
  {
   "cell_type": "code",
   "execution_count": 73,
   "metadata": {},
   "outputs": [],
   "source": [
    "data_frame = order_products__train.merge(orders, on=\"order_id\"\n",
    "                                         ).merge(products, on=\"product_id\"\n",
    "                                                 ).merge(departments, on=\"department_id\"\n",
    "                                                         ).merge(aisles, on=\"aisle_id\")"
   ]
  },
  {
   "cell_type": "code",
   "execution_count": 74,
   "metadata": {},
   "outputs": [
    {
     "data": {
      "text/html": [
       "<div>\n",
       "<style scoped>\n",
       "    .dataframe tbody tr th:only-of-type {\n",
       "        vertical-align: middle;\n",
       "    }\n",
       "\n",
       "    .dataframe tbody tr th {\n",
       "        vertical-align: top;\n",
       "    }\n",
       "\n",
       "    .dataframe thead th {\n",
       "        text-align: right;\n",
       "    }\n",
       "</style>\n",
       "<table border=\"1\" class=\"dataframe\">\n",
       "  <thead>\n",
       "    <tr style=\"text-align: right;\">\n",
       "      <th></th>\n",
       "      <th>order_id</th>\n",
       "      <th>product_id</th>\n",
       "      <th>add_to_cart_order</th>\n",
       "      <th>reordered</th>\n",
       "      <th>user_id</th>\n",
       "      <th>eval_set</th>\n",
       "      <th>order_number</th>\n",
       "      <th>order_dow</th>\n",
       "      <th>order_hour_of_day</th>\n",
       "      <th>days_since_prior_order</th>\n",
       "      <th>product_name</th>\n",
       "      <th>aisle_id</th>\n",
       "      <th>department_id</th>\n",
       "      <th>department</th>\n",
       "      <th>aisle</th>\n",
       "    </tr>\n",
       "  </thead>\n",
       "  <tbody>\n",
       "    <tr>\n",
       "      <th>0</th>\n",
       "      <td>1</td>\n",
       "      <td>49302</td>\n",
       "      <td>1</td>\n",
       "      <td>1</td>\n",
       "      <td>112108</td>\n",
       "      <td>train</td>\n",
       "      <td>4</td>\n",
       "      <td>4</td>\n",
       "      <td>10</td>\n",
       "      <td>9.0</td>\n",
       "      <td>Bulgarian Yogurt</td>\n",
       "      <td>120</td>\n",
       "      <td>16</td>\n",
       "      <td>dairy eggs</td>\n",
       "      <td>yogurt</td>\n",
       "    </tr>\n",
       "    <tr>\n",
       "      <th>1</th>\n",
       "      <td>816049</td>\n",
       "      <td>49302</td>\n",
       "      <td>7</td>\n",
       "      <td>1</td>\n",
       "      <td>47901</td>\n",
       "      <td>train</td>\n",
       "      <td>14</td>\n",
       "      <td>4</td>\n",
       "      <td>6</td>\n",
       "      <td>16.0</td>\n",
       "      <td>Bulgarian Yogurt</td>\n",
       "      <td>120</td>\n",
       "      <td>16</td>\n",
       "      <td>dairy eggs</td>\n",
       "      <td>yogurt</td>\n",
       "    </tr>\n",
       "    <tr>\n",
       "      <th>2</th>\n",
       "      <td>1242203</td>\n",
       "      <td>49302</td>\n",
       "      <td>1</td>\n",
       "      <td>1</td>\n",
       "      <td>2993</td>\n",
       "      <td>train</td>\n",
       "      <td>15</td>\n",
       "      <td>0</td>\n",
       "      <td>7</td>\n",
       "      <td>7.0</td>\n",
       "      <td>Bulgarian Yogurt</td>\n",
       "      <td>120</td>\n",
       "      <td>16</td>\n",
       "      <td>dairy eggs</td>\n",
       "      <td>yogurt</td>\n",
       "    </tr>\n",
       "    <tr>\n",
       "      <th>3</th>\n",
       "      <td>1383349</td>\n",
       "      <td>49302</td>\n",
       "      <td>11</td>\n",
       "      <td>1</td>\n",
       "      <td>41425</td>\n",
       "      <td>train</td>\n",
       "      <td>4</td>\n",
       "      <td>3</td>\n",
       "      <td>8</td>\n",
       "      <td>14.0</td>\n",
       "      <td>Bulgarian Yogurt</td>\n",
       "      <td>120</td>\n",
       "      <td>16</td>\n",
       "      <td>dairy eggs</td>\n",
       "      <td>yogurt</td>\n",
       "    </tr>\n",
       "    <tr>\n",
       "      <th>4</th>\n",
       "      <td>1787378</td>\n",
       "      <td>49302</td>\n",
       "      <td>8</td>\n",
       "      <td>0</td>\n",
       "      <td>187205</td>\n",
       "      <td>train</td>\n",
       "      <td>5</td>\n",
       "      <td>4</td>\n",
       "      <td>14</td>\n",
       "      <td>30.0</td>\n",
       "      <td>Bulgarian Yogurt</td>\n",
       "      <td>120</td>\n",
       "      <td>16</td>\n",
       "      <td>dairy eggs</td>\n",
       "      <td>yogurt</td>\n",
       "    </tr>\n",
       "  </tbody>\n",
       "</table>\n",
       "</div>"
      ],
      "text/plain": [
       "   order_id  product_id  add_to_cart_order  reordered  user_id eval_set   \n",
       "0         1       49302                  1          1   112108    train  \\\n",
       "1    816049       49302                  7          1    47901    train   \n",
       "2   1242203       49302                  1          1     2993    train   \n",
       "3   1383349       49302                 11          1    41425    train   \n",
       "4   1787378       49302                  8          0   187205    train   \n",
       "\n",
       "   order_number  order_dow  order_hour_of_day  days_since_prior_order   \n",
       "0             4          4                 10                     9.0  \\\n",
       "1            14          4                  6                    16.0   \n",
       "2            15          0                  7                     7.0   \n",
       "3             4          3                  8                    14.0   \n",
       "4             5          4                 14                    30.0   \n",
       "\n",
       "       product_name  aisle_id  department_id  department   aisle  \n",
       "0  Bulgarian Yogurt       120             16  dairy eggs  yogurt  \n",
       "1  Bulgarian Yogurt       120             16  dairy eggs  yogurt  \n",
       "2  Bulgarian Yogurt       120             16  dairy eggs  yogurt  \n",
       "3  Bulgarian Yogurt       120             16  dairy eggs  yogurt  \n",
       "4  Bulgarian Yogurt       120             16  dairy eggs  yogurt  "
      ]
     },
     "execution_count": 74,
     "metadata": {},
     "output_type": "execute_result"
    }
   ],
   "source": [
    "data_frame.head()"
   ]
  },
  {
   "cell_type": "code",
   "execution_count": 76,
   "metadata": {},
   "outputs": [
    {
     "data": {
      "text/plain": [
       "(1384617, 15)"
      ]
     },
     "execution_count": 76,
     "metadata": {},
     "output_type": "execute_result"
    }
   ],
   "source": [
    "data_frame.shape"
   ]
  },
  {
   "attachments": {},
   "cell_type": "markdown",
   "metadata": {},
   "source": [
    "Combien de fois un produit a été commander ?"
   ]
  },
  {
   "cell_type": "code",
   "execution_count": 81,
   "metadata": {},
   "outputs": [],
   "source": [
    "id_c = data_frame['product_id'].value_counts()\n",
    "id_c = pd.DataFrame(id_c)\n",
    "id_c.reset_index(inplace=True)\n",
    "id_c.columns = ['product_id', 'count']\n",
    "products_frequence = id_c.merge(products, on=\"product_id\")"
   ]
  },
  {
   "cell_type": "code",
   "execution_count": 82,
   "metadata": {},
   "outputs": [
    {
     "data": {
      "text/html": [
       "<div>\n",
       "<style scoped>\n",
       "    .dataframe tbody tr th:only-of-type {\n",
       "        vertical-align: middle;\n",
       "    }\n",
       "\n",
       "    .dataframe tbody tr th {\n",
       "        vertical-align: top;\n",
       "    }\n",
       "\n",
       "    .dataframe thead th {\n",
       "        text-align: right;\n",
       "    }\n",
       "</style>\n",
       "<table border=\"1\" class=\"dataframe\">\n",
       "  <thead>\n",
       "    <tr style=\"text-align: right;\">\n",
       "      <th></th>\n",
       "      <th>product_id</th>\n",
       "      <th>count</th>\n",
       "      <th>product_name</th>\n",
       "      <th>aisle_id</th>\n",
       "      <th>department_id</th>\n",
       "    </tr>\n",
       "  </thead>\n",
       "  <tbody>\n",
       "    <tr>\n",
       "      <th>0</th>\n",
       "      <td>24852</td>\n",
       "      <td>18726</td>\n",
       "      <td>Banana</td>\n",
       "      <td>24</td>\n",
       "      <td>4</td>\n",
       "    </tr>\n",
       "    <tr>\n",
       "      <th>1</th>\n",
       "      <td>13176</td>\n",
       "      <td>15480</td>\n",
       "      <td>Bag of Organic Bananas</td>\n",
       "      <td>24</td>\n",
       "      <td>4</td>\n",
       "    </tr>\n",
       "    <tr>\n",
       "      <th>2</th>\n",
       "      <td>21137</td>\n",
       "      <td>10894</td>\n",
       "      <td>Organic Strawberries</td>\n",
       "      <td>24</td>\n",
       "      <td>4</td>\n",
       "    </tr>\n",
       "    <tr>\n",
       "      <th>3</th>\n",
       "      <td>21903</td>\n",
       "      <td>9784</td>\n",
       "      <td>Organic Baby Spinach</td>\n",
       "      <td>123</td>\n",
       "      <td>4</td>\n",
       "    </tr>\n",
       "    <tr>\n",
       "      <th>4</th>\n",
       "      <td>47626</td>\n",
       "      <td>8135</td>\n",
       "      <td>Large Lemon</td>\n",
       "      <td>24</td>\n",
       "      <td>4</td>\n",
       "    </tr>\n",
       "  </tbody>\n",
       "</table>\n",
       "</div>"
      ],
      "text/plain": [
       "   product_id  count            product_name  aisle_id  department_id\n",
       "0       24852  18726                  Banana        24              4\n",
       "1       13176  15480  Bag of Organic Bananas        24              4\n",
       "2       21137  10894    Organic Strawberries        24              4\n",
       "3       21903   9784    Organic Baby Spinach       123              4\n",
       "4       47626   8135             Large Lemon        24              4"
      ]
     },
     "execution_count": 82,
     "metadata": {},
     "output_type": "execute_result"
    }
   ],
   "source": [
    "products_frequence.head()"
   ]
  },
  {
   "cell_type": "code",
   "execution_count": 86,
   "metadata": {},
   "outputs": [
    {
     "data": {
      "text/plain": [
       "<Figure size 5000x4000 with 0 Axes>"
      ]
     },
     "metadata": {},
     "output_type": "display_data"
    },
    {
     "data": {
      "image/png": "[encoded data removed]",
      "text/plain": [
       "<Figure size 640x480 with 1 Axes>"
      ]
     },
     "metadata": {},
     "output_type": "display_data"
    }
   ],
   "source": [
    "# Afficher les 20 premiers\n",
    "sns.set()\n",
    "plt.figure(figsize=(50, 40))\n",
    "products_frequence.head(20).plot(kind=\"bar\", x=\"product_name\", y=\"count\")\n",
    "plt.show()"
   ]
  },
  {
   "attachments": {},
   "cell_type": "markdown",
   "metadata": {
    "nteract": {
     "transient": {
      "deleting": false
     }
    }
   },
   "source": [
    "### Transactional Table Preparation"
   ]
  },
  {
   "cell_type": "code",
   "execution_count": 26,
   "metadata": {
    "gather": {
     "logged": 1680458693709
    },
    "jupyter": {
     "outputs_hidden": false,
     "source_hidden": false
    },
    "nteract": {
     "transient": {
      "deleting": false
     }
    }
   },
   "outputs": [],
   "source": [
    "small_train_data = dataDict['order_products__train'][['order_id', 'product_id']]"
   ]
  },
  {
   "cell_type": "code",
   "execution_count": 27,
   "metadata": {
    "gather": {
     "logged": 1680458699856
    },
    "jupyter": {
     "outputs_hidden": false,
     "source_hidden": false
    },
    "nteract": {
     "transient": {
      "deleting": false
     }
    }
   },
   "outputs": [
    {
     "data": {
      "text/plain": [
       "(1384617, 2)"
      ]
     },
     "execution_count": 27,
     "metadata": {},
     "output_type": "execute_result"
    }
   ],
   "source": [
    "small_train_data.shape"
   ]
  },
  {
   "cell_type": "code",
   "execution_count": 28,
   "metadata": {
    "gather": {
     "logged": 1680458713135
    },
    "jupyter": {
     "outputs_hidden": false,
     "source_hidden": false
    },
    "nteract": {
     "transient": {
      "deleting": false
     }
    }
   },
   "outputs": [
    {
     "name": "stdout",
     "output_type": "stream",
     "text": [
      " Il y'a 131209 transactions et 39123 produits\n"
     ]
    }
   ],
   "source": [
    "print(f' Il y\\'a {len(small_train_data.order_id.unique())} transactions et {len(small_train_data.product_id.unique())} produits')"
   ]
  },
  {
   "cell_type": "code",
   "execution_count": 30,
   "metadata": {},
   "outputs": [
    {
     "data": {
      "text/plain": [
       "order_id      int64\n",
       "product_id    int64\n",
       "dtype: object"
      ]
     },
     "execution_count": 30,
     "metadata": {},
     "output_type": "execute_result"
    }
   ],
   "source": [
    "small_train_data.dtypes"
   ]
  },
  {
   "cell_type": "code",
   "execution_count": 32,
   "metadata": {
    "gather": {
     "logged": 1680459095659
    },
    "jupyter": {
     "outputs_hidden": false,
     "source_hidden": false
    },
    "nteract": {
     "transient": {
      "deleting": false
     }
    }
   },
   "outputs": [],
   "source": [
    "# Table of articles\n",
    "products = dataDict[\"products\"]"
   ]
  },
  {
   "cell_type": "code",
   "execution_count": 33,
   "metadata": {},
   "outputs": [
    {
     "data": {
      "text/html": [
       "<div>\n",
       "<style scoped>\n",
       "    .dataframe tbody tr th:only-of-type {\n",
       "        vertical-align: middle;\n",
       "    }\n",
       "\n",
       "    .dataframe tbody tr th {\n",
       "        vertical-align: top;\n",
       "    }\n",
       "\n",
       "    .dataframe thead th {\n",
       "        text-align: right;\n",
       "    }\n",
       "</style>\n",
       "<table border=\"1\" class=\"dataframe\">\n",
       "  <thead>\n",
       "    <tr style=\"text-align: right;\">\n",
       "      <th></th>\n",
       "      <th>product_id</th>\n",
       "      <th>product_name</th>\n",
       "      <th>aisle_id</th>\n",
       "      <th>department_id</th>\n",
       "    </tr>\n",
       "  </thead>\n",
       "  <tbody>\n",
       "    <tr>\n",
       "      <th>0</th>\n",
       "      <td>1</td>\n",
       "      <td>Chocolate Sandwich Cookies</td>\n",
       "      <td>61</td>\n",
       "      <td>19</td>\n",
       "    </tr>\n",
       "    <tr>\n",
       "      <th>1</th>\n",
       "      <td>2</td>\n",
       "      <td>All-Seasons Salt</td>\n",
       "      <td>104</td>\n",
       "      <td>13</td>\n",
       "    </tr>\n",
       "    <tr>\n",
       "      <th>2</th>\n",
       "      <td>3</td>\n",
       "      <td>Robust Golden Unsweetened Oolong Tea</td>\n",
       "      <td>94</td>\n",
       "      <td>7</td>\n",
       "    </tr>\n",
       "    <tr>\n",
       "      <th>3</th>\n",
       "      <td>4</td>\n",
       "      <td>Smart Ones Classic Favorites Mini Rigatoni Wit...</td>\n",
       "      <td>38</td>\n",
       "      <td>1</td>\n",
       "    </tr>\n",
       "    <tr>\n",
       "      <th>4</th>\n",
       "      <td>5</td>\n",
       "      <td>Green Chile Anytime Sauce</td>\n",
       "      <td>5</td>\n",
       "      <td>13</td>\n",
       "    </tr>\n",
       "  </tbody>\n",
       "</table>\n",
       "</div>"
      ],
      "text/plain": [
       "   product_id                                       product_name  aisle_id   \n",
       "0           1                         Chocolate Sandwich Cookies        61  \\\n",
       "1           2                                   All-Seasons Salt       104   \n",
       "2           3               Robust Golden Unsweetened Oolong Tea        94   \n",
       "3           4  Smart Ones Classic Favorites Mini Rigatoni Wit...        38   \n",
       "4           5                          Green Chile Anytime Sauce         5   \n",
       "\n",
       "   department_id  \n",
       "0             19  \n",
       "1             13  \n",
       "2              7  \n",
       "3              1  \n",
       "4             13  "
      ]
     },
     "execution_count": 33,
     "metadata": {},
     "output_type": "execute_result"
    }
   ],
   "source": [
    "products.head()"
   ]
  },
  {
   "cell_type": "code",
   "execution_count": 34,
   "metadata": {},
   "outputs": [
    {
     "data": {
      "text/plain": [
       "product_id       49688\n",
       "product_name     49688\n",
       "aisle_id           134\n",
       "department_id       21\n",
       "dtype: int64"
      ]
     },
     "execution_count": 34,
     "metadata": {},
     "output_type": "execute_result"
    }
   ],
   "source": [
    "products.nunique()"
   ]
  },
  {
   "cell_type": "code",
   "execution_count": 36,
   "metadata": {},
   "outputs": [
    {
     "data": {
      "text/plain": [
       "0                               Chocolate Sandwich Cookies\n",
       "1                                         All-Seasons Salt\n",
       "2                     Robust Golden Unsweetened Oolong Tea\n",
       "3        Smart Ones Classic Favorites Mini Rigatoni Wit...\n",
       "4                                Green Chile Anytime Sauce\n",
       "                               ...                        \n",
       "49683            Vodka, Triple Distilled, Twist of Vanilla\n",
       "49684                   En Croute Roast Hazelnut Cranberry\n",
       "49685                                     Artisan Baguette\n",
       "49686           Smartblend Healthy Metabolism Dry Cat Food\n",
       "49687                               Fresh Foaming Cleanser\n",
       "Name: product_name, Length: 49688, dtype: object"
      ]
     },
     "execution_count": 36,
     "metadata": {},
     "output_type": "execute_result"
    }
   ],
   "source": [
    "products['product_name']"
   ]
  },
  {
   "cell_type": "code",
   "execution_count": 37,
   "metadata": {
    "gather": {
     "logged": 1680459238132
    },
    "jupyter": {
     "outputs_hidden": false,
     "source_hidden": false
    },
    "nteract": {
     "transient": {
      "deleting": false
     }
    }
   },
   "outputs": [],
   "source": [
    "# La table de transaction ne peut pas tenir dans la memeoire\n",
    "# Split en 3 parties\n",
    "small_train_data_split = (small_train_data[:461543],\n",
    "                            small_train_data[461543:461543*2-1],\n",
    "                            small_train_data[461543*2-1:])"
   ]
  },
  {
   "cell_type": "code",
   "execution_count": 43,
   "metadata": {},
   "outputs": [
    {
     "data": {
      "text/plain": [
       "923086"
      ]
     },
     "execution_count": 43,
     "metadata": {},
     "output_type": "execute_result"
    }
   ],
   "source": [
    "small_train_data_split[0].size"
   ]
  },
  {
   "cell_type": "code",
   "execution_count": 44,
   "metadata": {},
   "outputs": [
    {
     "data": {
      "text/plain": [
       "923084"
      ]
     },
     "execution_count": 44,
     "metadata": {},
     "output_type": "execute_result"
    }
   ],
   "source": [
    "small_train_data_split[1].size"
   ]
  },
  {
   "cell_type": "code",
   "execution_count": 46,
   "metadata": {},
   "outputs": [
    {
     "data": {
      "text/plain": [
       "923064"
      ]
     },
     "execution_count": 46,
     "metadata": {},
     "output_type": "execute_result"
    }
   ],
   "source": [
    "small_train_data_split[2].size"
   ]
  },
  {
   "cell_type": "code",
   "execution_count": 47,
   "metadata": {
    "gather": {
     "logged": 1680459934702
    },
    "jupyter": {
     "outputs_hidden": false,
     "source_hidden": false
    },
    "nteract": {
     "transient": {
      "deleting": false
     }
    }
   },
   "outputs": [],
   "source": [
    "#prepa data pour l'efficacite de la memoire, divisé en 3 parties\n",
    "\n",
    "pivots = []\n",
    "for df in small_train_data_split :\n",
    "    pvt = ~(df.pivot(index='order_id', columns='product_id', values='product_id').isna())\n",
    "    pivots.append(pvt.astype(pd.SparseDtype(bool)))\n",
    "del pvt\n",
    "\n",
    "product_cols = sorted(small_train_data.product_id.unique())"
   ]
  },
  {
   "cell_type": "code",
   "execution_count": 48,
   "metadata": {
    "gather": {
     "logged": 1680461063389
    },
    "jupyter": {
     "outputs_hidden": false,
     "source_hidden": false
    },
    "nteract": {
     "transient": {
      "deleting": false
     }
    }
   },
   "outputs": [],
   "source": [
    "for i in range(len(pivots)):\n",
    "    pivots[i] = pivots[i].reindex(columns=product_cols, fill_value=False).astype(pd.SparseDtype(bool))\n",
    "    pivots[i] = sparse.csr_matrix(pivots[i])\n",
    "\n",
    "pivots = sparse.vstack(pivots)\n",
    "\n",
    "truth_table=pd.DataFrame(pivots.todense(), index=small_train_data.order_id.unique(),\n",
    "                        columns=product_cols)"
   ]
  },
  {
   "cell_type": "code",
   "execution_count": 49,
   "metadata": {
    "gather": {
     "logged": 1680461930634
    },
    "jupyter": {
     "outputs_hidden": false,
     "source_hidden": false
    },
    "nteract": {
     "transient": {
      "deleting": false
     }
    }
   },
   "outputs": [
    {
     "data": {
      "text/plain": [
       "(131209, 39123)"
      ]
     },
     "execution_count": 49,
     "metadata": {},
     "output_type": "execute_result"
    }
   ],
   "source": [
    "truth_table.shape"
   ]
  },
  {
   "cell_type": "code",
   "execution_count": 53,
   "metadata": {
    "gather": {
     "logged": 1680461936093
    },
    "jupyter": {
     "outputs_hidden": false,
     "source_hidden": false
    },
    "nteract": {
     "transient": {
      "deleting": false
     }
    }
   },
   "outputs": [
    {
     "data": {
      "text/html": [
       "<div>\n",
       "<style scoped>\n",
       "    .dataframe tbody tr th:only-of-type {\n",
       "        vertical-align: middle;\n",
       "    }\n",
       "\n",
       "    .dataframe tbody tr th {\n",
       "        vertical-align: top;\n",
       "    }\n",
       "\n",
       "    .dataframe thead th {\n",
       "        text-align: right;\n",
       "    }\n",
       "</style>\n",
       "<table border=\"1\" class=\"dataframe\">\n",
       "  <thead>\n",
       "    <tr style=\"text-align: right;\">\n",
       "      <th></th>\n",
       "      <th>1</th>\n",
       "      <th>2</th>\n",
       "      <th>3</th>\n",
       "      <th>4</th>\n",
       "      <th>5</th>\n",
       "      <th>7</th>\n",
       "      <th>8</th>\n",
       "      <th>9</th>\n",
       "      <th>10</th>\n",
       "      <th>11</th>\n",
       "      <th>...</th>\n",
       "      <th>49677</th>\n",
       "      <th>49678</th>\n",
       "      <th>49679</th>\n",
       "      <th>49680</th>\n",
       "      <th>49681</th>\n",
       "      <th>49682</th>\n",
       "      <th>49683</th>\n",
       "      <th>49686</th>\n",
       "      <th>49687</th>\n",
       "      <th>49688</th>\n",
       "    </tr>\n",
       "  </thead>\n",
       "  <tbody>\n",
       "    <tr>\n",
       "      <th>1</th>\n",
       "      <td>False</td>\n",
       "      <td>False</td>\n",
       "      <td>False</td>\n",
       "      <td>False</td>\n",
       "      <td>False</td>\n",
       "      <td>False</td>\n",
       "      <td>False</td>\n",
       "      <td>False</td>\n",
       "      <td>False</td>\n",
       "      <td>False</td>\n",
       "      <td>...</td>\n",
       "      <td>False</td>\n",
       "      <td>False</td>\n",
       "      <td>False</td>\n",
       "      <td>False</td>\n",
       "      <td>False</td>\n",
       "      <td>False</td>\n",
       "      <td>True</td>\n",
       "      <td>False</td>\n",
       "      <td>False</td>\n",
       "      <td>False</td>\n",
       "    </tr>\n",
       "    <tr>\n",
       "      <th>36</th>\n",
       "      <td>False</td>\n",
       "      <td>False</td>\n",
       "      <td>False</td>\n",
       "      <td>False</td>\n",
       "      <td>False</td>\n",
       "      <td>False</td>\n",
       "      <td>False</td>\n",
       "      <td>False</td>\n",
       "      <td>False</td>\n",
       "      <td>False</td>\n",
       "      <td>...</td>\n",
       "      <td>False</td>\n",
       "      <td>False</td>\n",
       "      <td>False</td>\n",
       "      <td>False</td>\n",
       "      <td>False</td>\n",
       "      <td>False</td>\n",
       "      <td>False</td>\n",
       "      <td>False</td>\n",
       "      <td>False</td>\n",
       "      <td>False</td>\n",
       "    </tr>\n",
       "    <tr>\n",
       "      <th>38</th>\n",
       "      <td>False</td>\n",
       "      <td>False</td>\n",
       "      <td>False</td>\n",
       "      <td>False</td>\n",
       "      <td>False</td>\n",
       "      <td>False</td>\n",
       "      <td>False</td>\n",
       "      <td>False</td>\n",
       "      <td>False</td>\n",
       "      <td>False</td>\n",
       "      <td>...</td>\n",
       "      <td>False</td>\n",
       "      <td>False</td>\n",
       "      <td>False</td>\n",
       "      <td>False</td>\n",
       "      <td>False</td>\n",
       "      <td>False</td>\n",
       "      <td>False</td>\n",
       "      <td>False</td>\n",
       "      <td>False</td>\n",
       "      <td>False</td>\n",
       "    </tr>\n",
       "    <tr>\n",
       "      <th>96</th>\n",
       "      <td>False</td>\n",
       "      <td>False</td>\n",
       "      <td>False</td>\n",
       "      <td>False</td>\n",
       "      <td>False</td>\n",
       "      <td>False</td>\n",
       "      <td>False</td>\n",
       "      <td>False</td>\n",
       "      <td>False</td>\n",
       "      <td>False</td>\n",
       "      <td>...</td>\n",
       "      <td>False</td>\n",
       "      <td>False</td>\n",
       "      <td>False</td>\n",
       "      <td>False</td>\n",
       "      <td>False</td>\n",
       "      <td>False</td>\n",
       "      <td>False</td>\n",
       "      <td>False</td>\n",
       "      <td>False</td>\n",
       "      <td>False</td>\n",
       "    </tr>\n",
       "    <tr>\n",
       "      <th>98</th>\n",
       "      <td>False</td>\n",
       "      <td>False</td>\n",
       "      <td>False</td>\n",
       "      <td>False</td>\n",
       "      <td>False</td>\n",
       "      <td>False</td>\n",
       "      <td>False</td>\n",
       "      <td>False</td>\n",
       "      <td>False</td>\n",
       "      <td>False</td>\n",
       "      <td>...</td>\n",
       "      <td>False</td>\n",
       "      <td>False</td>\n",
       "      <td>False</td>\n",
       "      <td>False</td>\n",
       "      <td>False</td>\n",
       "      <td>False</td>\n",
       "      <td>False</td>\n",
       "      <td>False</td>\n",
       "      <td>False</td>\n",
       "      <td>False</td>\n",
       "    </tr>\n",
       "  </tbody>\n",
       "</table>\n",
       "<p>5 rows × 39123 columns</p>\n",
       "</div>"
      ],
      "text/plain": [
       "    1      2      3      4      5      7      8      9      10     11     ...   \n",
       "1   False  False  False  False  False  False  False  False  False  False  ...  \\\n",
       "36  False  False  False  False  False  False  False  False  False  False  ...   \n",
       "38  False  False  False  False  False  False  False  False  False  False  ...   \n",
       "96  False  False  False  False  False  False  False  False  False  False  ...   \n",
       "98  False  False  False  False  False  False  False  False  False  False  ...   \n",
       "\n",
       "    49677  49678  49679  49680  49681  49682  49683  49686  49687  49688  \n",
       "1   False  False  False  False  False  False   True  False  False  False  \n",
       "36  False  False  False  False  False  False  False  False  False  False  \n",
       "38  False  False  False  False  False  False  False  False  False  False  \n",
       "96  False  False  False  False  False  False  False  False  False  False  \n",
       "98  False  False  False  False  False  False  False  False  False  False  \n",
       "\n",
       "[5 rows x 39123 columns]"
      ]
     },
     "execution_count": 53,
     "metadata": {},
     "output_type": "execute_result"
    }
   ],
   "source": [
    "truth_table.head()"
   ]
  },
  {
   "attachments": {},
   "cell_type": "markdown",
   "metadata": {
    "nteract": {
     "transient": {
      "deleting": false
     }
    }
   },
   "source": [
    "## Algorithmes"
   ]
  },
  {
   "attachments": {},
   "cell_type": "markdown",
   "metadata": {
    "nteract": {
     "transient": {
      "deleting": false
     }
    }
   },
   "source": [
    "### Regles d'associations"
   ]
  },
  {
   "attachments": {},
   "cell_type": "markdown",
   "metadata": {
    "nteract": {
     "transient": {
      "deleting": false
     }
    }
   },
   "source": [
    "#### Apriori"
   ]
  },
  {
   "attachments": {},
   "cell_type": "markdown",
   "metadata": {
    "nteract": {
     "transient": {
      "deleting": false
     }
    }
   },
   "source": [
    "Generation des itemset frequents"
   ]
  },
  {
   "cell_type": "code",
   "execution_count": 84,
   "metadata": {
    "gather": {
     "logged": 1680461957170
    },
    "jupyter": {
     "outputs_hidden": false,
     "source_hidden": false
    },
    "nteract": {
     "transient": {
      "deleting": false
     }
    }
   },
   "outputs": [],
   "source": [
    "# Seuil de support\n",
    "min_sup = [0.001*i for i in range(4,100,2) ]"
   ]
  },
  {
   "cell_type": "code",
   "execution_count": 85,
   "metadata": {
    "gather": {
     "logged": 1680462844298
    },
    "jupyter": {
     "outputs_hidden": false,
     "source_hidden": false
    },
    "nteract": {
     "transient": {
      "deleting": false
     }
    }
   },
   "outputs": [],
   "source": [
    "freq_itemsets_ap = []\n",
    "for i in min_sup:\n",
    "    tmp_f = apriori(truth_table, min_support=i, use_colnames=True)\n",
    "    freq_itemsets_ap.append(tmp_f)\n"
   ]
  },
  {
   "cell_type": "code",
   "execution_count": 87,
   "metadata": {
    "gather": {
     "logged": 1680463234275
    },
    "jupyter": {
     "outputs_hidden": false,
     "source_hidden": false
    },
    "nteract": {
     "transient": {
      "deleting": false
     }
    }
   },
   "outputs": [
    {
     "data": {
      "image/png": "[encoded data removed]",
      "text/plain": [
       "<Figure size 640x480 with 1 Axes>"
      ]
     },
     "metadata": {},
     "output_type": "display_data"
    }
   ],
   "source": [
    "# Plot frequent itemset with minsup\n",
    "sns.set()\n",
    "y_ap = [i.shape[0] for i in freq_itemsets_ap]\n",
    "X_ap = min_sup\n",
    "plt.plot(X_ap,y_ap)\n",
    "plt.xlabel('support')\n",
    "plt.ylabel('NofItem')\n",
    "plt.show()\n"
   ]
  },
  {
   "cell_type": "code",
   "execution_count": 88,
   "metadata": {
    "gather": {
     "logged": 1680463255678
    },
    "jupyter": {
     "outputs_hidden": false,
     "source_hidden": false
    },
    "nteract": {
     "transient": {
      "deleting": false
     }
    }
   },
   "outputs": [
    {
     "data": {
      "text/html": [
       "<div>\n",
       "<style scoped>\n",
       "    .dataframe tbody tr th:only-of-type {\n",
       "        vertical-align: middle;\n",
       "    }\n",
       "\n",
       "    .dataframe tbody tr th {\n",
       "        vertical-align: top;\n",
       "    }\n",
       "\n",
       "    .dataframe thead th {\n",
       "        text-align: right;\n",
       "    }\n",
       "</style>\n",
       "<table border=\"1\" class=\"dataframe\">\n",
       "  <thead>\n",
       "    <tr style=\"text-align: right;\">\n",
       "      <th></th>\n",
       "      <th>support</th>\n",
       "      <th>itemsets</th>\n",
       "    </tr>\n",
       "  </thead>\n",
       "  <tbody>\n",
       "    <tr>\n",
       "      <th>0</th>\n",
       "      <td>0.011485</td>\n",
       "      <td>(196)</td>\n",
       "    </tr>\n",
       "    <tr>\n",
       "      <th>1</th>\n",
       "      <td>0.009260</td>\n",
       "      <td>(260)</td>\n",
       "    </tr>\n",
       "    <tr>\n",
       "      <th>2</th>\n",
       "      <td>0.009733</td>\n",
       "      <td>(432)</td>\n",
       "    </tr>\n",
       "    <tr>\n",
       "      <th>3</th>\n",
       "      <td>0.008887</td>\n",
       "      <td>(2295)</td>\n",
       "    </tr>\n",
       "    <tr>\n",
       "      <th>4</th>\n",
       "      <td>0.009893</td>\n",
       "      <td>(3957)</td>\n",
       "    </tr>\n",
       "  </tbody>\n",
       "</table>\n",
       "</div>"
      ],
      "text/plain": [
       "    support itemsets\n",
       "0  0.011485    (196)\n",
       "1  0.009260    (260)\n",
       "2  0.009733    (432)\n",
       "3  0.008887   (2295)\n",
       "4  0.009893   (3957)"
      ]
     },
     "execution_count": 88,
     "metadata": {},
     "output_type": "execute_result"
    }
   ],
   "source": [
    "freq_itemsets_ap[2].head()"
   ]
  },
  {
   "cell_type": "code",
   "execution_count": 89,
   "metadata": {
    "gather": {
     "logged": 1680463260374
    },
    "jupyter": {
     "outputs_hidden": false,
     "source_hidden": false
    },
    "nteract": {
     "transient": {
      "deleting": false
     }
    }
   },
   "outputs": [
    {
     "data": {
      "text/plain": [
       "(169, 2)"
      ]
     },
     "execution_count": 89,
     "metadata": {},
     "output_type": "execute_result"
    }
   ],
   "source": [
    "freq_itemsets_ap[2].shape"
   ]
  },
  {
   "cell_type": "code",
   "execution_count": 90,
   "metadata": {
    "gather": {
     "logged": 1680463297580
    },
    "jupyter": {
     "outputs_hidden": false,
     "source_hidden": false
    },
    "nteract": {
     "transient": {
      "deleting": false
     }
    }
   },
   "outputs": [
    {
     "data": {
      "text/html": [
       "<div>\n",
       "<style scoped>\n",
       "    .dataframe tbody tr th:only-of-type {\n",
       "        vertical-align: middle;\n",
       "    }\n",
       "\n",
       "    .dataframe tbody tr th {\n",
       "        vertical-align: top;\n",
       "    }\n",
       "\n",
       "    .dataframe thead th {\n",
       "        text-align: right;\n",
       "    }\n",
       "</style>\n",
       "<table border=\"1\" class=\"dataframe\">\n",
       "  <thead>\n",
       "    <tr style=\"text-align: right;\">\n",
       "      <th></th>\n",
       "      <th>support</th>\n",
       "      <th>itemsets</th>\n",
       "      <th>length</th>\n",
       "    </tr>\n",
       "  </thead>\n",
       "  <tbody>\n",
       "    <tr>\n",
       "      <th>0</th>\n",
       "      <td>0.011485</td>\n",
       "      <td>(196)</td>\n",
       "      <td>1</td>\n",
       "    </tr>\n",
       "    <tr>\n",
       "      <th>1</th>\n",
       "      <td>0.009260</td>\n",
       "      <td>(260)</td>\n",
       "      <td>1</td>\n",
       "    </tr>\n",
       "    <tr>\n",
       "      <th>2</th>\n",
       "      <td>0.009733</td>\n",
       "      <td>(432)</td>\n",
       "      <td>1</td>\n",
       "    </tr>\n",
       "    <tr>\n",
       "      <th>3</th>\n",
       "      <td>0.008887</td>\n",
       "      <td>(2295)</td>\n",
       "      <td>1</td>\n",
       "    </tr>\n",
       "    <tr>\n",
       "      <th>4</th>\n",
       "      <td>0.009893</td>\n",
       "      <td>(3957)</td>\n",
       "      <td>1</td>\n",
       "    </tr>\n",
       "    <tr>\n",
       "      <th>...</th>\n",
       "      <td>...</td>\n",
       "      <td>...</td>\n",
       "      <td>...</td>\n",
       "    </tr>\n",
       "    <tr>\n",
       "      <th>164</th>\n",
       "      <td>0.009382</td>\n",
       "      <td>(45066, 24852)</td>\n",
       "      <td>2</td>\n",
       "    </tr>\n",
       "    <tr>\n",
       "      <th>165</th>\n",
       "      <td>0.016447</td>\n",
       "      <td>(47626, 24852)</td>\n",
       "      <td>2</td>\n",
       "    </tr>\n",
       "    <tr>\n",
       "      <th>166</th>\n",
       "      <td>0.016889</td>\n",
       "      <td>(24852, 47766)</td>\n",
       "      <td>2</td>\n",
       "    </tr>\n",
       "    <tr>\n",
       "      <th>167</th>\n",
       "      <td>0.012156</td>\n",
       "      <td>(26209, 47626)</td>\n",
       "      <td>2</td>\n",
       "    </tr>\n",
       "    <tr>\n",
       "      <th>168</th>\n",
       "      <td>0.010281</td>\n",
       "      <td>(47626, 47766)</td>\n",
       "      <td>2</td>\n",
       "    </tr>\n",
       "  </tbody>\n",
       "</table>\n",
       "<p>169 rows × 3 columns</p>\n",
       "</div>"
      ],
      "text/plain": [
       "      support        itemsets  length\n",
       "0    0.011485           (196)       1\n",
       "1    0.009260           (260)       1\n",
       "2    0.009733           (432)       1\n",
       "3    0.008887          (2295)       1\n",
       "4    0.009893          (3957)       1\n",
       "..        ...             ...     ...\n",
       "164  0.009382  (45066, 24852)       2\n",
       "165  0.016447  (47626, 24852)       2\n",
       "166  0.016889  (24852, 47766)       2\n",
       "167  0.012156  (26209, 47626)       2\n",
       "168  0.010281  (47626, 47766)       2\n",
       "\n",
       "[169 rows x 3 columns]"
      ]
     },
     "execution_count": 90,
     "metadata": {},
     "output_type": "execute_result"
    }
   ],
   "source": [
    "# Choix apriori avec min sup = 0.8%\n",
    "freq_itemsets_ap_1 =  freq_itemsets_ap[2]\n",
    "freq_itemsets_ap_1['length'] = freq_itemsets_ap_1['itemsets'].apply(lambda x:len(x))\n",
    "freq_itemsets_ap_1"
   ]
  },
  {
   "attachments": {},
   "cell_type": "markdown",
   "metadata": {
    "nteract": {
     "transient": {
      "deleting": false
     }
    }
   },
   "source": [
    "Generer des regles"
   ]
  },
  {
   "cell_type": "code",
   "execution_count": 91,
   "metadata": {
    "gather": {
     "logged": 1680463308330
    },
    "jupyter": {
     "outputs_hidden": false,
     "source_hidden": false
    },
    "nteract": {
     "transient": {
      "deleting": false
     }
    }
   },
   "outputs": [],
   "source": [
    "min_sup_c = 0.001\n",
    "min_conf_c = 0.95"
   ]
  },
  {
   "cell_type": "code",
   "execution_count": 92,
   "metadata": {
    "gather": {
     "logged": 1680463324318
    },
    "jupyter": {
     "outputs_hidden": false,
     "source_hidden": false
    },
    "nteract": {
     "transient": {
      "deleting": false
     }
    }
   },
   "outputs": [],
   "source": [
    "rules_aprioi = association_rules(freq_itemsets_ap_1, metric='support', min_threshold=min_sup_c)"
   ]
  },
  {
   "cell_type": "code",
   "execution_count": 93,
   "metadata": {
    "gather": {
     "logged": 1680463331358
    },
    "jupyter": {
     "outputs_hidden": false,
     "source_hidden": false
    },
    "nteract": {
     "transient": {
      "deleting": false
     }
    }
   },
   "outputs": [
    {
     "data": {
      "text/html": [
       "<div>\n",
       "<style scoped>\n",
       "    .dataframe tbody tr th:only-of-type {\n",
       "        vertical-align: middle;\n",
       "    }\n",
       "\n",
       "    .dataframe tbody tr th {\n",
       "        vertical-align: top;\n",
       "    }\n",
       "\n",
       "    .dataframe thead th {\n",
       "        text-align: right;\n",
       "    }\n",
       "</style>\n",
       "<table border=\"1\" class=\"dataframe\">\n",
       "  <thead>\n",
       "    <tr style=\"text-align: right;\">\n",
       "      <th></th>\n",
       "      <th>antecedents</th>\n",
       "      <th>consequents</th>\n",
       "      <th>antecedent support</th>\n",
       "      <th>consequent support</th>\n",
       "      <th>support</th>\n",
       "      <th>confidence</th>\n",
       "      <th>lift</th>\n",
       "      <th>leverage</th>\n",
       "      <th>conviction</th>\n",
       "      <th>zhangs_metric</th>\n",
       "    </tr>\n",
       "  </thead>\n",
       "  <tbody>\n",
       "    <tr>\n",
       "      <th>0</th>\n",
       "      <td>(24852)</td>\n",
       "      <td>(4605)</td>\n",
       "      <td>0.142719</td>\n",
       "      <td>0.028672</td>\n",
       "      <td>0.008163</td>\n",
       "      <td>0.057193</td>\n",
       "      <td>1.994754</td>\n",
       "      <td>0.004071</td>\n",
       "      <td>1.030252</td>\n",
       "      <td>0.581705</td>\n",
       "    </tr>\n",
       "    <tr>\n",
       "      <th>1</th>\n",
       "      <td>(4605)</td>\n",
       "      <td>(24852)</td>\n",
       "      <td>0.028672</td>\n",
       "      <td>0.142719</td>\n",
       "      <td>0.008163</td>\n",
       "      <td>0.284689</td>\n",
       "      <td>1.994754</td>\n",
       "      <td>0.004071</td>\n",
       "      <td>1.198473</td>\n",
       "      <td>0.513405</td>\n",
       "    </tr>\n",
       "    <tr>\n",
       "      <th>2</th>\n",
       "      <td>(4920)</td>\n",
       "      <td>(24852)</td>\n",
       "      <td>0.030935</td>\n",
       "      <td>0.142719</td>\n",
       "      <td>0.008856</td>\n",
       "      <td>0.286277</td>\n",
       "      <td>2.005883</td>\n",
       "      <td>0.004441</td>\n",
       "      <td>1.201141</td>\n",
       "      <td>0.517475</td>\n",
       "    </tr>\n",
       "    <tr>\n",
       "      <th>3</th>\n",
       "      <td>(24852)</td>\n",
       "      <td>(4920)</td>\n",
       "      <td>0.142719</td>\n",
       "      <td>0.030935</td>\n",
       "      <td>0.008856</td>\n",
       "      <td>0.062053</td>\n",
       "      <td>2.005883</td>\n",
       "      <td>0.004441</td>\n",
       "      <td>1.033176</td>\n",
       "      <td>0.584950</td>\n",
       "    </tr>\n",
       "    <tr>\n",
       "      <th>4</th>\n",
       "      <td>(13176)</td>\n",
       "      <td>(5876)</td>\n",
       "      <td>0.117980</td>\n",
       "      <td>0.026713</td>\n",
       "      <td>0.008132</td>\n",
       "      <td>0.068928</td>\n",
       "      <td>2.580293</td>\n",
       "      <td>0.004980</td>\n",
       "      <td>1.045340</td>\n",
       "      <td>0.694369</td>\n",
       "    </tr>\n",
       "    <tr>\n",
       "      <th>5</th>\n",
       "      <td>(5876)</td>\n",
       "      <td>(13176)</td>\n",
       "      <td>0.026713</td>\n",
       "      <td>0.117980</td>\n",
       "      <td>0.008132</td>\n",
       "      <td>0.304422</td>\n",
       "      <td>2.580293</td>\n",
       "      <td>0.004980</td>\n",
       "      <td>1.268040</td>\n",
       "      <td>0.629257</td>\n",
       "    </tr>\n",
       "    <tr>\n",
       "      <th>6</th>\n",
       "      <td>(13176)</td>\n",
       "      <td>(21137)</td>\n",
       "      <td>0.117980</td>\n",
       "      <td>0.083028</td>\n",
       "      <td>0.023428</td>\n",
       "      <td>0.198579</td>\n",
       "      <td>2.391714</td>\n",
       "      <td>0.013633</td>\n",
       "      <td>1.144183</td>\n",
       "      <td>0.659724</td>\n",
       "    </tr>\n",
       "    <tr>\n",
       "      <th>7</th>\n",
       "      <td>(21137)</td>\n",
       "      <td>(13176)</td>\n",
       "      <td>0.083028</td>\n",
       "      <td>0.117980</td>\n",
       "      <td>0.023428</td>\n",
       "      <td>0.282174</td>\n",
       "      <td>2.391714</td>\n",
       "      <td>0.013633</td>\n",
       "      <td>1.228738</td>\n",
       "      <td>0.634577</td>\n",
       "    </tr>\n",
       "    <tr>\n",
       "      <th>8</th>\n",
       "      <td>(13176)</td>\n",
       "      <td>(21903)</td>\n",
       "      <td>0.117980</td>\n",
       "      <td>0.074568</td>\n",
       "      <td>0.017042</td>\n",
       "      <td>0.144444</td>\n",
       "      <td>1.937082</td>\n",
       "      <td>0.008244</td>\n",
       "      <td>1.081674</td>\n",
       "      <td>0.548468</td>\n",
       "    </tr>\n",
       "    <tr>\n",
       "      <th>9</th>\n",
       "      <td>(21903)</td>\n",
       "      <td>(13176)</td>\n",
       "      <td>0.074568</td>\n",
       "      <td>0.117980</td>\n",
       "      <td>0.017042</td>\n",
       "      <td>0.228536</td>\n",
       "      <td>1.937082</td>\n",
       "      <td>0.008244</td>\n",
       "      <td>1.143308</td>\n",
       "      <td>0.522739</td>\n",
       "    </tr>\n",
       "    <tr>\n",
       "      <th>10</th>\n",
       "      <td>(13176)</td>\n",
       "      <td>(27845)</td>\n",
       "      <td>0.117980</td>\n",
       "      <td>0.037406</td>\n",
       "      <td>0.008521</td>\n",
       "      <td>0.072222</td>\n",
       "      <td>1.930767</td>\n",
       "      <td>0.004108</td>\n",
       "      <td>1.037526</td>\n",
       "      <td>0.546553</td>\n",
       "    </tr>\n",
       "    <tr>\n",
       "      <th>11</th>\n",
       "      <td>(27845)</td>\n",
       "      <td>(13176)</td>\n",
       "      <td>0.037406</td>\n",
       "      <td>0.117980</td>\n",
       "      <td>0.008521</td>\n",
       "      <td>0.227791</td>\n",
       "      <td>1.930767</td>\n",
       "      <td>0.004108</td>\n",
       "      <td>1.142205</td>\n",
       "      <td>0.500804</td>\n",
       "    </tr>\n",
       "    <tr>\n",
       "      <th>12</th>\n",
       "      <td>(13176)</td>\n",
       "      <td>(27966)</td>\n",
       "      <td>0.117980</td>\n",
       "      <td>0.042268</td>\n",
       "      <td>0.013566</td>\n",
       "      <td>0.114987</td>\n",
       "      <td>2.720400</td>\n",
       "      <td>0.008579</td>\n",
       "      <td>1.082167</td>\n",
       "      <td>0.716998</td>\n",
       "    </tr>\n",
       "    <tr>\n",
       "      <th>13</th>\n",
       "      <td>(27966)</td>\n",
       "      <td>(13176)</td>\n",
       "      <td>0.042268</td>\n",
       "      <td>0.117980</td>\n",
       "      <td>0.013566</td>\n",
       "      <td>0.320952</td>\n",
       "      <td>2.720400</td>\n",
       "      <td>0.008579</td>\n",
       "      <td>1.298907</td>\n",
       "      <td>0.660318</td>\n",
       "    </tr>\n",
       "    <tr>\n",
       "      <th>14</th>\n",
       "      <td>(13176)</td>\n",
       "      <td>(30391)</td>\n",
       "      <td>0.117980</td>\n",
       "      <td>0.035158</td>\n",
       "      <td>0.009664</td>\n",
       "      <td>0.081912</td>\n",
       "      <td>2.329853</td>\n",
       "      <td>0.005516</td>\n",
       "      <td>1.050926</td>\n",
       "      <td>0.647137</td>\n",
       "    </tr>\n",
       "    <tr>\n",
       "      <th>15</th>\n",
       "      <td>(30391)</td>\n",
       "      <td>(13176)</td>\n",
       "      <td>0.035158</td>\n",
       "      <td>0.117980</td>\n",
       "      <td>0.009664</td>\n",
       "      <td>0.274875</td>\n",
       "      <td>2.329853</td>\n",
       "      <td>0.005516</td>\n",
       "      <td>1.216371</td>\n",
       "      <td>0.591587</td>\n",
       "    </tr>\n",
       "    <tr>\n",
       "      <th>16</th>\n",
       "      <td>(13176)</td>\n",
       "      <td>(39275)</td>\n",
       "      <td>0.117980</td>\n",
       "      <td>0.037848</td>\n",
       "      <td>0.008666</td>\n",
       "      <td>0.073450</td>\n",
       "      <td>1.940646</td>\n",
       "      <td>0.004200</td>\n",
       "      <td>1.038424</td>\n",
       "      <td>0.549543</td>\n",
       "    </tr>\n",
       "    <tr>\n",
       "      <th>17</th>\n",
       "      <td>(39275)</td>\n",
       "      <td>(13176)</td>\n",
       "      <td>0.037848</td>\n",
       "      <td>0.117980</td>\n",
       "      <td>0.008666</td>\n",
       "      <td>0.228957</td>\n",
       "      <td>1.940646</td>\n",
       "      <td>0.004200</td>\n",
       "      <td>1.143931</td>\n",
       "      <td>0.503775</td>\n",
       "    </tr>\n",
       "    <tr>\n",
       "      <th>18</th>\n",
       "      <td>(13176)</td>\n",
       "      <td>(47209)</td>\n",
       "      <td>0.117980</td>\n",
       "      <td>0.055583</td>\n",
       "      <td>0.018444</td>\n",
       "      <td>0.156331</td>\n",
       "      <td>2.812560</td>\n",
       "      <td>0.011886</td>\n",
       "      <td>1.119416</td>\n",
       "      <td>0.730654</td>\n",
       "    </tr>\n",
       "    <tr>\n",
       "      <th>19</th>\n",
       "      <td>(47209)</td>\n",
       "      <td>(13176)</td>\n",
       "      <td>0.055583</td>\n",
       "      <td>0.117980</td>\n",
       "      <td>0.018444</td>\n",
       "      <td>0.331825</td>\n",
       "      <td>2.812560</td>\n",
       "      <td>0.011886</td>\n",
       "      <td>1.320044</td>\n",
       "      <td>0.682381</td>\n",
       "    </tr>\n",
       "    <tr>\n",
       "      <th>20</th>\n",
       "      <td>(13176)</td>\n",
       "      <td>(47626)</td>\n",
       "      <td>0.117980</td>\n",
       "      <td>0.062000</td>\n",
       "      <td>0.008056</td>\n",
       "      <td>0.068282</td>\n",
       "      <td>1.101311</td>\n",
       "      <td>0.000741</td>\n",
       "      <td>1.006742</td>\n",
       "      <td>0.104296</td>\n",
       "    </tr>\n",
       "    <tr>\n",
       "      <th>21</th>\n",
       "      <td>(47626)</td>\n",
       "      <td>(13176)</td>\n",
       "      <td>0.062000</td>\n",
       "      <td>0.117980</td>\n",
       "      <td>0.008056</td>\n",
       "      <td>0.129932</td>\n",
       "      <td>1.101311</td>\n",
       "      <td>0.000741</td>\n",
       "      <td>1.013738</td>\n",
       "      <td>0.098072</td>\n",
       "    </tr>\n",
       "    <tr>\n",
       "      <th>22</th>\n",
       "      <td>(13176)</td>\n",
       "      <td>(47766)</td>\n",
       "      <td>0.117980</td>\n",
       "      <td>0.056467</td>\n",
       "      <td>0.008155</td>\n",
       "      <td>0.069121</td>\n",
       "      <td>1.224100</td>\n",
       "      <td>0.001493</td>\n",
       "      <td>1.013594</td>\n",
       "      <td>0.207561</td>\n",
       "    </tr>\n",
       "    <tr>\n",
       "      <th>23</th>\n",
       "      <td>(47766)</td>\n",
       "      <td>(13176)</td>\n",
       "      <td>0.056467</td>\n",
       "      <td>0.117980</td>\n",
       "      <td>0.008155</td>\n",
       "      <td>0.144419</td>\n",
       "      <td>1.224100</td>\n",
       "      <td>0.001493</td>\n",
       "      <td>1.030902</td>\n",
       "      <td>0.194029</td>\n",
       "    </tr>\n",
       "    <tr>\n",
       "      <th>24</th>\n",
       "      <td>(24852)</td>\n",
       "      <td>(16797)</td>\n",
       "      <td>0.142719</td>\n",
       "      <td>0.049494</td>\n",
       "      <td>0.014847</td>\n",
       "      <td>0.104026</td>\n",
       "      <td>2.101819</td>\n",
       "      <td>0.007783</td>\n",
       "      <td>1.060864</td>\n",
       "      <td>0.611493</td>\n",
       "    </tr>\n",
       "    <tr>\n",
       "      <th>25</th>\n",
       "      <td>(16797)</td>\n",
       "      <td>(24852)</td>\n",
       "      <td>0.049494</td>\n",
       "      <td>0.142719</td>\n",
       "      <td>0.014847</td>\n",
       "      <td>0.299969</td>\n",
       "      <td>2.101819</td>\n",
       "      <td>0.007783</td>\n",
       "      <td>1.224633</td>\n",
       "      <td>0.551518</td>\n",
       "    </tr>\n",
       "    <tr>\n",
       "      <th>26</th>\n",
       "      <td>(21137)</td>\n",
       "      <td>(21903)</td>\n",
       "      <td>0.083028</td>\n",
       "      <td>0.074568</td>\n",
       "      <td>0.012492</td>\n",
       "      <td>0.150450</td>\n",
       "      <td>2.017617</td>\n",
       "      <td>0.006300</td>\n",
       "      <td>1.089320</td>\n",
       "      <td>0.550034</td>\n",
       "    </tr>\n",
       "    <tr>\n",
       "      <th>27</th>\n",
       "      <td>(21903)</td>\n",
       "      <td>(21137)</td>\n",
       "      <td>0.074568</td>\n",
       "      <td>0.083028</td>\n",
       "      <td>0.012492</td>\n",
       "      <td>0.167518</td>\n",
       "      <td>2.017617</td>\n",
       "      <td>0.006300</td>\n",
       "      <td>1.101492</td>\n",
       "      <td>0.545006</td>\n",
       "    </tr>\n",
       "    <tr>\n",
       "      <th>28</th>\n",
       "      <td>(21137)</td>\n",
       "      <td>(24852)</td>\n",
       "      <td>0.083028</td>\n",
       "      <td>0.142719</td>\n",
       "      <td>0.016569</td>\n",
       "      <td>0.199559</td>\n",
       "      <td>1.398269</td>\n",
       "      <td>0.004719</td>\n",
       "      <td>1.071012</td>\n",
       "      <td>0.310620</td>\n",
       "    </tr>\n",
       "    <tr>\n",
       "      <th>29</th>\n",
       "      <td>(24852)</td>\n",
       "      <td>(21137)</td>\n",
       "      <td>0.142719</td>\n",
       "      <td>0.083028</td>\n",
       "      <td>0.016569</td>\n",
       "      <td>0.116095</td>\n",
       "      <td>1.398269</td>\n",
       "      <td>0.004719</td>\n",
       "      <td>1.037411</td>\n",
       "      <td>0.332248</td>\n",
       "    </tr>\n",
       "    <tr>\n",
       "      <th>30</th>\n",
       "      <td>(21137)</td>\n",
       "      <td>(27966)</td>\n",
       "      <td>0.083028</td>\n",
       "      <td>0.042268</td>\n",
       "      <td>0.012728</td>\n",
       "      <td>0.153295</td>\n",
       "      <td>3.626710</td>\n",
       "      <td>0.009218</td>\n",
       "      <td>1.131128</td>\n",
       "      <td>0.789847</td>\n",
       "    </tr>\n",
       "    <tr>\n",
       "      <th>31</th>\n",
       "      <td>(27966)</td>\n",
       "      <td>(21137)</td>\n",
       "      <td>0.042268</td>\n",
       "      <td>0.083028</td>\n",
       "      <td>0.012728</td>\n",
       "      <td>0.301118</td>\n",
       "      <td>3.626710</td>\n",
       "      <td>0.009218</td>\n",
       "      <td>1.312056</td>\n",
       "      <td>0.756233</td>\n",
       "    </tr>\n",
       "    <tr>\n",
       "      <th>32</th>\n",
       "      <td>(21137)</td>\n",
       "      <td>(39275)</td>\n",
       "      <td>0.083028</td>\n",
       "      <td>0.037848</td>\n",
       "      <td>0.009672</td>\n",
       "      <td>0.116486</td>\n",
       "      <td>3.077735</td>\n",
       "      <td>0.006529</td>\n",
       "      <td>1.089006</td>\n",
       "      <td>0.736212</td>\n",
       "    </tr>\n",
       "    <tr>\n",
       "      <th>33</th>\n",
       "      <td>(39275)</td>\n",
       "      <td>(21137)</td>\n",
       "      <td>0.037848</td>\n",
       "      <td>0.083028</td>\n",
       "      <td>0.009672</td>\n",
       "      <td>0.255538</td>\n",
       "      <td>3.077735</td>\n",
       "      <td>0.006529</td>\n",
       "      <td>1.231724</td>\n",
       "      <td>0.701641</td>\n",
       "    </tr>\n",
       "    <tr>\n",
       "      <th>34</th>\n",
       "      <td>(47209)</td>\n",
       "      <td>(21137)</td>\n",
       "      <td>0.055583</td>\n",
       "      <td>0.083028</td>\n",
       "      <td>0.011729</td>\n",
       "      <td>0.211024</td>\n",
       "      <td>2.541609</td>\n",
       "      <td>0.007114</td>\n",
       "      <td>1.162231</td>\n",
       "      <td>0.642246</td>\n",
       "    </tr>\n",
       "    <tr>\n",
       "      <th>35</th>\n",
       "      <td>(21137)</td>\n",
       "      <td>(47209)</td>\n",
       "      <td>0.083028</td>\n",
       "      <td>0.055583</td>\n",
       "      <td>0.011729</td>\n",
       "      <td>0.141270</td>\n",
       "      <td>2.541609</td>\n",
       "      <td>0.007114</td>\n",
       "      <td>1.099784</td>\n",
       "      <td>0.661469</td>\n",
       "    </tr>\n",
       "    <tr>\n",
       "      <th>36</th>\n",
       "      <td>(21137)</td>\n",
       "      <td>(47766)</td>\n",
       "      <td>0.083028</td>\n",
       "      <td>0.056467</td>\n",
       "      <td>0.008292</td>\n",
       "      <td>0.099871</td>\n",
       "      <td>1.768665</td>\n",
       "      <td>0.003604</td>\n",
       "      <td>1.048220</td>\n",
       "      <td>0.473953</td>\n",
       "    </tr>\n",
       "    <tr>\n",
       "      <th>37</th>\n",
       "      <td>(47766)</td>\n",
       "      <td>(21137)</td>\n",
       "      <td>0.056467</td>\n",
       "      <td>0.083028</td>\n",
       "      <td>0.008292</td>\n",
       "      <td>0.146848</td>\n",
       "      <td>1.768665</td>\n",
       "      <td>0.003604</td>\n",
       "      <td>1.074806</td>\n",
       "      <td>0.460611</td>\n",
       "    </tr>\n",
       "    <tr>\n",
       "      <th>38</th>\n",
       "      <td>(24852)</td>\n",
       "      <td>(21903)</td>\n",
       "      <td>0.142719</td>\n",
       "      <td>0.074568</td>\n",
       "      <td>0.015243</td>\n",
       "      <td>0.106803</td>\n",
       "      <td>1.432294</td>\n",
       "      <td>0.004601</td>\n",
       "      <td>1.036090</td>\n",
       "      <td>0.352066</td>\n",
       "    </tr>\n",
       "    <tr>\n",
       "      <th>39</th>\n",
       "      <td>(21903)</td>\n",
       "      <td>(24852)</td>\n",
       "      <td>0.074568</td>\n",
       "      <td>0.142719</td>\n",
       "      <td>0.015243</td>\n",
       "      <td>0.204415</td>\n",
       "      <td>1.432294</td>\n",
       "      <td>0.004601</td>\n",
       "      <td>1.077549</td>\n",
       "      <td>0.326139</td>\n",
       "    </tr>\n",
       "    <tr>\n",
       "      <th>40</th>\n",
       "      <td>(47209)</td>\n",
       "      <td>(21903)</td>\n",
       "      <td>0.055583</td>\n",
       "      <td>0.074568</td>\n",
       "      <td>0.009542</td>\n",
       "      <td>0.171671</td>\n",
       "      <td>2.302212</td>\n",
       "      <td>0.005397</td>\n",
       "      <td>1.117228</td>\n",
       "      <td>0.598925</td>\n",
       "    </tr>\n",
       "    <tr>\n",
       "      <th>41</th>\n",
       "      <td>(21903)</td>\n",
       "      <td>(47209)</td>\n",
       "      <td>0.074568</td>\n",
       "      <td>0.055583</td>\n",
       "      <td>0.009542</td>\n",
       "      <td>0.127964</td>\n",
       "      <td>2.302212</td>\n",
       "      <td>0.005397</td>\n",
       "      <td>1.083002</td>\n",
       "      <td>0.611212</td>\n",
       "    </tr>\n",
       "    <tr>\n",
       "      <th>42</th>\n",
       "      <td>(47626)</td>\n",
       "      <td>(21903)</td>\n",
       "      <td>0.062000</td>\n",
       "      <td>0.074568</td>\n",
       "      <td>0.009435</td>\n",
       "      <td>0.152182</td>\n",
       "      <td>2.040846</td>\n",
       "      <td>0.004812</td>\n",
       "      <td>1.091545</td>\n",
       "      <td>0.543718</td>\n",
       "    </tr>\n",
       "    <tr>\n",
       "      <th>43</th>\n",
       "      <td>(21903)</td>\n",
       "      <td>(47626)</td>\n",
       "      <td>0.074568</td>\n",
       "      <td>0.062000</td>\n",
       "      <td>0.009435</td>\n",
       "      <td>0.126533</td>\n",
       "      <td>2.040846</td>\n",
       "      <td>0.004812</td>\n",
       "      <td>1.073881</td>\n",
       "      <td>0.551102</td>\n",
       "    </tr>\n",
       "    <tr>\n",
       "      <th>44</th>\n",
       "      <td>(47766)</td>\n",
       "      <td>(21903)</td>\n",
       "      <td>0.056467</td>\n",
       "      <td>0.074568</td>\n",
       "      <td>0.010685</td>\n",
       "      <td>0.189229</td>\n",
       "      <td>2.537673</td>\n",
       "      <td>0.006475</td>\n",
       "      <td>1.141423</td>\n",
       "      <td>0.642201</td>\n",
       "    </tr>\n",
       "    <tr>\n",
       "      <th>45</th>\n",
       "      <td>(21903)</td>\n",
       "      <td>(47766)</td>\n",
       "      <td>0.074568</td>\n",
       "      <td>0.056467</td>\n",
       "      <td>0.010685</td>\n",
       "      <td>0.143295</td>\n",
       "      <td>2.537673</td>\n",
       "      <td>0.006475</td>\n",
       "      <td>1.101351</td>\n",
       "      <td>0.654763</td>\n",
       "    </tr>\n",
       "    <tr>\n",
       "      <th>46</th>\n",
       "      <td>(26209)</td>\n",
       "      <td>(24852)</td>\n",
       "      <td>0.045980</td>\n",
       "      <td>0.142719</td>\n",
       "      <td>0.010144</td>\n",
       "      <td>0.220620</td>\n",
       "      <td>1.545836</td>\n",
       "      <td>0.003582</td>\n",
       "      <td>1.099953</td>\n",
       "      <td>0.370119</td>\n",
       "    </tr>\n",
       "    <tr>\n",
       "      <th>47</th>\n",
       "      <td>(24852)</td>\n",
       "      <td>(26209)</td>\n",
       "      <td>0.142719</td>\n",
       "      <td>0.045980</td>\n",
       "      <td>0.010144</td>\n",
       "      <td>0.071078</td>\n",
       "      <td>1.545836</td>\n",
       "      <td>0.003582</td>\n",
       "      <td>1.027018</td>\n",
       "      <td>0.411884</td>\n",
       "    </tr>\n",
       "    <tr>\n",
       "      <th>48</th>\n",
       "      <td>(28204)</td>\n",
       "      <td>(24852)</td>\n",
       "      <td>0.024823</td>\n",
       "      <td>0.142719</td>\n",
       "      <td>0.009222</td>\n",
       "      <td>0.371508</td>\n",
       "      <td>2.603072</td>\n",
       "      <td>0.005679</td>\n",
       "      <td>1.364028</td>\n",
       "      <td>0.631515</td>\n",
       "    </tr>\n",
       "    <tr>\n",
       "      <th>49</th>\n",
       "      <td>(24852)</td>\n",
       "      <td>(28204)</td>\n",
       "      <td>0.142719</td>\n",
       "      <td>0.024823</td>\n",
       "      <td>0.009222</td>\n",
       "      <td>0.064616</td>\n",
       "      <td>2.603072</td>\n",
       "      <td>0.005679</td>\n",
       "      <td>1.042542</td>\n",
       "      <td>0.718362</td>\n",
       "    </tr>\n",
       "    <tr>\n",
       "      <th>50</th>\n",
       "      <td>(45066)</td>\n",
       "      <td>(24852)</td>\n",
       "      <td>0.027064</td>\n",
       "      <td>0.142719</td>\n",
       "      <td>0.009382</td>\n",
       "      <td>0.346663</td>\n",
       "      <td>2.428991</td>\n",
       "      <td>0.005519</td>\n",
       "      <td>1.312157</td>\n",
       "      <td>0.604671</td>\n",
       "    </tr>\n",
       "    <tr>\n",
       "      <th>51</th>\n",
       "      <td>(24852)</td>\n",
       "      <td>(45066)</td>\n",
       "      <td>0.142719</td>\n",
       "      <td>0.027064</td>\n",
       "      <td>0.009382</td>\n",
       "      <td>0.065737</td>\n",
       "      <td>2.428991</td>\n",
       "      <td>0.005519</td>\n",
       "      <td>1.041395</td>\n",
       "      <td>0.686247</td>\n",
       "    </tr>\n",
       "    <tr>\n",
       "      <th>52</th>\n",
       "      <td>(47626)</td>\n",
       "      <td>(24852)</td>\n",
       "      <td>0.062000</td>\n",
       "      <td>0.142719</td>\n",
       "      <td>0.016447</td>\n",
       "      <td>0.265274</td>\n",
       "      <td>1.858714</td>\n",
       "      <td>0.007598</td>\n",
       "      <td>1.166803</td>\n",
       "      <td>0.492531</td>\n",
       "    </tr>\n",
       "    <tr>\n",
       "      <th>53</th>\n",
       "      <td>(24852)</td>\n",
       "      <td>(47626)</td>\n",
       "      <td>0.142719</td>\n",
       "      <td>0.062000</td>\n",
       "      <td>0.016447</td>\n",
       "      <td>0.115241</td>\n",
       "      <td>1.858714</td>\n",
       "      <td>0.007598</td>\n",
       "      <td>1.060175</td>\n",
       "      <td>0.538905</td>\n",
       "    </tr>\n",
       "    <tr>\n",
       "      <th>54</th>\n",
       "      <td>(24852)</td>\n",
       "      <td>(47766)</td>\n",
       "      <td>0.142719</td>\n",
       "      <td>0.056467</td>\n",
       "      <td>0.016889</td>\n",
       "      <td>0.118338</td>\n",
       "      <td>2.095698</td>\n",
       "      <td>0.008830</td>\n",
       "      <td>1.070175</td>\n",
       "      <td>0.609872</td>\n",
       "    </tr>\n",
       "    <tr>\n",
       "      <th>55</th>\n",
       "      <td>(47766)</td>\n",
       "      <td>(24852)</td>\n",
       "      <td>0.056467</td>\n",
       "      <td>0.142719</td>\n",
       "      <td>0.016889</td>\n",
       "      <td>0.299096</td>\n",
       "      <td>2.095698</td>\n",
       "      <td>0.008830</td>\n",
       "      <td>1.223107</td>\n",
       "      <td>0.554122</td>\n",
       "    </tr>\n",
       "    <tr>\n",
       "      <th>56</th>\n",
       "      <td>(26209)</td>\n",
       "      <td>(47626)</td>\n",
       "      <td>0.045980</td>\n",
       "      <td>0.062000</td>\n",
       "      <td>0.012156</td>\n",
       "      <td>0.264379</td>\n",
       "      <td>4.264159</td>\n",
       "      <td>0.009305</td>\n",
       "      <td>1.275113</td>\n",
       "      <td>0.802381</td>\n",
       "    </tr>\n",
       "    <tr>\n",
       "      <th>57</th>\n",
       "      <td>(47626)</td>\n",
       "      <td>(26209)</td>\n",
       "      <td>0.062000</td>\n",
       "      <td>0.045980</td>\n",
       "      <td>0.012156</td>\n",
       "      <td>0.196066</td>\n",
       "      <td>4.264159</td>\n",
       "      <td>0.009305</td>\n",
       "      <td>1.186690</td>\n",
       "      <td>0.816085</td>\n",
       "    </tr>\n",
       "    <tr>\n",
       "      <th>58</th>\n",
       "      <td>(47626)</td>\n",
       "      <td>(47766)</td>\n",
       "      <td>0.062000</td>\n",
       "      <td>0.056467</td>\n",
       "      <td>0.010281</td>\n",
       "      <td>0.165827</td>\n",
       "      <td>2.936692</td>\n",
       "      <td>0.006780</td>\n",
       "      <td>1.131099</td>\n",
       "      <td>0.703071</td>\n",
       "    </tr>\n",
       "    <tr>\n",
       "      <th>59</th>\n",
       "      <td>(47766)</td>\n",
       "      <td>(47626)</td>\n",
       "      <td>0.056467</td>\n",
       "      <td>0.062000</td>\n",
       "      <td>0.010281</td>\n",
       "      <td>0.182076</td>\n",
       "      <td>2.936692</td>\n",
       "      <td>0.006780</td>\n",
       "      <td>1.146805</td>\n",
       "      <td>0.698948</td>\n",
       "    </tr>\n",
       "  </tbody>\n",
       "</table>\n",
       "</div>"
      ],
      "text/plain": [
       "   antecedents consequents  antecedent support  consequent support   support   \n",
       "0      (24852)      (4605)            0.142719            0.028672  0.008163  \\\n",
       "1       (4605)     (24852)            0.028672            0.142719  0.008163   \n",
       "2       (4920)     (24852)            0.030935            0.142719  0.008856   \n",
       "3      (24852)      (4920)            0.142719            0.030935  0.008856   \n",
       "4      (13176)      (5876)            0.117980            0.026713  0.008132   \n",
       "5       (5876)     (13176)            0.026713            0.117980  0.008132   \n",
       "6      (13176)     (21137)            0.117980            0.083028  0.023428   \n",
       "7      (21137)     (13176)            0.083028            0.117980  0.023428   \n",
       "8      (13176)     (21903)            0.117980            0.074568  0.017042   \n",
       "9      (21903)     (13176)            0.074568            0.117980  0.017042   \n",
       "10     (13176)     (27845)            0.117980            0.037406  0.008521   \n",
       "11     (27845)     (13176)            0.037406            0.117980  0.008521   \n",
       "12     (13176)     (27966)            0.117980            0.042268  0.013566   \n",
       "13     (27966)     (13176)            0.042268            0.117980  0.013566   \n",
       "14     (13176)     (30391)            0.117980            0.035158  0.009664   \n",
       "15     (30391)     (13176)            0.035158            0.117980  0.009664   \n",
       "16     (13176)     (39275)            0.117980            0.037848  0.008666   \n",
       "17     (39275)     (13176)            0.037848            0.117980  0.008666   \n",
       "18     (13176)     (47209)            0.117980            0.055583  0.018444   \n",
       "19     (47209)     (13176)            0.055583            0.117980  0.018444   \n",
       "20     (13176)     (47626)            0.117980            0.062000  0.008056   \n",
       "21     (47626)     (13176)            0.062000            0.117980  0.008056   \n",
       "22     (13176)     (47766)            0.117980            0.056467  0.008155   \n",
       "23     (47766)     (13176)            0.056467            0.117980  0.008155   \n",
       "24     (24852)     (16797)            0.142719            0.049494  0.014847   \n",
       "25     (16797)     (24852)            0.049494            0.142719  0.014847   \n",
       "26     (21137)     (21903)            0.083028            0.074568  0.012492   \n",
       "27     (21903)     (21137)            0.074568            0.083028  0.012492   \n",
       "28     (21137)     (24852)            0.083028            0.142719  0.016569   \n",
       "29     (24852)     (21137)            0.142719            0.083028  0.016569   \n",
       "30     (21137)     (27966)            0.083028            0.042268  0.012728   \n",
       "31     (27966)     (21137)            0.042268            0.083028  0.012728   \n",
       "32     (21137)     (39275)            0.083028            0.037848  0.009672   \n",
       "33     (39275)     (21137)            0.037848            0.083028  0.009672   \n",
       "34     (47209)     (21137)            0.055583            0.083028  0.011729   \n",
       "35     (21137)     (47209)            0.083028            0.055583  0.011729   \n",
       "36     (21137)     (47766)            0.083028            0.056467  0.008292   \n",
       "37     (47766)     (21137)            0.056467            0.083028  0.008292   \n",
       "38     (24852)     (21903)            0.142719            0.074568  0.015243   \n",
       "39     (21903)     (24852)            0.074568            0.142719  0.015243   \n",
       "40     (47209)     (21903)            0.055583            0.074568  0.009542   \n",
       "41     (21903)     (47209)            0.074568            0.055583  0.009542   \n",
       "42     (47626)     (21903)            0.062000            0.074568  0.009435   \n",
       "43     (21903)     (47626)            0.074568            0.062000  0.009435   \n",
       "44     (47766)     (21903)            0.056467            0.074568  0.010685   \n",
       "45     (21903)     (47766)            0.074568            0.056467  0.010685   \n",
       "46     (26209)     (24852)            0.045980            0.142719  0.010144   \n",
       "47     (24852)     (26209)            0.142719            0.045980  0.010144   \n",
       "48     (28204)     (24852)            0.024823            0.142719  0.009222   \n",
       "49     (24852)     (28204)            0.142719            0.024823  0.009222   \n",
       "50     (45066)     (24852)            0.027064            0.142719  0.009382   \n",
       "51     (24852)     (45066)            0.142719            0.027064  0.009382   \n",
       "52     (47626)     (24852)            0.062000            0.142719  0.016447   \n",
       "53     (24852)     (47626)            0.142719            0.062000  0.016447   \n",
       "54     (24852)     (47766)            0.142719            0.056467  0.016889   \n",
       "55     (47766)     (24852)            0.056467            0.142719  0.016889   \n",
       "56     (26209)     (47626)            0.045980            0.062000  0.012156   \n",
       "57     (47626)     (26209)            0.062000            0.045980  0.012156   \n",
       "58     (47626)     (47766)            0.062000            0.056467  0.010281   \n",
       "59     (47766)     (47626)            0.056467            0.062000  0.010281   \n",
       "\n",
       "    confidence      lift  leverage  conviction  zhangs_metric  \n",
       "0     0.057193  1.994754  0.004071    1.030252       0.581705  \n",
       "1     0.284689  1.994754  0.004071    1.198473       0.513405  \n",
       "2     0.286277  2.005883  0.004441    1.201141       0.517475  \n",
       "3     0.062053  2.005883  0.004441    1.033176       0.584950  \n",
       "4     0.068928  2.580293  0.004980    1.045340       0.694369  \n",
       "5     0.304422  2.580293  0.004980    1.268040       0.629257  \n",
       "6     0.198579  2.391714  0.013633    1.144183       0.659724  \n",
       "7     0.282174  2.391714  0.013633    1.228738       0.634577  \n",
       "8     0.144444  1.937082  0.008244    1.081674       0.548468  \n",
       "9     0.228536  1.937082  0.008244    1.143308       0.522739  \n",
       "10    0.072222  1.930767  0.004108    1.037526       0.546553  \n",
       "11    0.227791  1.930767  0.004108    1.142205       0.500804  \n",
       "12    0.114987  2.720400  0.008579    1.082167       0.716998  \n",
       "13    0.320952  2.720400  0.008579    1.298907       0.660318  \n",
       "14    0.081912  2.329853  0.005516    1.050926       0.647137  \n",
       "15    0.274875  2.329853  0.005516    1.216371       0.591587  \n",
       "16    0.073450  1.940646  0.004200    1.038424       0.549543  \n",
       "17    0.228957  1.940646  0.004200    1.143931       0.503775  \n",
       "18    0.156331  2.812560  0.011886    1.119416       0.730654  \n",
       "19    0.331825  2.812560  0.011886    1.320044       0.682381  \n",
       "20    0.068282  1.101311  0.000741    1.006742       0.104296  \n",
       "21    0.129932  1.101311  0.000741    1.013738       0.098072  \n",
       "22    0.069121  1.224100  0.001493    1.013594       0.207561  \n",
       "23    0.144419  1.224100  0.001493    1.030902       0.194029  \n",
       "24    0.104026  2.101819  0.007783    1.060864       0.611493  \n",
       "25    0.299969  2.101819  0.007783    1.224633       0.551518  \n",
       "26    0.150450  2.017617  0.006300    1.089320       0.550034  \n",
       "27    0.167518  2.017617  0.006300    1.101492       0.545006  \n",
       "28    0.199559  1.398269  0.004719    1.071012       0.310620  \n",
       "29    0.116095  1.398269  0.004719    1.037411       0.332248  \n",
       "30    0.153295  3.626710  0.009218    1.131128       0.789847  \n",
       "31    0.301118  3.626710  0.009218    1.312056       0.756233  \n",
       "32    0.116486  3.077735  0.006529    1.089006       0.736212  \n",
       "33    0.255538  3.077735  0.006529    1.231724       0.701641  \n",
       "34    0.211024  2.541609  0.007114    1.162231       0.642246  \n",
       "35    0.141270  2.541609  0.007114    1.099784       0.661469  \n",
       "36    0.099871  1.768665  0.003604    1.048220       0.473953  \n",
       "37    0.146848  1.768665  0.003604    1.074806       0.460611  \n",
       "38    0.106803  1.432294  0.004601    1.036090       0.352066  \n",
       "39    0.204415  1.432294  0.004601    1.077549       0.326139  \n",
       "40    0.171671  2.302212  0.005397    1.117228       0.598925  \n",
       "41    0.127964  2.302212  0.005397    1.083002       0.611212  \n",
       "42    0.152182  2.040846  0.004812    1.091545       0.543718  \n",
       "43    0.126533  2.040846  0.004812    1.073881       0.551102  \n",
       "44    0.189229  2.537673  0.006475    1.141423       0.642201  \n",
       "45    0.143295  2.537673  0.006475    1.101351       0.654763  \n",
       "46    0.220620  1.545836  0.003582    1.099953       0.370119  \n",
       "47    0.071078  1.545836  0.003582    1.027018       0.411884  \n",
       "48    0.371508  2.603072  0.005679    1.364028       0.631515  \n",
       "49    0.064616  2.603072  0.005679    1.042542       0.718362  \n",
       "50    0.346663  2.428991  0.005519    1.312157       0.604671  \n",
       "51    0.065737  2.428991  0.005519    1.041395       0.686247  \n",
       "52    0.265274  1.858714  0.007598    1.166803       0.492531  \n",
       "53    0.115241  1.858714  0.007598    1.060175       0.538905  \n",
       "54    0.118338  2.095698  0.008830    1.070175       0.609872  \n",
       "55    0.299096  2.095698  0.008830    1.223107       0.554122  \n",
       "56    0.264379  4.264159  0.009305    1.275113       0.802381  \n",
       "57    0.196066  4.264159  0.009305    1.186690       0.816085  \n",
       "58    0.165827  2.936692  0.006780    1.131099       0.703071  \n",
       "59    0.182076  2.936692  0.006780    1.146805       0.698948  "
      ]
     },
     "execution_count": 93,
     "metadata": {},
     "output_type": "execute_result"
    }
   ],
   "source": [
    "rules_aprioi"
   ]
  },
  {
   "cell_type": "code",
   "execution_count": 26,
   "metadata": {
    "gather": {
     "logged": 1680493157383
    },
    "jupyter": {
     "outputs_hidden": false,
     "source_hidden": false
    },
    "nteract": {
     "transient": {
      "deleting": false
     }
    }
   },
   "outputs": [
    {
     "data": {
      "text/html": [
       "<div>\n",
       "<style scoped>\n",
       "    .dataframe tbody tr th:only-of-type {\n",
       "        vertical-align: middle;\n",
       "    }\n",
       "\n",
       "    .dataframe tbody tr th {\n",
       "        vertical-align: top;\n",
       "    }\n",
       "\n",
       "    .dataframe thead th {\n",
       "        text-align: right;\n",
       "    }\n",
       "</style>\n",
       "<table border=\"1\" class=\"dataframe\">\n",
       "  <thead>\n",
       "    <tr style=\"text-align: right;\">\n",
       "      <th></th>\n",
       "      <th>antecedents</th>\n",
       "      <th>consequents</th>\n",
       "      <th>antecedent support</th>\n",
       "      <th>consequent support</th>\n",
       "      <th>support</th>\n",
       "      <th>confidence</th>\n",
       "      <th>lift</th>\n",
       "      <th>leverage</th>\n",
       "      <th>conviction</th>\n",
       "    </tr>\n",
       "  </thead>\n",
       "  <tbody>\n",
       "    <tr>\n",
       "      <th>0</th>\n",
       "      <td>(24852)</td>\n",
       "      <td>(4605)</td>\n",
       "      <td>0.142719</td>\n",
       "      <td>0.028672</td>\n",
       "      <td>0.008163</td>\n",
       "      <td>0.057193</td>\n",
       "      <td>1.994754</td>\n",
       "      <td>0.004071</td>\n",
       "      <td>1.030252</td>\n",
       "    </tr>\n",
       "    <tr>\n",
       "      <th>1</th>\n",
       "      <td>(4605)</td>\n",
       "      <td>(24852)</td>\n",
       "      <td>0.028672</td>\n",
       "      <td>0.142719</td>\n",
       "      <td>0.008163</td>\n",
       "      <td>0.284689</td>\n",
       "      <td>1.994754</td>\n",
       "      <td>0.004071</td>\n",
       "      <td>1.198473</td>\n",
       "    </tr>\n",
       "    <tr>\n",
       "      <th>2</th>\n",
       "      <td>(4920)</td>\n",
       "      <td>(24852)</td>\n",
       "      <td>0.030935</td>\n",
       "      <td>0.142719</td>\n",
       "      <td>0.008856</td>\n",
       "      <td>0.286277</td>\n",
       "      <td>2.005883</td>\n",
       "      <td>0.004441</td>\n",
       "      <td>1.201141</td>\n",
       "    </tr>\n",
       "    <tr>\n",
       "      <th>3</th>\n",
       "      <td>(24852)</td>\n",
       "      <td>(4920)</td>\n",
       "      <td>0.142719</td>\n",
       "      <td>0.030935</td>\n",
       "      <td>0.008856</td>\n",
       "      <td>0.062053</td>\n",
       "      <td>2.005883</td>\n",
       "      <td>0.004441</td>\n",
       "      <td>1.033176</td>\n",
       "    </tr>\n",
       "    <tr>\n",
       "      <th>4</th>\n",
       "      <td>(13176)</td>\n",
       "      <td>(5876)</td>\n",
       "      <td>0.117980</td>\n",
       "      <td>0.026713</td>\n",
       "      <td>0.008132</td>\n",
       "      <td>0.068928</td>\n",
       "      <td>2.580293</td>\n",
       "      <td>0.004980</td>\n",
       "      <td>1.045340</td>\n",
       "    </tr>\n",
       "  </tbody>\n",
       "</table>\n",
       "</div>"
      ],
      "text/plain": [
       "  antecedents consequents  antecedent support  consequent support   support  \\\n",
       "0     (24852)      (4605)            0.142719            0.028672  0.008163   \n",
       "1      (4605)     (24852)            0.028672            0.142719  0.008163   \n",
       "2      (4920)     (24852)            0.030935            0.142719  0.008856   \n",
       "3     (24852)      (4920)            0.142719            0.030935  0.008856   \n",
       "4     (13176)      (5876)            0.117980            0.026713  0.008132   \n",
       "\n",
       "   confidence      lift  leverage  conviction  \n",
       "0    0.057193  1.994754  0.004071    1.030252  \n",
       "1    0.284689  1.994754  0.004071    1.198473  \n",
       "2    0.286277  2.005883  0.004441    1.201141  \n",
       "3    0.062053  2.005883  0.004441    1.033176  \n",
       "4    0.068928  2.580293  0.004980    1.045340  "
      ]
     },
     "execution_count": 26,
     "metadata": {},
     "output_type": "execute_result"
    }
   ],
   "source": [
    "rules_aprioi.head()"
   ]
  },
  {
   "cell_type": "code",
   "execution_count": 94,
   "metadata": {
    "gather": {
     "logged": 1680463358062
    },
    "jupyter": {
     "outputs_hidden": false,
     "source_hidden": false
    },
    "nteract": {
     "transient": {
      "deleting": false
     }
    }
   },
   "outputs": [
    {
     "data": {
      "text/html": [
       "<div>\n",
       "<style scoped>\n",
       "    .dataframe tbody tr th:only-of-type {\n",
       "        vertical-align: middle;\n",
       "    }\n",
       "\n",
       "    .dataframe tbody tr th {\n",
       "        vertical-align: top;\n",
       "    }\n",
       "\n",
       "    .dataframe thead th {\n",
       "        text-align: right;\n",
       "    }\n",
       "</style>\n",
       "<table border=\"1\" class=\"dataframe\">\n",
       "  <thead>\n",
       "    <tr style=\"text-align: right;\">\n",
       "      <th></th>\n",
       "      <th>antecedents</th>\n",
       "      <th>consequents</th>\n",
       "      <th>antecedent support</th>\n",
       "      <th>consequent support</th>\n",
       "      <th>support</th>\n",
       "      <th>confidence</th>\n",
       "      <th>lift</th>\n",
       "      <th>leverage</th>\n",
       "      <th>conviction</th>\n",
       "      <th>zhangs_metric</th>\n",
       "    </tr>\n",
       "  </thead>\n",
       "  <tbody>\n",
       "    <tr>\n",
       "      <th>48</th>\n",
       "      <td>(28204)</td>\n",
       "      <td>(24852)</td>\n",
       "      <td>0.024823</td>\n",
       "      <td>0.142719</td>\n",
       "      <td>0.009222</td>\n",
       "      <td>0.371508</td>\n",
       "      <td>2.603072</td>\n",
       "      <td>0.005679</td>\n",
       "      <td>1.364028</td>\n",
       "      <td>0.631515</td>\n",
       "    </tr>\n",
       "    <tr>\n",
       "      <th>50</th>\n",
       "      <td>(45066)</td>\n",
       "      <td>(24852)</td>\n",
       "      <td>0.027064</td>\n",
       "      <td>0.142719</td>\n",
       "      <td>0.009382</td>\n",
       "      <td>0.346663</td>\n",
       "      <td>2.428991</td>\n",
       "      <td>0.005519</td>\n",
       "      <td>1.312157</td>\n",
       "      <td>0.604671</td>\n",
       "    </tr>\n",
       "    <tr>\n",
       "      <th>19</th>\n",
       "      <td>(47209)</td>\n",
       "      <td>(13176)</td>\n",
       "      <td>0.055583</td>\n",
       "      <td>0.117980</td>\n",
       "      <td>0.018444</td>\n",
       "      <td>0.331825</td>\n",
       "      <td>2.812560</td>\n",
       "      <td>0.011886</td>\n",
       "      <td>1.320044</td>\n",
       "      <td>0.682381</td>\n",
       "    </tr>\n",
       "    <tr>\n",
       "      <th>13</th>\n",
       "      <td>(27966)</td>\n",
       "      <td>(13176)</td>\n",
       "      <td>0.042268</td>\n",
       "      <td>0.117980</td>\n",
       "      <td>0.013566</td>\n",
       "      <td>0.320952</td>\n",
       "      <td>2.720400</td>\n",
       "      <td>0.008579</td>\n",
       "      <td>1.298907</td>\n",
       "      <td>0.660318</td>\n",
       "    </tr>\n",
       "    <tr>\n",
       "      <th>5</th>\n",
       "      <td>(5876)</td>\n",
       "      <td>(13176)</td>\n",
       "      <td>0.026713</td>\n",
       "      <td>0.117980</td>\n",
       "      <td>0.008132</td>\n",
       "      <td>0.304422</td>\n",
       "      <td>2.580293</td>\n",
       "      <td>0.004980</td>\n",
       "      <td>1.268040</td>\n",
       "      <td>0.629257</td>\n",
       "    </tr>\n",
       "    <tr>\n",
       "      <th>31</th>\n",
       "      <td>(27966)</td>\n",
       "      <td>(21137)</td>\n",
       "      <td>0.042268</td>\n",
       "      <td>0.083028</td>\n",
       "      <td>0.012728</td>\n",
       "      <td>0.301118</td>\n",
       "      <td>3.626710</td>\n",
       "      <td>0.009218</td>\n",
       "      <td>1.312056</td>\n",
       "      <td>0.756233</td>\n",
       "    </tr>\n",
       "    <tr>\n",
       "      <th>25</th>\n",
       "      <td>(16797)</td>\n",
       "      <td>(24852)</td>\n",
       "      <td>0.049494</td>\n",
       "      <td>0.142719</td>\n",
       "      <td>0.014847</td>\n",
       "      <td>0.299969</td>\n",
       "      <td>2.101819</td>\n",
       "      <td>0.007783</td>\n",
       "      <td>1.224633</td>\n",
       "      <td>0.551518</td>\n",
       "    </tr>\n",
       "    <tr>\n",
       "      <th>55</th>\n",
       "      <td>(47766)</td>\n",
       "      <td>(24852)</td>\n",
       "      <td>0.056467</td>\n",
       "      <td>0.142719</td>\n",
       "      <td>0.016889</td>\n",
       "      <td>0.299096</td>\n",
       "      <td>2.095698</td>\n",
       "      <td>0.008830</td>\n",
       "      <td>1.223107</td>\n",
       "      <td>0.554122</td>\n",
       "    </tr>\n",
       "    <tr>\n",
       "      <th>2</th>\n",
       "      <td>(4920)</td>\n",
       "      <td>(24852)</td>\n",
       "      <td>0.030935</td>\n",
       "      <td>0.142719</td>\n",
       "      <td>0.008856</td>\n",
       "      <td>0.286277</td>\n",
       "      <td>2.005883</td>\n",
       "      <td>0.004441</td>\n",
       "      <td>1.201141</td>\n",
       "      <td>0.517475</td>\n",
       "    </tr>\n",
       "    <tr>\n",
       "      <th>1</th>\n",
       "      <td>(4605)</td>\n",
       "      <td>(24852)</td>\n",
       "      <td>0.028672</td>\n",
       "      <td>0.142719</td>\n",
       "      <td>0.008163</td>\n",
       "      <td>0.284689</td>\n",
       "      <td>1.994754</td>\n",
       "      <td>0.004071</td>\n",
       "      <td>1.198473</td>\n",
       "      <td>0.513405</td>\n",
       "    </tr>\n",
       "  </tbody>\n",
       "</table>\n",
       "</div>"
      ],
      "text/plain": [
       "   antecedents consequents  antecedent support  consequent support   support   \n",
       "48     (28204)     (24852)            0.024823            0.142719  0.009222  \\\n",
       "50     (45066)     (24852)            0.027064            0.142719  0.009382   \n",
       "19     (47209)     (13176)            0.055583            0.117980  0.018444   \n",
       "13     (27966)     (13176)            0.042268            0.117980  0.013566   \n",
       "5       (5876)     (13176)            0.026713            0.117980  0.008132   \n",
       "31     (27966)     (21137)            0.042268            0.083028  0.012728   \n",
       "25     (16797)     (24852)            0.049494            0.142719  0.014847   \n",
       "55     (47766)     (24852)            0.056467            0.142719  0.016889   \n",
       "2       (4920)     (24852)            0.030935            0.142719  0.008856   \n",
       "1       (4605)     (24852)            0.028672            0.142719  0.008163   \n",
       "\n",
       "    confidence      lift  leverage  conviction  zhangs_metric  \n",
       "48    0.371508  2.603072  0.005679    1.364028       0.631515  \n",
       "50    0.346663  2.428991  0.005519    1.312157       0.604671  \n",
       "19    0.331825  2.812560  0.011886    1.320044       0.682381  \n",
       "13    0.320952  2.720400  0.008579    1.298907       0.660318  \n",
       "5     0.304422  2.580293  0.004980    1.268040       0.629257  \n",
       "31    0.301118  3.626710  0.009218    1.312056       0.756233  \n",
       "25    0.299969  2.101819  0.007783    1.224633       0.551518  \n",
       "55    0.299096  2.095698  0.008830    1.223107       0.554122  \n",
       "2     0.286277  2.005883  0.004441    1.201141       0.517475  \n",
       "1     0.284689  1.994754  0.004071    1.198473       0.513405  "
      ]
     },
     "execution_count": 94,
     "metadata": {},
     "output_type": "execute_result"
    }
   ],
   "source": [
    "rules_aprioi.sort_values(by='confidence',ascending=False)[:10]"
   ]
  },
  {
   "attachments": {},
   "cell_type": "markdown",
   "metadata": {
    "nteract": {
     "transient": {
      "deleting": false
     }
    }
   },
   "source": [
    "Predictions"
   ]
  },
  {
   "cell_type": "code",
   "execution_count": 100,
   "metadata": {
    "gather": {
     "logged": 1680480279330
    },
    "jupyter": {
     "outputs_hidden": false,
     "source_hidden": false
    },
    "nteract": {
     "transient": {
      "deleting": false
     }
    }
   },
   "outputs": [],
   "source": [
    "rules_ante_cons = rules_aprioi[['antecedents', 'consequents']]"
   ]
  },
  {
   "cell_type": "code",
   "execution_count": 95,
   "metadata": {
    "gather": {
     "logged": 1680480359160
    },
    "jupyter": {
     "outputs_hidden": false,
     "source_hidden": false
    },
    "nteract": {
     "transient": {
      "deleting": false
     }
    }
   },
   "outputs": [],
   "source": [
    "baskets = small_train_data.groupby('order_id')['product_id'].apply(frozenset)"
   ]
  },
  {
   "cell_type": "code",
   "execution_count": 96,
   "metadata": {
    "gather": {
     "logged": 1680480375684
    },
    "jupyter": {
     "outputs_hidden": false,
     "source_hidden": false
    },
    "nteract": {
     "transient": {
      "deleting": false
     }
    }
   },
   "outputs": [
    {
     "data": {
      "text/plain": [
       "order_id\n",
       "1          (11109, 10246, 47209, 43633, 49683, 22035, 493...\n",
       "36         (34497, 46979, 48679, 19660, 43086, 49235, 396...\n",
       "38         (42625, 23622, 11913, 28842, 4461, 39693, 1815...\n",
       "96         (40706, 24489, 25610, 39275, 30391, 20574, 27966)\n",
       "98         (46720, 24964, 4357, 43654, 18441, 36364, 3406...\n",
       "                                 ...                        \n",
       "3421049           (40800, 34243, 17706, 33424, 26800, 17299)\n",
       "3421056                    (21709, 12432, 5750, 16475, 9340)\n",
       "3421058    (34466, 6244, 6858, 32650, 30316, 15629, 35578...\n",
       "3421063                         (14233, 49235, 35548, 13565)\n",
       "3421070                                 (16953, 4724, 35951)\n",
       "Name: product_id, Length: 131209, dtype: object"
      ]
     },
     "execution_count": 96,
     "metadata": {},
     "output_type": "execute_result"
    }
   ],
   "source": [
    "baskets"
   ]
  },
  {
   "cell_type": "code",
   "execution_count": 97,
   "metadata": {
    "gather": {
     "logged": 1680480412970
    },
    "jupyter": {
     "outputs_hidden": false,
     "source_hidden": false
    },
    "nteract": {
     "transient": {
      "deleting": false
     }
    }
   },
   "outputs": [],
   "source": [
    "baskets.name = 'basket'"
   ]
  },
  {
   "cell_type": "code",
   "execution_count": 98,
   "metadata": {
    "gather": {
     "logged": 1680480592534
    },
    "jupyter": {
     "outputs_hidden": false,
     "source_hidden": false
    },
    "nteract": {
     "transient": {
      "deleting": false
     }
    }
   },
   "outputs": [],
   "source": [
    "recommendations = train_orders.join(baskets, on='order_id')\n",
    "recommendations['recommendations'] = [frozenset() for _ in range(len(recommendations))]"
   ]
  },
  {
   "cell_type": "code",
   "execution_count": 101,
   "metadata": {
    "gather": {
     "logged": 1680480660799
    },
    "jupyter": {
     "outputs_hidden": false,
     "source_hidden": false
    },
    "nteract": {
     "transient": {
      "deleting": false
     }
    }
   },
   "outputs": [],
   "source": [
    "for idx, antecedent in enumerate(rules_ante_cons[\"antecedents\"]):\n",
    "    lookup = antecedent <= recommendations.basket, \"recommendations\"\n",
    "    recommendations.loc[lookup] = recommendations.loc[lookup].apply(\n",
    "        frozenset.union,\n",
    "        args=(rules_ante_cons.loc[idx, \"consequents\"],)\n",
    "    )"
   ]
  },
  {
   "cell_type": "code",
   "execution_count": 102,
   "metadata": {
    "gather": {
     "logged": 1680480677186
    },
    "jupyter": {
     "outputs_hidden": false,
     "source_hidden": false
    },
    "nteract": {
     "transient": {
      "deleting": false
     }
    }
   },
   "outputs": [],
   "source": [
    "recommendations.loc[:, \"recommendations\"] = recommendations.recommendations - recommendations.basket"
   ]
  },
  {
   "cell_type": "code",
   "execution_count": 103,
   "metadata": {
    "gather": {
     "logged": 1680480922606
    },
    "jupyter": {
     "outputs_hidden": false,
     "source_hidden": false
    },
    "nteract": {
     "transient": {
      "deleting": false
     }
    }
   },
   "outputs": [
    {
     "name": "stdout",
     "output_type": "stream",
     "text": [
      "1 out of approx. 2 transactions will result in a recommendation being suggested to a customer.\n",
      "         order_id  user_id  order_number  order_dow  order_hour_of_day   \n",
      "10        1187899        1            11          4                  8  \\\n",
      "25        1492625        2            15          1                 11   \n",
      "74         525192        7            21          2                 11   \n",
      "78         880375        8             4          1                 14   \n",
      "200       2180313       17            41          3                 10   \n",
      "...           ...      ...           ...        ...                ...   \n",
      "3420786   3383615   206196             5          0                 15   \n",
      "3420862    943915   206200            24          6                 19   \n",
      "3420924   2371631   206203             6          4                 19   \n",
      "3420933   1716008   206205             4          1                 16   \n",
      "3421082    272231   206209            14          6                 14   \n",
      "\n",
      "         days_since_prior_order   \n",
      "10                         14.0  \\\n",
      "25                         30.0   \n",
      "74                          6.0   \n",
      "78                         10.0   \n",
      "200                        30.0   \n",
      "...                         ...   \n",
      "3420786                    30.0   \n",
      "3420862                     6.0   \n",
      "3420924                    30.0   \n",
      "3420933                    10.0   \n",
      "3421082                    30.0   \n",
      "\n",
      "                                                    basket   \n",
      "10       (Organic String Cheese, Soda, Cinnamon Toast C...  \\\n",
      "25       (Small Hass Avocado, Bartlett Pears, Mexican C...   \n",
      "74       (Lactose Free Fat Free Milk, Vanilla Coffee Co...   \n",
      "78       (Solid White-No Salt Added Albacore Tuna, Soft...   \n",
      "200      (Raspberries, Strawberries, Grade A Extra Larg...   \n",
      "...                                                    ...   \n",
      "3420786  (Blackberry Cucumber Sparkling Water, Cashews ...   \n",
      "3420862  (Organic Baby Broccoli, Milk Chocolate Covered...   \n",
      "3420924  (Organic Lori's Lemon Tea, Honest T Mango Whit...   \n",
      "3420933  (Raspberry Yoghurt, Organic Blackberries, Cara...   \n",
      "3421082  (Fabric Softener Sheets, French Baguette Bread...   \n",
      "\n",
      "                                           recommendations  \n",
      "10                                (Bag of Organic Bananas)  \n",
      "25       (Large Lemon, Organic Avocado, Organic Fuji Ap...  \n",
      "74                                                (Banana)  \n",
      "78       (Organic Hass Avocado, Large Lemon, Organic St...  \n",
      "200                                               (Banana)  \n",
      "...                                                    ...  \n",
      "3420786  (Large Lemon, Organic Avocado, Organic Fuji Ap...  \n",
      "3420862  (Large Lemon, Organic Raspberries, Organic Avo...  \n",
      "3420924  (Organic Hass Avocado, Large Lemon, Organic Ra...  \n",
      "3420933  (Organic Hass Avocado, Large Lemon, Organic Av...  \n",
      "3421082  (Large Lemon, Organic Avocado, Organic Fuji Ap...  \n",
      "\n",
      "[67809 rows x 8 columns]\n"
     ]
    }
   ],
   "source": [
    "# non-empty recommendations\n",
    "non_empty_recs = recommendations[recommendations.recommendations.apply(bool)]\n",
    "print(\"1 out of approx.\", round(1/(len(non_empty_recs) / len(recommendations))), \"transactions will result in a recommendation being suggested to a customer.\")\n",
    "# mapping codes to product names\n",
    "def map_products(codes):\n",
    "    if isinstance(codes, pd.Series):\n",
    "        return codes.apply(map_products)\n",
    "    return frozenset(map(products.get, codes))\n",
    "\n",
    "products = dataDict[\"products\"]\n",
    "products = products.set_index(\"product_id\")[\"product_name\"].to_dict()\n",
    "non_empty_recs.loc[:, [\"basket\", \"recommendations\"]] = non_empty_recs[[\"basket\", \"recommendations\"]].apply(map_products)\n",
    "print(non_empty_recs)"
   ]
  },
  {
   "cell_type": "code",
   "execution_count": 37,
   "metadata": {
    "gather": {
     "logged": 1680481158434
    },
    "jupyter": {
     "outputs_hidden": false,
     "source_hidden": false
    },
    "nteract": {
     "transient": {
      "deleting": false
     }
    }
   },
   "outputs": [],
   "source": [
    "# a redefinir\n",
    "def arl_recommender(rules_df, product):\n",
    "    sorted_rules = rules_df.sort_values(\"lift\", ascending=False)\n",
    "    recommendation_list = []\n",
    "    for i, antecedent in enumerate(sorted_rules[\"antecedents\"]):\n",
    "        if product in antecedent:\n",
    "            recommendation_list.append(list(sorted_rules.iloc[i][\"consequents\"])[0])\n",
    "    return recommendation_list\n"
   ]
  },
  {
   "cell_type": "code",
   "execution_count": 38,
   "metadata": {
    "gather": {
     "logged": 1680481284572
    },
    "jupyter": {
     "outputs_hidden": false,
     "source_hidden": false
    },
    "nteract": {
     "transient": {
      "deleting": false
     }
    }
   },
   "outputs": [
    {
     "data": {
      "text/plain": [
       "[24852]"
      ]
     },
     "execution_count": 38,
     "metadata": {},
     "output_type": "execute_result"
    }
   ],
   "source": [
    "\n",
    "arl_recommender(rules_aprioi, 28204)"
   ]
  },
  {
   "cell_type": "code",
   "execution_count": 39,
   "metadata": {
    "gather": {
     "logged": 1680481322957
    },
    "jupyter": {
     "outputs_hidden": false,
     "source_hidden": false
    },
    "nteract": {
     "transient": {
      "deleting": false
     }
    }
   },
   "outputs": [
    {
     "data": {
      "text/plain": [
       "[28204, 45066, 16797, 47766, 4920, 4605, 47626, 26209, 21903, 21137]"
      ]
     },
     "execution_count": 39,
     "metadata": {},
     "output_type": "execute_result"
    }
   ],
   "source": [
    "arl_recommender(rules_aprioi, 24852)"
   ]
  },
  {
   "attachments": {},
   "cell_type": "markdown",
   "metadata": {
    "nteract": {
     "transient": {
      "deleting": false
     }
    }
   },
   "source": [
    "#### FPGrowth"
   ]
  },
  {
   "attachments": {},
   "cell_type": "markdown",
   "metadata": {
    "nteract": {
     "transient": {
      "deleting": false
     }
    }
   },
   "source": [
    "* Memory test"
   ]
  },
  {
   "cell_type": "code",
   "execution_count": 40,
   "metadata": {
    "gather": {
     "logged": 1680481914735
    },
    "jupyter": {
     "outputs_hidden": false,
     "source_hidden": false
    },
    "nteract": {
     "transient": {
      "deleting": false
     }
    }
   },
   "outputs": [],
   "source": [
    "tmp_g = fpgrowth(truth_table, min_support=0.0001, use_colnames=True)"
   ]
  },
  {
   "cell_type": "code",
   "execution_count": 41,
   "metadata": {
    "gather": {
     "logged": 1680494020841
    },
    "jupyter": {
     "outputs_hidden": false,
     "source_hidden": false
    },
    "nteract": {
     "transient": {
      "deleting": false
     }
    }
   },
   "outputs": [
    {
     "data": {
      "text/html": [
       "<div>\n",
       "<style scoped>\n",
       "    .dataframe tbody tr th:only-of-type {\n",
       "        vertical-align: middle;\n",
       "    }\n",
       "\n",
       "    .dataframe tbody tr th {\n",
       "        vertical-align: top;\n",
       "    }\n",
       "\n",
       "    .dataframe thead th {\n",
       "        text-align: right;\n",
       "    }\n",
       "</style>\n",
       "<table border=\"1\" class=\"dataframe\">\n",
       "  <thead>\n",
       "    <tr style=\"text-align: right;\">\n",
       "      <th></th>\n",
       "      <th>support</th>\n",
       "      <th>itemsets</th>\n",
       "    </tr>\n",
       "  </thead>\n",
       "  <tbody>\n",
       "    <tr>\n",
       "      <th>0</th>\n",
       "      <td>0.117980</td>\n",
       "      <td>(13176)</td>\n",
       "    </tr>\n",
       "    <tr>\n",
       "      <th>1</th>\n",
       "      <td>0.055583</td>\n",
       "      <td>(47209)</td>\n",
       "    </tr>\n",
       "    <tr>\n",
       "      <th>2</th>\n",
       "      <td>0.018391</td>\n",
       "      <td>(49683)</td>\n",
       "    </tr>\n",
       "    <tr>\n",
       "      <th>3</th>\n",
       "      <td>0.015190</td>\n",
       "      <td>(22035)</td>\n",
       "    </tr>\n",
       "    <tr>\n",
       "      <th>4</th>\n",
       "      <td>0.008094</td>\n",
       "      <td>(10246)</td>\n",
       "    </tr>\n",
       "    <tr>\n",
       "      <th>...</th>\n",
       "      <td>...</td>\n",
       "      <td>...</td>\n",
       "    </tr>\n",
       "    <tr>\n",
       "      <th>136389</th>\n",
       "      <td>0.000191</td>\n",
       "      <td>(17630, 895)</td>\n",
       "    </tr>\n",
       "    <tr>\n",
       "      <th>136390</th>\n",
       "      <td>0.000122</td>\n",
       "      <td>(24852, 895)</td>\n",
       "    </tr>\n",
       "    <tr>\n",
       "      <th>136391</th>\n",
       "      <td>0.000122</td>\n",
       "      <td>(18987, 44870)</td>\n",
       "    </tr>\n",
       "    <tr>\n",
       "      <th>136392</th>\n",
       "      <td>0.000107</td>\n",
       "      <td>(42345, 42085)</td>\n",
       "    </tr>\n",
       "    <tr>\n",
       "      <th>136393</th>\n",
       "      <td>0.000107</td>\n",
       "      <td>(23953, 27553)</td>\n",
       "    </tr>\n",
       "  </tbody>\n",
       "</table>\n",
       "<p>136394 rows × 2 columns</p>\n",
       "</div>"
      ],
      "text/plain": [
       "         support        itemsets\n",
       "0       0.117980         (13176)\n",
       "1       0.055583         (47209)\n",
       "2       0.018391         (49683)\n",
       "3       0.015190         (22035)\n",
       "4       0.008094         (10246)\n",
       "...          ...             ...\n",
       "136389  0.000191    (17630, 895)\n",
       "136390  0.000122    (24852, 895)\n",
       "136391  0.000122  (18987, 44870)\n",
       "136392  0.000107  (42345, 42085)\n",
       "136393  0.000107  (23953, 27553)\n",
       "\n",
       "[136394 rows x 2 columns]"
      ]
     },
     "execution_count": 41,
     "metadata": {},
     "output_type": "execute_result"
    }
   ],
   "source": [
    "tmp_g"
   ]
  },
  {
   "cell_type": "code",
   "execution_count": 42,
   "metadata": {
    "gather": {
     "logged": 1681682896510
    },
    "jupyter": {
     "outputs_hidden": false,
     "source_hidden": false
    },
    "nteract": {
     "transient": {
      "deleting": false
     }
    }
   },
   "outputs": [
    {
     "ename": "MemoryError",
     "evalue": "Unable to allocate 15.9 TiB for an array with shape (66741681, 2, 131209) and data type bool",
     "output_type": "error",
     "traceback": [
      "\u001b[1;31m---------------------------------------------------------------------------\u001b[0m",
      "\u001b[1;31mMemoryError\u001b[0m                               Traceback (most recent call last)",
      "\u001b[1;32m~\\AppData\\Local\\Temp/ipykernel_13064/429739304.py\u001b[0m in \u001b[0;36m<module>\u001b[1;34m\u001b[0m\n\u001b[1;32m----> 1\u001b[1;33m \u001b[0mtmp_a\u001b[0m \u001b[1;33m=\u001b[0m \u001b[0mapriori\u001b[0m\u001b[1;33m(\u001b[0m\u001b[0mtruth_table\u001b[0m\u001b[1;33m,\u001b[0m \u001b[0mmin_support\u001b[0m\u001b[1;33m=\u001b[0m\u001b[1;36m0.0001\u001b[0m\u001b[1;33m,\u001b[0m \u001b[0muse_colnames\u001b[0m\u001b[1;33m=\u001b[0m\u001b[1;32mTrue\u001b[0m\u001b[1;33m)\u001b[0m\u001b[1;33m\u001b[0m\u001b[1;33m\u001b[0m\u001b[0m\n\u001b[0m",
      "\u001b[1;32m~\\anaconda3\\lib\\site-packages\\mlxtend\\frequent_patterns\\apriori.py\u001b[0m in \u001b[0;36mapriori\u001b[1;34m(df, min_support, use_colnames, max_len, verbose, low_memory)\u001b[0m\n\u001b[0;32m    307\u001b[0m                     \u001b[0m_bools\u001b[0m \u001b[1;33m=\u001b[0m \u001b[0m_bools\u001b[0m \u001b[1;33m&\u001b[0m \u001b[1;33m(\u001b[0m\u001b[0mX\u001b[0m\u001b[1;33m[\u001b[0m\u001b[1;33m:\u001b[0m\u001b[1;33m,\u001b[0m \u001b[0mcombin\u001b[0m\u001b[1;33m[\u001b[0m\u001b[1;33m:\u001b[0m\u001b[1;33m,\u001b[0m \u001b[0mn\u001b[0m\u001b[1;33m]\u001b[0m\u001b[1;33m]\u001b[0m \u001b[1;33m==\u001b[0m \u001b[0mall_ones\u001b[0m\u001b[1;33m)\u001b[0m\u001b[1;33m\u001b[0m\u001b[1;33m\u001b[0m\u001b[0m\n\u001b[0;32m    308\u001b[0m             \u001b[1;32melse\u001b[0m\u001b[1;33m:\u001b[0m\u001b[1;33m\u001b[0m\u001b[1;33m\u001b[0m\u001b[0m\n\u001b[1;32m--> 309\u001b[1;33m                 \u001b[0m_bools\u001b[0m \u001b[1;33m=\u001b[0m \u001b[0mnp\u001b[0m\u001b[1;33m.\u001b[0m\u001b[0mall\u001b[0m\u001b[1;33m(\u001b[0m\u001b[0mX\u001b[0m\u001b[1;33m[\u001b[0m\u001b[1;33m:\u001b[0m\u001b[1;33m,\u001b[0m \u001b[0mcombin\u001b[0m\u001b[1;33m]\u001b[0m\u001b[1;33m,\u001b[0m \u001b[0maxis\u001b[0m\u001b[1;33m=\u001b[0m\u001b[1;36m2\u001b[0m\u001b[1;33m)\u001b[0m\u001b[1;33m\u001b[0m\u001b[1;33m\u001b[0m\u001b[0m\n\u001b[0m\u001b[0;32m    310\u001b[0m \u001b[1;33m\u001b[0m\u001b[0m\n\u001b[0;32m    311\u001b[0m             \u001b[0msupport\u001b[0m \u001b[1;33m=\u001b[0m \u001b[0m_support\u001b[0m\u001b[1;33m(\u001b[0m\u001b[0mnp\u001b[0m\u001b[1;33m.\u001b[0m\u001b[0marray\u001b[0m\u001b[1;33m(\u001b[0m\u001b[0m_bools\u001b[0m\u001b[1;33m)\u001b[0m\u001b[1;33m,\u001b[0m \u001b[0mrows_count\u001b[0m\u001b[1;33m,\u001b[0m \u001b[0mis_sparse\u001b[0m\u001b[1;33m)\u001b[0m\u001b[1;33m\u001b[0m\u001b[1;33m\u001b[0m\u001b[0m\n",
      "\u001b[1;31mMemoryError\u001b[0m: Unable to allocate 15.9 TiB for an array with shape (66741681, 2, 131209) and data type bool"
     ]
    }
   ],
   "source": [
    "tmp_a = apriori(truth_table, min_support=0.0001, use_colnames=True)"
   ]
  },
  {
   "attachments": {},
   "cell_type": "markdown",
   "metadata": {
    "nteract": {
     "transient": {
      "deleting": false
     }
    }
   },
   "source": [
    "Frequent itemset"
   ]
  },
  {
   "cell_type": "code",
   "execution_count": 43,
   "metadata": {
    "gather": {
     "logged": 1680481707588
    },
    "jupyter": {
     "outputs_hidden": false,
     "source_hidden": false
    },
    "nteract": {
     "transient": {
      "deleting": false
     }
    }
   },
   "outputs": [],
   "source": [
    "freq_itemsets_fpg = []\n",
    "for i in min_sup:\n",
    "    tmp_f = fpgrowth(truth_table, min_support=i, use_colnames=True)\n",
    "    freq_itemsets_fpg.append(tmp_f)"
   ]
  },
  {
   "cell_type": "code",
   "execution_count": 44,
   "metadata": {
    "gather": {
     "logged": 1680481720506
    },
    "jupyter": {
     "outputs_hidden": false,
     "source_hidden": false
    },
    "nteract": {
     "transient": {
      "deleting": false
     }
    }
   },
   "outputs": [
    {
     "data": {
      "image/png": "[encoded data removed]",
      "text/plain": [
       "<Figure size 432x288 with 1 Axes>"
      ]
     },
     "metadata": {},
     "output_type": "display_data"
    }
   ],
   "source": [
    "# Plot frequent itemset with minsup\n",
    "y_fpg = [i.shape[0] for i in freq_itemsets_fpg]\n",
    "X_fpg = min_sup\n",
    "plt.plot(X_fpg,y_fpg)\n",
    "plt.show()\n"
   ]
  },
  {
   "cell_type": "code",
   "execution_count": 45,
   "metadata": {
    "gather": {
     "logged": 1680481728080
    },
    "jupyter": {
     "outputs_hidden": false,
     "source_hidden": false
    },
    "nteract": {
     "transient": {
      "deleting": false
     }
    }
   },
   "outputs": [
    {
     "data": {
      "text/html": [
       "<div>\n",
       "<style scoped>\n",
       "    .dataframe tbody tr th:only-of-type {\n",
       "        vertical-align: middle;\n",
       "    }\n",
       "\n",
       "    .dataframe tbody tr th {\n",
       "        vertical-align: top;\n",
       "    }\n",
       "\n",
       "    .dataframe thead th {\n",
       "        text-align: right;\n",
       "    }\n",
       "</style>\n",
       "<table border=\"1\" class=\"dataframe\">\n",
       "  <thead>\n",
       "    <tr style=\"text-align: right;\">\n",
       "      <th></th>\n",
       "      <th>support</th>\n",
       "      <th>itemsets</th>\n",
       "    </tr>\n",
       "  </thead>\n",
       "  <tbody>\n",
       "    <tr>\n",
       "      <th>0</th>\n",
       "      <td>0.117980</td>\n",
       "      <td>(13176)</td>\n",
       "    </tr>\n",
       "    <tr>\n",
       "      <th>1</th>\n",
       "      <td>0.055583</td>\n",
       "      <td>(47209)</td>\n",
       "    </tr>\n",
       "    <tr>\n",
       "      <th>2</th>\n",
       "      <td>0.018391</td>\n",
       "      <td>(49683)</td>\n",
       "    </tr>\n",
       "    <tr>\n",
       "      <th>3</th>\n",
       "      <td>0.015190</td>\n",
       "      <td>(22035)</td>\n",
       "    </tr>\n",
       "    <tr>\n",
       "      <th>4</th>\n",
       "      <td>0.008094</td>\n",
       "      <td>(10246)</td>\n",
       "    </tr>\n",
       "  </tbody>\n",
       "</table>\n",
       "</div>"
      ],
      "text/plain": [
       "    support itemsets\n",
       "0  0.117980  (13176)\n",
       "1  0.055583  (47209)\n",
       "2  0.018391  (49683)\n",
       "3  0.015190  (22035)\n",
       "4  0.008094  (10246)"
      ]
     },
     "execution_count": 45,
     "metadata": {},
     "output_type": "execute_result"
    }
   ],
   "source": [
    "freq_itemsets_fpg1 = freq_itemsets_fpg[2]\n",
    "freq_itemsets_fpg1.head()"
   ]
  },
  {
   "cell_type": "code",
   "execution_count": 46,
   "metadata": {
    "gather": {
     "logged": 1680481735048
    },
    "jupyter": {
     "outputs_hidden": false,
     "source_hidden": false
    },
    "nteract": {
     "transient": {
      "deleting": false
     }
    }
   },
   "outputs": [
    {
     "data": {
      "text/plain": [
       "(169, 2)"
      ]
     },
     "execution_count": 46,
     "metadata": {},
     "output_type": "execute_result"
    }
   ],
   "source": [
    "freq_itemsets_fpg1.shape"
   ]
  },
  {
   "cell_type": "code",
   "execution_count": 47,
   "metadata": {
    "gather": {
     "logged": 1680481739582
    },
    "jupyter": {
     "outputs_hidden": false,
     "source_hidden": false
    },
    "nteract": {
     "transient": {
      "deleting": false
     }
    }
   },
   "outputs": [
    {
     "data": {
      "text/html": [
       "<div>\n",
       "<style scoped>\n",
       "    .dataframe tbody tr th:only-of-type {\n",
       "        vertical-align: middle;\n",
       "    }\n",
       "\n",
       "    .dataframe tbody tr th {\n",
       "        vertical-align: top;\n",
       "    }\n",
       "\n",
       "    .dataframe thead th {\n",
       "        text-align: right;\n",
       "    }\n",
       "</style>\n",
       "<table border=\"1\" class=\"dataframe\">\n",
       "  <thead>\n",
       "    <tr style=\"text-align: right;\">\n",
       "      <th></th>\n",
       "      <th>support</th>\n",
       "      <th>itemsets</th>\n",
       "      <th>length</th>\n",
       "    </tr>\n",
       "  </thead>\n",
       "  <tbody>\n",
       "    <tr>\n",
       "      <th>0</th>\n",
       "      <td>0.117980</td>\n",
       "      <td>(13176)</td>\n",
       "      <td>1</td>\n",
       "    </tr>\n",
       "    <tr>\n",
       "      <th>1</th>\n",
       "      <td>0.055583</td>\n",
       "      <td>(47209)</td>\n",
       "      <td>1</td>\n",
       "    </tr>\n",
       "    <tr>\n",
       "      <th>2</th>\n",
       "      <td>0.018391</td>\n",
       "      <td>(49683)</td>\n",
       "      <td>1</td>\n",
       "    </tr>\n",
       "    <tr>\n",
       "      <th>3</th>\n",
       "      <td>0.015190</td>\n",
       "      <td>(22035)</td>\n",
       "      <td>1</td>\n",
       "    </tr>\n",
       "    <tr>\n",
       "      <th>4</th>\n",
       "      <td>0.008094</td>\n",
       "      <td>(10246)</td>\n",
       "      <td>1</td>\n",
       "    </tr>\n",
       "    <tr>\n",
       "      <th>...</th>\n",
       "      <td>...</td>\n",
       "      <td>...</td>\n",
       "      <td>...</td>\n",
       "    </tr>\n",
       "    <tr>\n",
       "      <th>164</th>\n",
       "      <td>0.010281</td>\n",
       "      <td>(47626, 47766)</td>\n",
       "      <td>2</td>\n",
       "    </tr>\n",
       "    <tr>\n",
       "      <th>165</th>\n",
       "      <td>0.008155</td>\n",
       "      <td>(13176, 47766)</td>\n",
       "      <td>2</td>\n",
       "    </tr>\n",
       "    <tr>\n",
       "      <th>166</th>\n",
       "      <td>0.008856</td>\n",
       "      <td>(4920, 24852)</td>\n",
       "      <td>2</td>\n",
       "    </tr>\n",
       "    <tr>\n",
       "      <th>167</th>\n",
       "      <td>0.009222</td>\n",
       "      <td>(28204, 24852)</td>\n",
       "      <td>2</td>\n",
       "    </tr>\n",
       "    <tr>\n",
       "      <th>168</th>\n",
       "      <td>0.008163</td>\n",
       "      <td>(24852, 4605)</td>\n",
       "      <td>2</td>\n",
       "    </tr>\n",
       "  </tbody>\n",
       "</table>\n",
       "<p>169 rows × 3 columns</p>\n",
       "</div>"
      ],
      "text/plain": [
       "      support        itemsets  length\n",
       "0    0.117980         (13176)       1\n",
       "1    0.055583         (47209)       1\n",
       "2    0.018391         (49683)       1\n",
       "3    0.015190         (22035)       1\n",
       "4    0.008094         (10246)       1\n",
       "..        ...             ...     ...\n",
       "164  0.010281  (47626, 47766)       2\n",
       "165  0.008155  (13176, 47766)       2\n",
       "166  0.008856   (4920, 24852)       2\n",
       "167  0.009222  (28204, 24852)       2\n",
       "168  0.008163   (24852, 4605)       2\n",
       "\n",
       "[169 rows x 3 columns]"
      ]
     },
     "execution_count": 47,
     "metadata": {},
     "output_type": "execute_result"
    }
   ],
   "source": [
    "freq_itemsets_fpg1['length'] = freq_itemsets_fpg1['itemsets'].apply(lambda x:len(x))\n",
    "freq_itemsets_fpg1"
   ]
  },
  {
   "attachments": {},
   "cell_type": "markdown",
   "metadata": {
    "nteract": {
     "transient": {
      "deleting": false
     }
    }
   },
   "source": [
    "Generer des règles"
   ]
  },
  {
   "cell_type": "code",
   "execution_count": 48,
   "metadata": {
    "gather": {
     "logged": 1680481752521
    },
    "jupyter": {
     "outputs_hidden": false,
     "source_hidden": false
    },
    "nteract": {
     "transient": {
      "deleting": false
     }
    }
   },
   "outputs": [],
   "source": [
    "rules_fpg = association_rules(freq_itemsets_fpg1, metric='support', min_threshold=min_sup_c)"
   ]
  },
  {
   "cell_type": "code",
   "execution_count": 49,
   "metadata": {
    "gather": {
     "logged": 1680481770380
    },
    "jupyter": {
     "outputs_hidden": false,
     "source_hidden": false
    },
    "nteract": {
     "transient": {
      "deleting": false
     }
    }
   },
   "outputs": [
    {
     "data": {
      "text/html": [
       "<div>\n",
       "<style scoped>\n",
       "    .dataframe tbody tr th:only-of-type {\n",
       "        vertical-align: middle;\n",
       "    }\n",
       "\n",
       "    .dataframe tbody tr th {\n",
       "        vertical-align: top;\n",
       "    }\n",
       "\n",
       "    .dataframe thead th {\n",
       "        text-align: right;\n",
       "    }\n",
       "</style>\n",
       "<table border=\"1\" class=\"dataframe\">\n",
       "  <thead>\n",
       "    <tr style=\"text-align: right;\">\n",
       "      <th></th>\n",
       "      <th>antecedents</th>\n",
       "      <th>consequents</th>\n",
       "      <th>antecedent support</th>\n",
       "      <th>consequent support</th>\n",
       "      <th>support</th>\n",
       "      <th>confidence</th>\n",
       "      <th>lift</th>\n",
       "      <th>leverage</th>\n",
       "      <th>conviction</th>\n",
       "    </tr>\n",
       "  </thead>\n",
       "  <tbody>\n",
       "    <tr>\n",
       "      <th>0</th>\n",
       "      <td>(13176)</td>\n",
       "      <td>(47209)</td>\n",
       "      <td>0.117980</td>\n",
       "      <td>0.055583</td>\n",
       "      <td>0.018444</td>\n",
       "      <td>0.156331</td>\n",
       "      <td>2.812560</td>\n",
       "      <td>0.011886</td>\n",
       "      <td>1.119416</td>\n",
       "    </tr>\n",
       "    <tr>\n",
       "      <th>1</th>\n",
       "      <td>(47209)</td>\n",
       "      <td>(13176)</td>\n",
       "      <td>0.055583</td>\n",
       "      <td>0.117980</td>\n",
       "      <td>0.018444</td>\n",
       "      <td>0.331825</td>\n",
       "      <td>2.812560</td>\n",
       "      <td>0.011886</td>\n",
       "      <td>1.320044</td>\n",
       "    </tr>\n",
       "    <tr>\n",
       "      <th>2</th>\n",
       "      <td>(47209)</td>\n",
       "      <td>(21137)</td>\n",
       "      <td>0.055583</td>\n",
       "      <td>0.083028</td>\n",
       "      <td>0.011729</td>\n",
       "      <td>0.211024</td>\n",
       "      <td>2.541609</td>\n",
       "      <td>0.007114</td>\n",
       "      <td>1.162231</td>\n",
       "    </tr>\n",
       "    <tr>\n",
       "      <th>3</th>\n",
       "      <td>(21137)</td>\n",
       "      <td>(47209)</td>\n",
       "      <td>0.083028</td>\n",
       "      <td>0.055583</td>\n",
       "      <td>0.011729</td>\n",
       "      <td>0.141270</td>\n",
       "      <td>2.541609</td>\n",
       "      <td>0.007114</td>\n",
       "      <td>1.099784</td>\n",
       "    </tr>\n",
       "    <tr>\n",
       "      <th>4</th>\n",
       "      <td>(47209)</td>\n",
       "      <td>(21903)</td>\n",
       "      <td>0.055583</td>\n",
       "      <td>0.074568</td>\n",
       "      <td>0.009542</td>\n",
       "      <td>0.171671</td>\n",
       "      <td>2.302212</td>\n",
       "      <td>0.005397</td>\n",
       "      <td>1.117228</td>\n",
       "    </tr>\n",
       "    <tr>\n",
       "      <th>5</th>\n",
       "      <td>(21903)</td>\n",
       "      <td>(47209)</td>\n",
       "      <td>0.074568</td>\n",
       "      <td>0.055583</td>\n",
       "      <td>0.009542</td>\n",
       "      <td>0.127964</td>\n",
       "      <td>2.302212</td>\n",
       "      <td>0.005397</td>\n",
       "      <td>1.083002</td>\n",
       "    </tr>\n",
       "    <tr>\n",
       "      <th>6</th>\n",
       "      <td>(13176)</td>\n",
       "      <td>(27966)</td>\n",
       "      <td>0.117980</td>\n",
       "      <td>0.042268</td>\n",
       "      <td>0.013566</td>\n",
       "      <td>0.114987</td>\n",
       "      <td>2.720400</td>\n",
       "      <td>0.008579</td>\n",
       "      <td>1.082167</td>\n",
       "    </tr>\n",
       "    <tr>\n",
       "      <th>7</th>\n",
       "      <td>(27966)</td>\n",
       "      <td>(13176)</td>\n",
       "      <td>0.042268</td>\n",
       "      <td>0.117980</td>\n",
       "      <td>0.013566</td>\n",
       "      <td>0.320952</td>\n",
       "      <td>2.720400</td>\n",
       "      <td>0.008579</td>\n",
       "      <td>1.298907</td>\n",
       "    </tr>\n",
       "    <tr>\n",
       "      <th>8</th>\n",
       "      <td>(21137)</td>\n",
       "      <td>(27966)</td>\n",
       "      <td>0.083028</td>\n",
       "      <td>0.042268</td>\n",
       "      <td>0.012728</td>\n",
       "      <td>0.153295</td>\n",
       "      <td>3.626710</td>\n",
       "      <td>0.009218</td>\n",
       "      <td>1.131128</td>\n",
       "    </tr>\n",
       "    <tr>\n",
       "      <th>9</th>\n",
       "      <td>(27966)</td>\n",
       "      <td>(21137)</td>\n",
       "      <td>0.042268</td>\n",
       "      <td>0.083028</td>\n",
       "      <td>0.012728</td>\n",
       "      <td>0.301118</td>\n",
       "      <td>3.626710</td>\n",
       "      <td>0.009218</td>\n",
       "      <td>1.312056</td>\n",
       "    </tr>\n",
       "    <tr>\n",
       "      <th>10</th>\n",
       "      <td>(21137)</td>\n",
       "      <td>(39275)</td>\n",
       "      <td>0.083028</td>\n",
       "      <td>0.037848</td>\n",
       "      <td>0.009672</td>\n",
       "      <td>0.116486</td>\n",
       "      <td>3.077735</td>\n",
       "      <td>0.006529</td>\n",
       "      <td>1.089006</td>\n",
       "    </tr>\n",
       "    <tr>\n",
       "      <th>11</th>\n",
       "      <td>(39275)</td>\n",
       "      <td>(21137)</td>\n",
       "      <td>0.037848</td>\n",
       "      <td>0.083028</td>\n",
       "      <td>0.009672</td>\n",
       "      <td>0.255538</td>\n",
       "      <td>3.077735</td>\n",
       "      <td>0.006529</td>\n",
       "      <td>1.231724</td>\n",
       "    </tr>\n",
       "    <tr>\n",
       "      <th>12</th>\n",
       "      <td>(13176)</td>\n",
       "      <td>(39275)</td>\n",
       "      <td>0.117980</td>\n",
       "      <td>0.037848</td>\n",
       "      <td>0.008666</td>\n",
       "      <td>0.073450</td>\n",
       "      <td>1.940646</td>\n",
       "      <td>0.004200</td>\n",
       "      <td>1.038424</td>\n",
       "    </tr>\n",
       "    <tr>\n",
       "      <th>13</th>\n",
       "      <td>(39275)</td>\n",
       "      <td>(13176)</td>\n",
       "      <td>0.037848</td>\n",
       "      <td>0.117980</td>\n",
       "      <td>0.008666</td>\n",
       "      <td>0.228957</td>\n",
       "      <td>1.940646</td>\n",
       "      <td>0.004200</td>\n",
       "      <td>1.143931</td>\n",
       "    </tr>\n",
       "    <tr>\n",
       "      <th>14</th>\n",
       "      <td>(13176)</td>\n",
       "      <td>(30391)</td>\n",
       "      <td>0.117980</td>\n",
       "      <td>0.035158</td>\n",
       "      <td>0.009664</td>\n",
       "      <td>0.081912</td>\n",
       "      <td>2.329853</td>\n",
       "      <td>0.005516</td>\n",
       "      <td>1.050926</td>\n",
       "    </tr>\n",
       "    <tr>\n",
       "      <th>15</th>\n",
       "      <td>(30391)</td>\n",
       "      <td>(13176)</td>\n",
       "      <td>0.035158</td>\n",
       "      <td>0.117980</td>\n",
       "      <td>0.009664</td>\n",
       "      <td>0.274875</td>\n",
       "      <td>2.329853</td>\n",
       "      <td>0.005516</td>\n",
       "      <td>1.216371</td>\n",
       "    </tr>\n",
       "    <tr>\n",
       "      <th>16</th>\n",
       "      <td>(13176)</td>\n",
       "      <td>(5876)</td>\n",
       "      <td>0.117980</td>\n",
       "      <td>0.026713</td>\n",
       "      <td>0.008132</td>\n",
       "      <td>0.068928</td>\n",
       "      <td>2.580293</td>\n",
       "      <td>0.004980</td>\n",
       "      <td>1.045340</td>\n",
       "    </tr>\n",
       "    <tr>\n",
       "      <th>17</th>\n",
       "      <td>(5876)</td>\n",
       "      <td>(13176)</td>\n",
       "      <td>0.026713</td>\n",
       "      <td>0.117980</td>\n",
       "      <td>0.008132</td>\n",
       "      <td>0.304422</td>\n",
       "      <td>2.580293</td>\n",
       "      <td>0.004980</td>\n",
       "      <td>1.268040</td>\n",
       "    </tr>\n",
       "    <tr>\n",
       "      <th>18</th>\n",
       "      <td>(13176)</td>\n",
       "      <td>(21137)</td>\n",
       "      <td>0.117980</td>\n",
       "      <td>0.083028</td>\n",
       "      <td>0.023428</td>\n",
       "      <td>0.198579</td>\n",
       "      <td>2.391714</td>\n",
       "      <td>0.013633</td>\n",
       "      <td>1.144183</td>\n",
       "    </tr>\n",
       "    <tr>\n",
       "      <th>19</th>\n",
       "      <td>(21137)</td>\n",
       "      <td>(13176)</td>\n",
       "      <td>0.083028</td>\n",
       "      <td>0.117980</td>\n",
       "      <td>0.023428</td>\n",
       "      <td>0.282174</td>\n",
       "      <td>2.391714</td>\n",
       "      <td>0.013633</td>\n",
       "      <td>1.228738</td>\n",
       "    </tr>\n",
       "    <tr>\n",
       "      <th>20</th>\n",
       "      <td>(21137)</td>\n",
       "      <td>(24852)</td>\n",
       "      <td>0.083028</td>\n",
       "      <td>0.142719</td>\n",
       "      <td>0.016569</td>\n",
       "      <td>0.199559</td>\n",
       "      <td>1.398269</td>\n",
       "      <td>0.004719</td>\n",
       "      <td>1.071012</td>\n",
       "    </tr>\n",
       "    <tr>\n",
       "      <th>21</th>\n",
       "      <td>(24852)</td>\n",
       "      <td>(21137)</td>\n",
       "      <td>0.142719</td>\n",
       "      <td>0.083028</td>\n",
       "      <td>0.016569</td>\n",
       "      <td>0.116095</td>\n",
       "      <td>1.398269</td>\n",
       "      <td>0.004719</td>\n",
       "      <td>1.037411</td>\n",
       "    </tr>\n",
       "    <tr>\n",
       "      <th>22</th>\n",
       "      <td>(24852)</td>\n",
       "      <td>(16797)</td>\n",
       "      <td>0.142719</td>\n",
       "      <td>0.049494</td>\n",
       "      <td>0.014847</td>\n",
       "      <td>0.104026</td>\n",
       "      <td>2.101819</td>\n",
       "      <td>0.007783</td>\n",
       "      <td>1.060864</td>\n",
       "    </tr>\n",
       "    <tr>\n",
       "      <th>23</th>\n",
       "      <td>(16797)</td>\n",
       "      <td>(24852)</td>\n",
       "      <td>0.049494</td>\n",
       "      <td>0.142719</td>\n",
       "      <td>0.014847</td>\n",
       "      <td>0.299969</td>\n",
       "      <td>2.101819</td>\n",
       "      <td>0.007783</td>\n",
       "      <td>1.224633</td>\n",
       "    </tr>\n",
       "    <tr>\n",
       "      <th>24</th>\n",
       "      <td>(13176)</td>\n",
       "      <td>(47626)</td>\n",
       "      <td>0.117980</td>\n",
       "      <td>0.062000</td>\n",
       "      <td>0.008056</td>\n",
       "      <td>0.068282</td>\n",
       "      <td>1.101311</td>\n",
       "      <td>0.000741</td>\n",
       "      <td>1.006742</td>\n",
       "    </tr>\n",
       "    <tr>\n",
       "      <th>25</th>\n",
       "      <td>(47626)</td>\n",
       "      <td>(13176)</td>\n",
       "      <td>0.062000</td>\n",
       "      <td>0.117980</td>\n",
       "      <td>0.008056</td>\n",
       "      <td>0.129932</td>\n",
       "      <td>1.101311</td>\n",
       "      <td>0.000741</td>\n",
       "      <td>1.013738</td>\n",
       "    </tr>\n",
       "    <tr>\n",
       "      <th>26</th>\n",
       "      <td>(47626)</td>\n",
       "      <td>(21903)</td>\n",
       "      <td>0.062000</td>\n",
       "      <td>0.074568</td>\n",
       "      <td>0.009435</td>\n",
       "      <td>0.152182</td>\n",
       "      <td>2.040846</td>\n",
       "      <td>0.004812</td>\n",
       "      <td>1.091545</td>\n",
       "    </tr>\n",
       "    <tr>\n",
       "      <th>27</th>\n",
       "      <td>(21903)</td>\n",
       "      <td>(47626)</td>\n",
       "      <td>0.074568</td>\n",
       "      <td>0.062000</td>\n",
       "      <td>0.009435</td>\n",
       "      <td>0.126533</td>\n",
       "      <td>2.040846</td>\n",
       "      <td>0.004812</td>\n",
       "      <td>1.073881</td>\n",
       "    </tr>\n",
       "    <tr>\n",
       "      <th>28</th>\n",
       "      <td>(47626)</td>\n",
       "      <td>(24852)</td>\n",
       "      <td>0.062000</td>\n",
       "      <td>0.142719</td>\n",
       "      <td>0.016447</td>\n",
       "      <td>0.265274</td>\n",
       "      <td>1.858714</td>\n",
       "      <td>0.007598</td>\n",
       "      <td>1.166803</td>\n",
       "    </tr>\n",
       "    <tr>\n",
       "      <th>29</th>\n",
       "      <td>(24852)</td>\n",
       "      <td>(47626)</td>\n",
       "      <td>0.142719</td>\n",
       "      <td>0.062000</td>\n",
       "      <td>0.016447</td>\n",
       "      <td>0.115241</td>\n",
       "      <td>1.858714</td>\n",
       "      <td>0.007598</td>\n",
       "      <td>1.060175</td>\n",
       "    </tr>\n",
       "    <tr>\n",
       "      <th>30</th>\n",
       "      <td>(24852)</td>\n",
       "      <td>(21903)</td>\n",
       "      <td>0.142719</td>\n",
       "      <td>0.074568</td>\n",
       "      <td>0.015243</td>\n",
       "      <td>0.106803</td>\n",
       "      <td>1.432294</td>\n",
       "      <td>0.004601</td>\n",
       "      <td>1.036090</td>\n",
       "    </tr>\n",
       "    <tr>\n",
       "      <th>31</th>\n",
       "      <td>(21903)</td>\n",
       "      <td>(24852)</td>\n",
       "      <td>0.074568</td>\n",
       "      <td>0.142719</td>\n",
       "      <td>0.015243</td>\n",
       "      <td>0.204415</td>\n",
       "      <td>1.432294</td>\n",
       "      <td>0.004601</td>\n",
       "      <td>1.077549</td>\n",
       "    </tr>\n",
       "    <tr>\n",
       "      <th>32</th>\n",
       "      <td>(21137)</td>\n",
       "      <td>(21903)</td>\n",
       "      <td>0.083028</td>\n",
       "      <td>0.074568</td>\n",
       "      <td>0.012492</td>\n",
       "      <td>0.150450</td>\n",
       "      <td>2.017617</td>\n",
       "      <td>0.006300</td>\n",
       "      <td>1.089320</td>\n",
       "    </tr>\n",
       "    <tr>\n",
       "      <th>33</th>\n",
       "      <td>(21903)</td>\n",
       "      <td>(21137)</td>\n",
       "      <td>0.074568</td>\n",
       "      <td>0.083028</td>\n",
       "      <td>0.012492</td>\n",
       "      <td>0.167518</td>\n",
       "      <td>2.017617</td>\n",
       "      <td>0.006300</td>\n",
       "      <td>1.101492</td>\n",
       "    </tr>\n",
       "    <tr>\n",
       "      <th>34</th>\n",
       "      <td>(13176)</td>\n",
       "      <td>(21903)</td>\n",
       "      <td>0.117980</td>\n",
       "      <td>0.074568</td>\n",
       "      <td>0.017042</td>\n",
       "      <td>0.144444</td>\n",
       "      <td>1.937082</td>\n",
       "      <td>0.008244</td>\n",
       "      <td>1.081674</td>\n",
       "    </tr>\n",
       "    <tr>\n",
       "      <th>35</th>\n",
       "      <td>(21903)</td>\n",
       "      <td>(13176)</td>\n",
       "      <td>0.074568</td>\n",
       "      <td>0.117980</td>\n",
       "      <td>0.017042</td>\n",
       "      <td>0.228536</td>\n",
       "      <td>1.937082</td>\n",
       "      <td>0.008244</td>\n",
       "      <td>1.143308</td>\n",
       "    </tr>\n",
       "    <tr>\n",
       "      <th>36</th>\n",
       "      <td>(26209)</td>\n",
       "      <td>(24852)</td>\n",
       "      <td>0.045980</td>\n",
       "      <td>0.142719</td>\n",
       "      <td>0.010144</td>\n",
       "      <td>0.220620</td>\n",
       "      <td>1.545836</td>\n",
       "      <td>0.003582</td>\n",
       "      <td>1.099953</td>\n",
       "    </tr>\n",
       "    <tr>\n",
       "      <th>37</th>\n",
       "      <td>(24852)</td>\n",
       "      <td>(26209)</td>\n",
       "      <td>0.142719</td>\n",
       "      <td>0.045980</td>\n",
       "      <td>0.010144</td>\n",
       "      <td>0.071078</td>\n",
       "      <td>1.545836</td>\n",
       "      <td>0.003582</td>\n",
       "      <td>1.027018</td>\n",
       "    </tr>\n",
       "    <tr>\n",
       "      <th>38</th>\n",
       "      <td>(26209)</td>\n",
       "      <td>(47626)</td>\n",
       "      <td>0.045980</td>\n",
       "      <td>0.062000</td>\n",
       "      <td>0.012156</td>\n",
       "      <td>0.264379</td>\n",
       "      <td>4.264159</td>\n",
       "      <td>0.009305</td>\n",
       "      <td>1.275113</td>\n",
       "    </tr>\n",
       "    <tr>\n",
       "      <th>39</th>\n",
       "      <td>(47626)</td>\n",
       "      <td>(26209)</td>\n",
       "      <td>0.062000</td>\n",
       "      <td>0.045980</td>\n",
       "      <td>0.012156</td>\n",
       "      <td>0.196066</td>\n",
       "      <td>4.264159</td>\n",
       "      <td>0.009305</td>\n",
       "      <td>1.186690</td>\n",
       "    </tr>\n",
       "    <tr>\n",
       "      <th>40</th>\n",
       "      <td>(45066)</td>\n",
       "      <td>(24852)</td>\n",
       "      <td>0.027064</td>\n",
       "      <td>0.142719</td>\n",
       "      <td>0.009382</td>\n",
       "      <td>0.346663</td>\n",
       "      <td>2.428991</td>\n",
       "      <td>0.005519</td>\n",
       "      <td>1.312157</td>\n",
       "    </tr>\n",
       "    <tr>\n",
       "      <th>41</th>\n",
       "      <td>(24852)</td>\n",
       "      <td>(45066)</td>\n",
       "      <td>0.142719</td>\n",
       "      <td>0.027064</td>\n",
       "      <td>0.009382</td>\n",
       "      <td>0.065737</td>\n",
       "      <td>2.428991</td>\n",
       "      <td>0.005519</td>\n",
       "      <td>1.041395</td>\n",
       "    </tr>\n",
       "    <tr>\n",
       "      <th>42</th>\n",
       "      <td>(13176)</td>\n",
       "      <td>(27845)</td>\n",
       "      <td>0.117980</td>\n",
       "      <td>0.037406</td>\n",
       "      <td>0.008521</td>\n",
       "      <td>0.072222</td>\n",
       "      <td>1.930767</td>\n",
       "      <td>0.004108</td>\n",
       "      <td>1.037526</td>\n",
       "    </tr>\n",
       "    <tr>\n",
       "      <th>43</th>\n",
       "      <td>(27845)</td>\n",
       "      <td>(13176)</td>\n",
       "      <td>0.037406</td>\n",
       "      <td>0.117980</td>\n",
       "      <td>0.008521</td>\n",
       "      <td>0.227791</td>\n",
       "      <td>1.930767</td>\n",
       "      <td>0.004108</td>\n",
       "      <td>1.142205</td>\n",
       "    </tr>\n",
       "    <tr>\n",
       "      <th>44</th>\n",
       "      <td>(47766)</td>\n",
       "      <td>(21903)</td>\n",
       "      <td>0.056467</td>\n",
       "      <td>0.074568</td>\n",
       "      <td>0.010685</td>\n",
       "      <td>0.189229</td>\n",
       "      <td>2.537673</td>\n",
       "      <td>0.006475</td>\n",
       "      <td>1.141423</td>\n",
       "    </tr>\n",
       "    <tr>\n",
       "      <th>45</th>\n",
       "      <td>(21903)</td>\n",
       "      <td>(47766)</td>\n",
       "      <td>0.074568</td>\n",
       "      <td>0.056467</td>\n",
       "      <td>0.010685</td>\n",
       "      <td>0.143295</td>\n",
       "      <td>2.537673</td>\n",
       "      <td>0.006475</td>\n",
       "      <td>1.101351</td>\n",
       "    </tr>\n",
       "    <tr>\n",
       "      <th>46</th>\n",
       "      <td>(24852)</td>\n",
       "      <td>(47766)</td>\n",
       "      <td>0.142719</td>\n",
       "      <td>0.056467</td>\n",
       "      <td>0.016889</td>\n",
       "      <td>0.118338</td>\n",
       "      <td>2.095698</td>\n",
       "      <td>0.008830</td>\n",
       "      <td>1.070175</td>\n",
       "    </tr>\n",
       "    <tr>\n",
       "      <th>47</th>\n",
       "      <td>(47766)</td>\n",
       "      <td>(24852)</td>\n",
       "      <td>0.056467</td>\n",
       "      <td>0.142719</td>\n",
       "      <td>0.016889</td>\n",
       "      <td>0.299096</td>\n",
       "      <td>2.095698</td>\n",
       "      <td>0.008830</td>\n",
       "      <td>1.223107</td>\n",
       "    </tr>\n",
       "    <tr>\n",
       "      <th>48</th>\n",
       "      <td>(21137)</td>\n",
       "      <td>(47766)</td>\n",
       "      <td>0.083028</td>\n",
       "      <td>0.056467</td>\n",
       "      <td>0.008292</td>\n",
       "      <td>0.099871</td>\n",
       "      <td>1.768665</td>\n",
       "      <td>0.003604</td>\n",
       "      <td>1.048220</td>\n",
       "    </tr>\n",
       "    <tr>\n",
       "      <th>49</th>\n",
       "      <td>(47766)</td>\n",
       "      <td>(21137)</td>\n",
       "      <td>0.056467</td>\n",
       "      <td>0.083028</td>\n",
       "      <td>0.008292</td>\n",
       "      <td>0.146848</td>\n",
       "      <td>1.768665</td>\n",
       "      <td>0.003604</td>\n",
       "      <td>1.074806</td>\n",
       "    </tr>\n",
       "    <tr>\n",
       "      <th>50</th>\n",
       "      <td>(47626)</td>\n",
       "      <td>(47766)</td>\n",
       "      <td>0.062000</td>\n",
       "      <td>0.056467</td>\n",
       "      <td>0.010281</td>\n",
       "      <td>0.165827</td>\n",
       "      <td>2.936692</td>\n",
       "      <td>0.006780</td>\n",
       "      <td>1.131099</td>\n",
       "    </tr>\n",
       "    <tr>\n",
       "      <th>51</th>\n",
       "      <td>(47766)</td>\n",
       "      <td>(47626)</td>\n",
       "      <td>0.056467</td>\n",
       "      <td>0.062000</td>\n",
       "      <td>0.010281</td>\n",
       "      <td>0.182076</td>\n",
       "      <td>2.936692</td>\n",
       "      <td>0.006780</td>\n",
       "      <td>1.146805</td>\n",
       "    </tr>\n",
       "    <tr>\n",
       "      <th>52</th>\n",
       "      <td>(13176)</td>\n",
       "      <td>(47766)</td>\n",
       "      <td>0.117980</td>\n",
       "      <td>0.056467</td>\n",
       "      <td>0.008155</td>\n",
       "      <td>0.069121</td>\n",
       "      <td>1.224100</td>\n",
       "      <td>0.001493</td>\n",
       "      <td>1.013594</td>\n",
       "    </tr>\n",
       "    <tr>\n",
       "      <th>53</th>\n",
       "      <td>(47766)</td>\n",
       "      <td>(13176)</td>\n",
       "      <td>0.056467</td>\n",
       "      <td>0.117980</td>\n",
       "      <td>0.008155</td>\n",
       "      <td>0.144419</td>\n",
       "      <td>1.224100</td>\n",
       "      <td>0.001493</td>\n",
       "      <td>1.030902</td>\n",
       "    </tr>\n",
       "    <tr>\n",
       "      <th>54</th>\n",
       "      <td>(4920)</td>\n",
       "      <td>(24852)</td>\n",
       "      <td>0.030935</td>\n",
       "      <td>0.142719</td>\n",
       "      <td>0.008856</td>\n",
       "      <td>0.286277</td>\n",
       "      <td>2.005883</td>\n",
       "      <td>0.004441</td>\n",
       "      <td>1.201141</td>\n",
       "    </tr>\n",
       "    <tr>\n",
       "      <th>55</th>\n",
       "      <td>(24852)</td>\n",
       "      <td>(4920)</td>\n",
       "      <td>0.142719</td>\n",
       "      <td>0.030935</td>\n",
       "      <td>0.008856</td>\n",
       "      <td>0.062053</td>\n",
       "      <td>2.005883</td>\n",
       "      <td>0.004441</td>\n",
       "      <td>1.033176</td>\n",
       "    </tr>\n",
       "    <tr>\n",
       "      <th>56</th>\n",
       "      <td>(28204)</td>\n",
       "      <td>(24852)</td>\n",
       "      <td>0.024823</td>\n",
       "      <td>0.142719</td>\n",
       "      <td>0.009222</td>\n",
       "      <td>0.371508</td>\n",
       "      <td>2.603072</td>\n",
       "      <td>0.005679</td>\n",
       "      <td>1.364028</td>\n",
       "    </tr>\n",
       "    <tr>\n",
       "      <th>57</th>\n",
       "      <td>(24852)</td>\n",
       "      <td>(28204)</td>\n",
       "      <td>0.142719</td>\n",
       "      <td>0.024823</td>\n",
       "      <td>0.009222</td>\n",
       "      <td>0.064616</td>\n",
       "      <td>2.603072</td>\n",
       "      <td>0.005679</td>\n",
       "      <td>1.042542</td>\n",
       "    </tr>\n",
       "    <tr>\n",
       "      <th>58</th>\n",
       "      <td>(24852)</td>\n",
       "      <td>(4605)</td>\n",
       "      <td>0.142719</td>\n",
       "      <td>0.028672</td>\n",
       "      <td>0.008163</td>\n",
       "      <td>0.057193</td>\n",
       "      <td>1.994754</td>\n",
       "      <td>0.004071</td>\n",
       "      <td>1.030252</td>\n",
       "    </tr>\n",
       "    <tr>\n",
       "      <th>59</th>\n",
       "      <td>(4605)</td>\n",
       "      <td>(24852)</td>\n",
       "      <td>0.028672</td>\n",
       "      <td>0.142719</td>\n",
       "      <td>0.008163</td>\n",
       "      <td>0.284689</td>\n",
       "      <td>1.994754</td>\n",
       "      <td>0.004071</td>\n",
       "      <td>1.198473</td>\n",
       "    </tr>\n",
       "  </tbody>\n",
       "</table>\n",
       "</div>"
      ],
      "text/plain": [
       "   antecedents consequents  antecedent support  consequent support   support  \\\n",
       "0      (13176)     (47209)            0.117980            0.055583  0.018444   \n",
       "1      (47209)     (13176)            0.055583            0.117980  0.018444   \n",
       "2      (47209)     (21137)            0.055583            0.083028  0.011729   \n",
       "3      (21137)     (47209)            0.083028            0.055583  0.011729   \n",
       "4      (47209)     (21903)            0.055583            0.074568  0.009542   \n",
       "5      (21903)     (47209)            0.074568            0.055583  0.009542   \n",
       "6      (13176)     (27966)            0.117980            0.042268  0.013566   \n",
       "7      (27966)     (13176)            0.042268            0.117980  0.013566   \n",
       "8      (21137)     (27966)            0.083028            0.042268  0.012728   \n",
       "9      (27966)     (21137)            0.042268            0.083028  0.012728   \n",
       "10     (21137)     (39275)            0.083028            0.037848  0.009672   \n",
       "11     (39275)     (21137)            0.037848            0.083028  0.009672   \n",
       "12     (13176)     (39275)            0.117980            0.037848  0.008666   \n",
       "13     (39275)     (13176)            0.037848            0.117980  0.008666   \n",
       "14     (13176)     (30391)            0.117980            0.035158  0.009664   \n",
       "15     (30391)     (13176)            0.035158            0.117980  0.009664   \n",
       "16     (13176)      (5876)            0.117980            0.026713  0.008132   \n",
       "17      (5876)     (13176)            0.026713            0.117980  0.008132   \n",
       "18     (13176)     (21137)            0.117980            0.083028  0.023428   \n",
       "19     (21137)     (13176)            0.083028            0.117980  0.023428   \n",
       "20     (21137)     (24852)            0.083028            0.142719  0.016569   \n",
       "21     (24852)     (21137)            0.142719            0.083028  0.016569   \n",
       "22     (24852)     (16797)            0.142719            0.049494  0.014847   \n",
       "23     (16797)     (24852)            0.049494            0.142719  0.014847   \n",
       "24     (13176)     (47626)            0.117980            0.062000  0.008056   \n",
       "25     (47626)     (13176)            0.062000            0.117980  0.008056   \n",
       "26     (47626)     (21903)            0.062000            0.074568  0.009435   \n",
       "27     (21903)     (47626)            0.074568            0.062000  0.009435   \n",
       "28     (47626)     (24852)            0.062000            0.142719  0.016447   \n",
       "29     (24852)     (47626)            0.142719            0.062000  0.016447   \n",
       "30     (24852)     (21903)            0.142719            0.074568  0.015243   \n",
       "31     (21903)     (24852)            0.074568            0.142719  0.015243   \n",
       "32     (21137)     (21903)            0.083028            0.074568  0.012492   \n",
       "33     (21903)     (21137)            0.074568            0.083028  0.012492   \n",
       "34     (13176)     (21903)            0.117980            0.074568  0.017042   \n",
       "35     (21903)     (13176)            0.074568            0.117980  0.017042   \n",
       "36     (26209)     (24852)            0.045980            0.142719  0.010144   \n",
       "37     (24852)     (26209)            0.142719            0.045980  0.010144   \n",
       "38     (26209)     (47626)            0.045980            0.062000  0.012156   \n",
       "39     (47626)     (26209)            0.062000            0.045980  0.012156   \n",
       "40     (45066)     (24852)            0.027064            0.142719  0.009382   \n",
       "41     (24852)     (45066)            0.142719            0.027064  0.009382   \n",
       "42     (13176)     (27845)            0.117980            0.037406  0.008521   \n",
       "43     (27845)     (13176)            0.037406            0.117980  0.008521   \n",
       "44     (47766)     (21903)            0.056467            0.074568  0.010685   \n",
       "45     (21903)     (47766)            0.074568            0.056467  0.010685   \n",
       "46     (24852)     (47766)            0.142719            0.056467  0.016889   \n",
       "47     (47766)     (24852)            0.056467            0.142719  0.016889   \n",
       "48     (21137)     (47766)            0.083028            0.056467  0.008292   \n",
       "49     (47766)     (21137)            0.056467            0.083028  0.008292   \n",
       "50     (47626)     (47766)            0.062000            0.056467  0.010281   \n",
       "51     (47766)     (47626)            0.056467            0.062000  0.010281   \n",
       "52     (13176)     (47766)            0.117980            0.056467  0.008155   \n",
       "53     (47766)     (13176)            0.056467            0.117980  0.008155   \n",
       "54      (4920)     (24852)            0.030935            0.142719  0.008856   \n",
       "55     (24852)      (4920)            0.142719            0.030935  0.008856   \n",
       "56     (28204)     (24852)            0.024823            0.142719  0.009222   \n",
       "57     (24852)     (28204)            0.142719            0.024823  0.009222   \n",
       "58     (24852)      (4605)            0.142719            0.028672  0.008163   \n",
       "59      (4605)     (24852)            0.028672            0.142719  0.008163   \n",
       "\n",
       "    confidence      lift  leverage  conviction  \n",
       "0     0.156331  2.812560  0.011886    1.119416  \n",
       "1     0.331825  2.812560  0.011886    1.320044  \n",
       "2     0.211024  2.541609  0.007114    1.162231  \n",
       "3     0.141270  2.541609  0.007114    1.099784  \n",
       "4     0.171671  2.302212  0.005397    1.117228  \n",
       "5     0.127964  2.302212  0.005397    1.083002  \n",
       "6     0.114987  2.720400  0.008579    1.082167  \n",
       "7     0.320952  2.720400  0.008579    1.298907  \n",
       "8     0.153295  3.626710  0.009218    1.131128  \n",
       "9     0.301118  3.626710  0.009218    1.312056  \n",
       "10    0.116486  3.077735  0.006529    1.089006  \n",
       "11    0.255538  3.077735  0.006529    1.231724  \n",
       "12    0.073450  1.940646  0.004200    1.038424  \n",
       "13    0.228957  1.940646  0.004200    1.143931  \n",
       "14    0.081912  2.329853  0.005516    1.050926  \n",
       "15    0.274875  2.329853  0.005516    1.216371  \n",
       "16    0.068928  2.580293  0.004980    1.045340  \n",
       "17    0.304422  2.580293  0.004980    1.268040  \n",
       "18    0.198579  2.391714  0.013633    1.144183  \n",
       "19    0.282174  2.391714  0.013633    1.228738  \n",
       "20    0.199559  1.398269  0.004719    1.071012  \n",
       "21    0.116095  1.398269  0.004719    1.037411  \n",
       "22    0.104026  2.101819  0.007783    1.060864  \n",
       "23    0.299969  2.101819  0.007783    1.224633  \n",
       "24    0.068282  1.101311  0.000741    1.006742  \n",
       "25    0.129932  1.101311  0.000741    1.013738  \n",
       "26    0.152182  2.040846  0.004812    1.091545  \n",
       "27    0.126533  2.040846  0.004812    1.073881  \n",
       "28    0.265274  1.858714  0.007598    1.166803  \n",
       "29    0.115241  1.858714  0.007598    1.060175  \n",
       "30    0.106803  1.432294  0.004601    1.036090  \n",
       "31    0.204415  1.432294  0.004601    1.077549  \n",
       "32    0.150450  2.017617  0.006300    1.089320  \n",
       "33    0.167518  2.017617  0.006300    1.101492  \n",
       "34    0.144444  1.937082  0.008244    1.081674  \n",
       "35    0.228536  1.937082  0.008244    1.143308  \n",
       "36    0.220620  1.545836  0.003582    1.099953  \n",
       "37    0.071078  1.545836  0.003582    1.027018  \n",
       "38    0.264379  4.264159  0.009305    1.275113  \n",
       "39    0.196066  4.264159  0.009305    1.186690  \n",
       "40    0.346663  2.428991  0.005519    1.312157  \n",
       "41    0.065737  2.428991  0.005519    1.041395  \n",
       "42    0.072222  1.930767  0.004108    1.037526  \n",
       "43    0.227791  1.930767  0.004108    1.142205  \n",
       "44    0.189229  2.537673  0.006475    1.141423  \n",
       "45    0.143295  2.537673  0.006475    1.101351  \n",
       "46    0.118338  2.095698  0.008830    1.070175  \n",
       "47    0.299096  2.095698  0.008830    1.223107  \n",
       "48    0.099871  1.768665  0.003604    1.048220  \n",
       "49    0.146848  1.768665  0.003604    1.074806  \n",
       "50    0.165827  2.936692  0.006780    1.131099  \n",
       "51    0.182076  2.936692  0.006780    1.146805  \n",
       "52    0.069121  1.224100  0.001493    1.013594  \n",
       "53    0.144419  1.224100  0.001493    1.030902  \n",
       "54    0.286277  2.005883  0.004441    1.201141  \n",
       "55    0.062053  2.005883  0.004441    1.033176  \n",
       "56    0.371508  2.603072  0.005679    1.364028  \n",
       "57    0.064616  2.603072  0.005679    1.042542  \n",
       "58    0.057193  1.994754  0.004071    1.030252  \n",
       "59    0.284689  1.994754  0.004071    1.198473  "
      ]
     },
     "execution_count": 49,
     "metadata": {},
     "output_type": "execute_result"
    }
   ],
   "source": [
    "rules_fpg"
   ]
  },
  {
   "cell_type": "code",
   "execution_count": 50,
   "metadata": {
    "gather": {
     "logged": 1680481780060
    },
    "jupyter": {
     "outputs_hidden": false,
     "source_hidden": false
    },
    "nteract": {
     "transient": {
      "deleting": false
     }
    }
   },
   "outputs": [
    {
     "data": {
      "text/html": [
       "<div>\n",
       "<style scoped>\n",
       "    .dataframe tbody tr th:only-of-type {\n",
       "        vertical-align: middle;\n",
       "    }\n",
       "\n",
       "    .dataframe tbody tr th {\n",
       "        vertical-align: top;\n",
       "    }\n",
       "\n",
       "    .dataframe thead th {\n",
       "        text-align: right;\n",
       "    }\n",
       "</style>\n",
       "<table border=\"1\" class=\"dataframe\">\n",
       "  <thead>\n",
       "    <tr style=\"text-align: right;\">\n",
       "      <th></th>\n",
       "      <th>antecedents</th>\n",
       "      <th>consequents</th>\n",
       "      <th>antecedent support</th>\n",
       "      <th>consequent support</th>\n",
       "      <th>support</th>\n",
       "      <th>confidence</th>\n",
       "      <th>lift</th>\n",
       "      <th>leverage</th>\n",
       "      <th>conviction</th>\n",
       "    </tr>\n",
       "  </thead>\n",
       "  <tbody>\n",
       "    <tr>\n",
       "      <th>56</th>\n",
       "      <td>(28204)</td>\n",
       "      <td>(24852)</td>\n",
       "      <td>0.024823</td>\n",
       "      <td>0.142719</td>\n",
       "      <td>0.009222</td>\n",
       "      <td>0.371508</td>\n",
       "      <td>2.603072</td>\n",
       "      <td>0.005679</td>\n",
       "      <td>1.364028</td>\n",
       "    </tr>\n",
       "    <tr>\n",
       "      <th>40</th>\n",
       "      <td>(45066)</td>\n",
       "      <td>(24852)</td>\n",
       "      <td>0.027064</td>\n",
       "      <td>0.142719</td>\n",
       "      <td>0.009382</td>\n",
       "      <td>0.346663</td>\n",
       "      <td>2.428991</td>\n",
       "      <td>0.005519</td>\n",
       "      <td>1.312157</td>\n",
       "    </tr>\n",
       "    <tr>\n",
       "      <th>1</th>\n",
       "      <td>(47209)</td>\n",
       "      <td>(13176)</td>\n",
       "      <td>0.055583</td>\n",
       "      <td>0.117980</td>\n",
       "      <td>0.018444</td>\n",
       "      <td>0.331825</td>\n",
       "      <td>2.812560</td>\n",
       "      <td>0.011886</td>\n",
       "      <td>1.320044</td>\n",
       "    </tr>\n",
       "    <tr>\n",
       "      <th>7</th>\n",
       "      <td>(27966)</td>\n",
       "      <td>(13176)</td>\n",
       "      <td>0.042268</td>\n",
       "      <td>0.117980</td>\n",
       "      <td>0.013566</td>\n",
       "      <td>0.320952</td>\n",
       "      <td>2.720400</td>\n",
       "      <td>0.008579</td>\n",
       "      <td>1.298907</td>\n",
       "    </tr>\n",
       "    <tr>\n",
       "      <th>17</th>\n",
       "      <td>(5876)</td>\n",
       "      <td>(13176)</td>\n",
       "      <td>0.026713</td>\n",
       "      <td>0.117980</td>\n",
       "      <td>0.008132</td>\n",
       "      <td>0.304422</td>\n",
       "      <td>2.580293</td>\n",
       "      <td>0.004980</td>\n",
       "      <td>1.268040</td>\n",
       "    </tr>\n",
       "    <tr>\n",
       "      <th>9</th>\n",
       "      <td>(27966)</td>\n",
       "      <td>(21137)</td>\n",
       "      <td>0.042268</td>\n",
       "      <td>0.083028</td>\n",
       "      <td>0.012728</td>\n",
       "      <td>0.301118</td>\n",
       "      <td>3.626710</td>\n",
       "      <td>0.009218</td>\n",
       "      <td>1.312056</td>\n",
       "    </tr>\n",
       "    <tr>\n",
       "      <th>23</th>\n",
       "      <td>(16797)</td>\n",
       "      <td>(24852)</td>\n",
       "      <td>0.049494</td>\n",
       "      <td>0.142719</td>\n",
       "      <td>0.014847</td>\n",
       "      <td>0.299969</td>\n",
       "      <td>2.101819</td>\n",
       "      <td>0.007783</td>\n",
       "      <td>1.224633</td>\n",
       "    </tr>\n",
       "    <tr>\n",
       "      <th>47</th>\n",
       "      <td>(47766)</td>\n",
       "      <td>(24852)</td>\n",
       "      <td>0.056467</td>\n",
       "      <td>0.142719</td>\n",
       "      <td>0.016889</td>\n",
       "      <td>0.299096</td>\n",
       "      <td>2.095698</td>\n",
       "      <td>0.008830</td>\n",
       "      <td>1.223107</td>\n",
       "    </tr>\n",
       "    <tr>\n",
       "      <th>54</th>\n",
       "      <td>(4920)</td>\n",
       "      <td>(24852)</td>\n",
       "      <td>0.030935</td>\n",
       "      <td>0.142719</td>\n",
       "      <td>0.008856</td>\n",
       "      <td>0.286277</td>\n",
       "      <td>2.005883</td>\n",
       "      <td>0.004441</td>\n",
       "      <td>1.201141</td>\n",
       "    </tr>\n",
       "    <tr>\n",
       "      <th>59</th>\n",
       "      <td>(4605)</td>\n",
       "      <td>(24852)</td>\n",
       "      <td>0.028672</td>\n",
       "      <td>0.142719</td>\n",
       "      <td>0.008163</td>\n",
       "      <td>0.284689</td>\n",
       "      <td>1.994754</td>\n",
       "      <td>0.004071</td>\n",
       "      <td>1.198473</td>\n",
       "    </tr>\n",
       "  </tbody>\n",
       "</table>\n",
       "</div>"
      ],
      "text/plain": [
       "   antecedents consequents  antecedent support  consequent support   support  \\\n",
       "56     (28204)     (24852)            0.024823            0.142719  0.009222   \n",
       "40     (45066)     (24852)            0.027064            0.142719  0.009382   \n",
       "1      (47209)     (13176)            0.055583            0.117980  0.018444   \n",
       "7      (27966)     (13176)            0.042268            0.117980  0.013566   \n",
       "17      (5876)     (13176)            0.026713            0.117980  0.008132   \n",
       "9      (27966)     (21137)            0.042268            0.083028  0.012728   \n",
       "23     (16797)     (24852)            0.049494            0.142719  0.014847   \n",
       "47     (47766)     (24852)            0.056467            0.142719  0.016889   \n",
       "54      (4920)     (24852)            0.030935            0.142719  0.008856   \n",
       "59      (4605)     (24852)            0.028672            0.142719  0.008163   \n",
       "\n",
       "    confidence      lift  leverage  conviction  \n",
       "56    0.371508  2.603072  0.005679    1.364028  \n",
       "40    0.346663  2.428991  0.005519    1.312157  \n",
       "1     0.331825  2.812560  0.011886    1.320044  \n",
       "7     0.320952  2.720400  0.008579    1.298907  \n",
       "17    0.304422  2.580293  0.004980    1.268040  \n",
       "9     0.301118  3.626710  0.009218    1.312056  \n",
       "23    0.299969  2.101819  0.007783    1.224633  \n",
       "47    0.299096  2.095698  0.008830    1.223107  \n",
       "54    0.286277  2.005883  0.004441    1.201141  \n",
       "59    0.284689  1.994754  0.004071    1.198473  "
      ]
     },
     "execution_count": 50,
     "metadata": {},
     "output_type": "execute_result"
    }
   ],
   "source": [
    "rules_fpg.sort_values(by='confidence', ascending=False)[:10]"
   ]
  },
  {
   "attachments": {},
   "cell_type": "markdown",
   "metadata": {
    "nteract": {
     "transient": {
      "deleting": false
     }
    }
   },
   "source": [
    "Test pour 0.0001 de support"
   ]
  },
  {
   "cell_type": "code",
   "execution_count": 51,
   "metadata": {
    "gather": {
     "logged": 1680481999514
    },
    "jupyter": {
     "outputs_hidden": false,
     "source_hidden": false
    },
    "nteract": {
     "transient": {
      "deleting": false
     }
    }
   },
   "outputs": [
    {
     "data": {
      "text/plain": [
       "(136394, 2)"
      ]
     },
     "execution_count": 51,
     "metadata": {},
     "output_type": "execute_result"
    }
   ],
   "source": [
    "tmp_g.shape"
   ]
  },
  {
   "cell_type": "code",
   "execution_count": 52,
   "metadata": {
    "gather": {
     "logged": 1680482102538
    },
    "jupyter": {
     "outputs_hidden": false,
     "source_hidden": false
    },
    "nteract": {
     "transient": {
      "deleting": false
     }
    }
   },
   "outputs": [
    {
     "data": {
      "text/html": [
       "<div>\n",
       "<style scoped>\n",
       "    .dataframe tbody tr th:only-of-type {\n",
       "        vertical-align: middle;\n",
       "    }\n",
       "\n",
       "    .dataframe tbody tr th {\n",
       "        vertical-align: top;\n",
       "    }\n",
       "\n",
       "    .dataframe thead th {\n",
       "        text-align: right;\n",
       "    }\n",
       "</style>\n",
       "<table border=\"1\" class=\"dataframe\">\n",
       "  <thead>\n",
       "    <tr style=\"text-align: right;\">\n",
       "      <th></th>\n",
       "      <th>support</th>\n",
       "      <th>itemsets</th>\n",
       "      <th>length</th>\n",
       "    </tr>\n",
       "  </thead>\n",
       "  <tbody>\n",
       "    <tr>\n",
       "      <th>0</th>\n",
       "      <td>0.117980</td>\n",
       "      <td>(13176)</td>\n",
       "      <td>1</td>\n",
       "    </tr>\n",
       "    <tr>\n",
       "      <th>1</th>\n",
       "      <td>0.055583</td>\n",
       "      <td>(47209)</td>\n",
       "      <td>1</td>\n",
       "    </tr>\n",
       "    <tr>\n",
       "      <th>2</th>\n",
       "      <td>0.018391</td>\n",
       "      <td>(49683)</td>\n",
       "      <td>1</td>\n",
       "    </tr>\n",
       "    <tr>\n",
       "      <th>3</th>\n",
       "      <td>0.015190</td>\n",
       "      <td>(22035)</td>\n",
       "      <td>1</td>\n",
       "    </tr>\n",
       "    <tr>\n",
       "      <th>4</th>\n",
       "      <td>0.008094</td>\n",
       "      <td>(10246)</td>\n",
       "      <td>1</td>\n",
       "    </tr>\n",
       "    <tr>\n",
       "      <th>...</th>\n",
       "      <td>...</td>\n",
       "      <td>...</td>\n",
       "      <td>...</td>\n",
       "    </tr>\n",
       "    <tr>\n",
       "      <th>136389</th>\n",
       "      <td>0.000191</td>\n",
       "      <td>(17630, 895)</td>\n",
       "      <td>2</td>\n",
       "    </tr>\n",
       "    <tr>\n",
       "      <th>136390</th>\n",
       "      <td>0.000122</td>\n",
       "      <td>(24852, 895)</td>\n",
       "      <td>2</td>\n",
       "    </tr>\n",
       "    <tr>\n",
       "      <th>136391</th>\n",
       "      <td>0.000122</td>\n",
       "      <td>(18987, 44870)</td>\n",
       "      <td>2</td>\n",
       "    </tr>\n",
       "    <tr>\n",
       "      <th>136392</th>\n",
       "      <td>0.000107</td>\n",
       "      <td>(42345, 42085)</td>\n",
       "      <td>2</td>\n",
       "    </tr>\n",
       "    <tr>\n",
       "      <th>136393</th>\n",
       "      <td>0.000107</td>\n",
       "      <td>(23953, 27553)</td>\n",
       "      <td>2</td>\n",
       "    </tr>\n",
       "  </tbody>\n",
       "</table>\n",
       "<p>136394 rows × 3 columns</p>\n",
       "</div>"
      ],
      "text/plain": [
       "         support        itemsets  length\n",
       "0       0.117980         (13176)       1\n",
       "1       0.055583         (47209)       1\n",
       "2       0.018391         (49683)       1\n",
       "3       0.015190         (22035)       1\n",
       "4       0.008094         (10246)       1\n",
       "...          ...             ...     ...\n",
       "136389  0.000191    (17630, 895)       2\n",
       "136390  0.000122    (24852, 895)       2\n",
       "136391  0.000122  (18987, 44870)       2\n",
       "136392  0.000107  (42345, 42085)       2\n",
       "136393  0.000107  (23953, 27553)       2\n",
       "\n",
       "[136394 rows x 3 columns]"
      ]
     },
     "execution_count": 52,
     "metadata": {},
     "output_type": "execute_result"
    }
   ],
   "source": [
    "tmp_g['length'] = tmp_g['itemsets'].apply(lambda x:len(x))\n",
    "tmp_g"
   ]
  },
  {
   "cell_type": "code",
   "execution_count": 53,
   "metadata": {
    "gather": {
     "logged": 1680482243669
    },
    "jupyter": {
     "outputs_hidden": false,
     "source_hidden": false
    },
    "nteract": {
     "transient": {
      "deleting": false
     }
    }
   },
   "outputs": [],
   "source": [
    "tmp_rules = association_rules(tmp_g, metric='support', min_threshold=min_sup_c)"
   ]
  },
  {
   "cell_type": "code",
   "execution_count": 55,
   "metadata": {
    "gather": {
     "logged": 1680482247360
    },
    "jupyter": {
     "outputs_hidden": false,
     "source_hidden": false
    },
    "nteract": {
     "transient": {
      "deleting": false
     }
    }
   },
   "outputs": [
    {
     "data": {
      "text/html": [
       "<div>\n",
       "<style scoped>\n",
       "    .dataframe tbody tr th:only-of-type {\n",
       "        vertical-align: middle;\n",
       "    }\n",
       "\n",
       "    .dataframe tbody tr th {\n",
       "        vertical-align: top;\n",
       "    }\n",
       "\n",
       "    .dataframe thead th {\n",
       "        text-align: right;\n",
       "    }\n",
       "</style>\n",
       "<table border=\"1\" class=\"dataframe\">\n",
       "  <thead>\n",
       "    <tr style=\"text-align: right;\">\n",
       "      <th></th>\n",
       "      <th>antecedents</th>\n",
       "      <th>consequents</th>\n",
       "      <th>antecedent support</th>\n",
       "      <th>consequent support</th>\n",
       "      <th>support</th>\n",
       "      <th>confidence</th>\n",
       "      <th>lift</th>\n",
       "      <th>leverage</th>\n",
       "      <th>conviction</th>\n",
       "    </tr>\n",
       "  </thead>\n",
       "  <tbody>\n",
       "    <tr>\n",
       "      <th>0</th>\n",
       "      <td>(13176)</td>\n",
       "      <td>(47209)</td>\n",
       "      <td>0.117980</td>\n",
       "      <td>0.055583</td>\n",
       "      <td>0.018444</td>\n",
       "      <td>0.156331</td>\n",
       "      <td>2.812560</td>\n",
       "      <td>0.011886</td>\n",
       "      <td>1.119416</td>\n",
       "    </tr>\n",
       "    <tr>\n",
       "      <th>1</th>\n",
       "      <td>(47209)</td>\n",
       "      <td>(13176)</td>\n",
       "      <td>0.055583</td>\n",
       "      <td>0.117980</td>\n",
       "      <td>0.018444</td>\n",
       "      <td>0.331825</td>\n",
       "      <td>2.812560</td>\n",
       "      <td>0.011886</td>\n",
       "      <td>1.320044</td>\n",
       "    </tr>\n",
       "    <tr>\n",
       "      <th>2</th>\n",
       "      <td>(47209)</td>\n",
       "      <td>(21137)</td>\n",
       "      <td>0.055583</td>\n",
       "      <td>0.083028</td>\n",
       "      <td>0.011729</td>\n",
       "      <td>0.211024</td>\n",
       "      <td>2.541609</td>\n",
       "      <td>0.007114</td>\n",
       "      <td>1.162231</td>\n",
       "    </tr>\n",
       "    <tr>\n",
       "      <th>3</th>\n",
       "      <td>(21137)</td>\n",
       "      <td>(47209)</td>\n",
       "      <td>0.083028</td>\n",
       "      <td>0.055583</td>\n",
       "      <td>0.011729</td>\n",
       "      <td>0.141270</td>\n",
       "      <td>2.541609</td>\n",
       "      <td>0.007114</td>\n",
       "      <td>1.099784</td>\n",
       "    </tr>\n",
       "    <tr>\n",
       "      <th>4</th>\n",
       "      <td>(47209)</td>\n",
       "      <td>(21903)</td>\n",
       "      <td>0.055583</td>\n",
       "      <td>0.074568</td>\n",
       "      <td>0.009542</td>\n",
       "      <td>0.171671</td>\n",
       "      <td>2.302212</td>\n",
       "      <td>0.005397</td>\n",
       "      <td>1.117228</td>\n",
       "    </tr>\n",
       "    <tr>\n",
       "      <th>...</th>\n",
       "      <td>...</td>\n",
       "      <td>...</td>\n",
       "      <td>...</td>\n",
       "      <td>...</td>\n",
       "      <td>...</td>\n",
       "      <td>...</td>\n",
       "      <td>...</td>\n",
       "      <td>...</td>\n",
       "      <td>...</td>\n",
       "    </tr>\n",
       "    <tr>\n",
       "      <th>6841</th>\n",
       "      <td>(39947)</td>\n",
       "      <td>(12576)</td>\n",
       "      <td>0.003948</td>\n",
       "      <td>0.003544</td>\n",
       "      <td>0.001014</td>\n",
       "      <td>0.256757</td>\n",
       "      <td>72.449026</td>\n",
       "      <td>0.001000</td>\n",
       "      <td>1.340686</td>\n",
       "    </tr>\n",
       "    <tr>\n",
       "      <th>6842</th>\n",
       "      <td>(24852)</td>\n",
       "      <td>(3599)</td>\n",
       "      <td>0.142719</td>\n",
       "      <td>0.004161</td>\n",
       "      <td>0.001151</td>\n",
       "      <td>0.008064</td>\n",
       "      <td>1.937773</td>\n",
       "      <td>0.000557</td>\n",
       "      <td>1.003934</td>\n",
       "    </tr>\n",
       "    <tr>\n",
       "      <th>6843</th>\n",
       "      <td>(3599)</td>\n",
       "      <td>(24852)</td>\n",
       "      <td>0.004161</td>\n",
       "      <td>0.142719</td>\n",
       "      <td>0.001151</td>\n",
       "      <td>0.276557</td>\n",
       "      <td>1.937773</td>\n",
       "      <td>0.000557</td>\n",
       "      <td>1.185001</td>\n",
       "    </tr>\n",
       "    <tr>\n",
       "      <th>6844</th>\n",
       "      <td>(21137)</td>\n",
       "      <td>(3599)</td>\n",
       "      <td>0.083028</td>\n",
       "      <td>0.004161</td>\n",
       "      <td>0.001014</td>\n",
       "      <td>0.012209</td>\n",
       "      <td>2.933832</td>\n",
       "      <td>0.000668</td>\n",
       "      <td>1.008147</td>\n",
       "    </tr>\n",
       "    <tr>\n",
       "      <th>6845</th>\n",
       "      <td>(3599)</td>\n",
       "      <td>(21137)</td>\n",
       "      <td>0.004161</td>\n",
       "      <td>0.083028</td>\n",
       "      <td>0.001014</td>\n",
       "      <td>0.243590</td>\n",
       "      <td>2.933832</td>\n",
       "      <td>0.000668</td>\n",
       "      <td>1.212268</td>\n",
       "    </tr>\n",
       "  </tbody>\n",
       "</table>\n",
       "<p>6846 rows × 9 columns</p>\n",
       "</div>"
      ],
      "text/plain": [
       "     antecedents consequents  antecedent support  consequent support  \\\n",
       "0        (13176)     (47209)            0.117980            0.055583   \n",
       "1        (47209)     (13176)            0.055583            0.117980   \n",
       "2        (47209)     (21137)            0.055583            0.083028   \n",
       "3        (21137)     (47209)            0.083028            0.055583   \n",
       "4        (47209)     (21903)            0.055583            0.074568   \n",
       "...          ...         ...                 ...                 ...   \n",
       "6841     (39947)     (12576)            0.003948            0.003544   \n",
       "6842     (24852)      (3599)            0.142719            0.004161   \n",
       "6843      (3599)     (24852)            0.004161            0.142719   \n",
       "6844     (21137)      (3599)            0.083028            0.004161   \n",
       "6845      (3599)     (21137)            0.004161            0.083028   \n",
       "\n",
       "       support  confidence       lift  leverage  conviction  \n",
       "0     0.018444    0.156331   2.812560  0.011886    1.119416  \n",
       "1     0.018444    0.331825   2.812560  0.011886    1.320044  \n",
       "2     0.011729    0.211024   2.541609  0.007114    1.162231  \n",
       "3     0.011729    0.141270   2.541609  0.007114    1.099784  \n",
       "4     0.009542    0.171671   2.302212  0.005397    1.117228  \n",
       "...        ...         ...        ...       ...         ...  \n",
       "6841  0.001014    0.256757  72.449026  0.001000    1.340686  \n",
       "6842  0.001151    0.008064   1.937773  0.000557    1.003934  \n",
       "6843  0.001151    0.276557   1.937773  0.000557    1.185001  \n",
       "6844  0.001014    0.012209   2.933832  0.000668    1.008147  \n",
       "6845  0.001014    0.243590   2.933832  0.000668    1.212268  \n",
       "\n",
       "[6846 rows x 9 columns]"
      ]
     },
     "execution_count": 55,
     "metadata": {},
     "output_type": "execute_result"
    }
   ],
   "source": [
    "tmp_rules"
   ]
  },
  {
   "attachments": {},
   "cell_type": "markdown",
   "metadata": {
    "nteract": {
     "transient": {
      "deleting": false
     }
    }
   },
   "source": [
    "## Heuristic method"
   ]
  },
  {
   "attachments": {},
   "cell_type": "markdown",
   "metadata": {
    "nteract": {
     "transient": {
      "deleting": false
     }
    }
   },
   "source": [
    "## SARL : scalable association rule learning"
   ]
  },
  {
   "attachments": {},
   "cell_type": "markdown",
   "metadata": {},
   "source": [
    "## Tree ensemble : XGBoost"
   ]
  },
  {
   "cell_type": "code",
   "execution_count": null,
   "metadata": {},
   "outputs": [],
   "source": []
  },
  {
   "cell_type": "code",
   "execution_count": 58,
   "metadata": {},
   "outputs": [],
   "source": [
    "df_order_products = pd.merge(dataDict['order_products__train'],dataDict['orders'], on = 'order_id') "
   ]
  },
  {
   "cell_type": "code",
   "execution_count": 59,
   "metadata": {},
   "outputs": [
    {
     "data": {
      "text/html": [
       "<div>\n",
       "<style scoped>\n",
       "    .dataframe tbody tr th:only-of-type {\n",
       "        vertical-align: middle;\n",
       "    }\n",
       "\n",
       "    .dataframe tbody tr th {\n",
       "        vertical-align: top;\n",
       "    }\n",
       "\n",
       "    .dataframe thead th {\n",
       "        text-align: right;\n",
       "    }\n",
       "</style>\n",
       "<table border=\"1\" class=\"dataframe\">\n",
       "  <thead>\n",
       "    <tr style=\"text-align: right;\">\n",
       "      <th></th>\n",
       "      <th>order_id</th>\n",
       "      <th>product_id</th>\n",
       "      <th>add_to_cart_order</th>\n",
       "      <th>reordered</th>\n",
       "      <th>user_id</th>\n",
       "      <th>eval_set</th>\n",
       "      <th>order_number</th>\n",
       "      <th>order_dow</th>\n",
       "      <th>order_hour_of_day</th>\n",
       "      <th>days_since_prior_order</th>\n",
       "    </tr>\n",
       "  </thead>\n",
       "  <tbody>\n",
       "    <tr>\n",
       "      <th>0</th>\n",
       "      <td>1</td>\n",
       "      <td>49302</td>\n",
       "      <td>1</td>\n",
       "      <td>1</td>\n",
       "      <td>112108</td>\n",
       "      <td>train</td>\n",
       "      <td>4</td>\n",
       "      <td>4</td>\n",
       "      <td>10</td>\n",
       "      <td>9.0</td>\n",
       "    </tr>\n",
       "    <tr>\n",
       "      <th>1</th>\n",
       "      <td>1</td>\n",
       "      <td>11109</td>\n",
       "      <td>2</td>\n",
       "      <td>1</td>\n",
       "      <td>112108</td>\n",
       "      <td>train</td>\n",
       "      <td>4</td>\n",
       "      <td>4</td>\n",
       "      <td>10</td>\n",
       "      <td>9.0</td>\n",
       "    </tr>\n",
       "    <tr>\n",
       "      <th>2</th>\n",
       "      <td>1</td>\n",
       "      <td>10246</td>\n",
       "      <td>3</td>\n",
       "      <td>0</td>\n",
       "      <td>112108</td>\n",
       "      <td>train</td>\n",
       "      <td>4</td>\n",
       "      <td>4</td>\n",
       "      <td>10</td>\n",
       "      <td>9.0</td>\n",
       "    </tr>\n",
       "    <tr>\n",
       "      <th>3</th>\n",
       "      <td>1</td>\n",
       "      <td>49683</td>\n",
       "      <td>4</td>\n",
       "      <td>0</td>\n",
       "      <td>112108</td>\n",
       "      <td>train</td>\n",
       "      <td>4</td>\n",
       "      <td>4</td>\n",
       "      <td>10</td>\n",
       "      <td>9.0</td>\n",
       "    </tr>\n",
       "    <tr>\n",
       "      <th>4</th>\n",
       "      <td>1</td>\n",
       "      <td>43633</td>\n",
       "      <td>5</td>\n",
       "      <td>1</td>\n",
       "      <td>112108</td>\n",
       "      <td>train</td>\n",
       "      <td>4</td>\n",
       "      <td>4</td>\n",
       "      <td>10</td>\n",
       "      <td>9.0</td>\n",
       "    </tr>\n",
       "  </tbody>\n",
       "</table>\n",
       "</div>"
      ],
      "text/plain": [
       "   order_id  product_id  add_to_cart_order  reordered  user_id eval_set  \\\n",
       "0         1       49302                  1          1   112108    train   \n",
       "1         1       11109                  2          1   112108    train   \n",
       "2         1       10246                  3          0   112108    train   \n",
       "3         1       49683                  4          0   112108    train   \n",
       "4         1       43633                  5          1   112108    train   \n",
       "\n",
       "   order_number  order_dow  order_hour_of_day  days_since_prior_order  \n",
       "0             4          4                 10                     9.0  \n",
       "1             4          4                 10                     9.0  \n",
       "2             4          4                 10                     9.0  \n",
       "3             4          4                 10                     9.0  \n",
       "4             4          4                 10                     9.0  "
      ]
     },
     "execution_count": 59,
     "metadata": {},
     "output_type": "execute_result"
    }
   ],
   "source": [
    "df_order_products.head()"
   ]
  },
  {
   "cell_type": "code",
   "execution_count": 60,
   "metadata": {},
   "outputs": [
    {
     "data": {
      "text/html": [
       "<div>\n",
       "<style scoped>\n",
       "    .dataframe tbody tr th:only-of-type {\n",
       "        vertical-align: middle;\n",
       "    }\n",
       "\n",
       "    .dataframe tbody tr th {\n",
       "        vertical-align: top;\n",
       "    }\n",
       "\n",
       "    .dataframe thead th {\n",
       "        text-align: right;\n",
       "    }\n",
       "</style>\n",
       "<table border=\"1\" class=\"dataframe\">\n",
       "  <thead>\n",
       "    <tr style=\"text-align: right;\">\n",
       "      <th></th>\n",
       "      <th>order_id</th>\n",
       "      <th>product_id</th>\n",
       "      <th>add_to_cart_order</th>\n",
       "      <th>reordered</th>\n",
       "      <th>user_id</th>\n",
       "      <th>eval_set</th>\n",
       "      <th>order_number</th>\n",
       "      <th>order_dow</th>\n",
       "      <th>order_hour_of_day</th>\n",
       "      <th>days_since_prior_order</th>\n",
       "    </tr>\n",
       "  </thead>\n",
       "  <tbody>\n",
       "    <tr>\n",
       "      <th>0</th>\n",
       "      <td>1</td>\n",
       "      <td>49302</td>\n",
       "      <td>1</td>\n",
       "      <td>1</td>\n",
       "      <td>112108</td>\n",
       "      <td>train</td>\n",
       "      <td>4</td>\n",
       "      <td>4</td>\n",
       "      <td>10</td>\n",
       "      <td>9.0</td>\n",
       "    </tr>\n",
       "    <tr>\n",
       "      <th>1</th>\n",
       "      <td>1</td>\n",
       "      <td>11109</td>\n",
       "      <td>2</td>\n",
       "      <td>1</td>\n",
       "      <td>112108</td>\n",
       "      <td>train</td>\n",
       "      <td>4</td>\n",
       "      <td>4</td>\n",
       "      <td>10</td>\n",
       "      <td>9.0</td>\n",
       "    </tr>\n",
       "    <tr>\n",
       "      <th>2</th>\n",
       "      <td>1</td>\n",
       "      <td>10246</td>\n",
       "      <td>3</td>\n",
       "      <td>0</td>\n",
       "      <td>112108</td>\n",
       "      <td>train</td>\n",
       "      <td>4</td>\n",
       "      <td>4</td>\n",
       "      <td>10</td>\n",
       "      <td>9.0</td>\n",
       "    </tr>\n",
       "    <tr>\n",
       "      <th>3</th>\n",
       "      <td>1</td>\n",
       "      <td>49683</td>\n",
       "      <td>4</td>\n",
       "      <td>0</td>\n",
       "      <td>112108</td>\n",
       "      <td>train</td>\n",
       "      <td>4</td>\n",
       "      <td>4</td>\n",
       "      <td>10</td>\n",
       "      <td>9.0</td>\n",
       "    </tr>\n",
       "    <tr>\n",
       "      <th>4</th>\n",
       "      <td>1</td>\n",
       "      <td>43633</td>\n",
       "      <td>5</td>\n",
       "      <td>1</td>\n",
       "      <td>112108</td>\n",
       "      <td>train</td>\n",
       "      <td>4</td>\n",
       "      <td>4</td>\n",
       "      <td>10</td>\n",
       "      <td>9.0</td>\n",
       "    </tr>\n",
       "    <tr>\n",
       "      <th>...</th>\n",
       "      <td>...</td>\n",
       "      <td>...</td>\n",
       "      <td>...</td>\n",
       "      <td>...</td>\n",
       "      <td>...</td>\n",
       "      <td>...</td>\n",
       "      <td>...</td>\n",
       "      <td>...</td>\n",
       "      <td>...</td>\n",
       "      <td>...</td>\n",
       "    </tr>\n",
       "    <tr>\n",
       "      <th>1384612</th>\n",
       "      <td>3421063</td>\n",
       "      <td>14233</td>\n",
       "      <td>3</td>\n",
       "      <td>1</td>\n",
       "      <td>169679</td>\n",
       "      <td>train</td>\n",
       "      <td>30</td>\n",
       "      <td>0</td>\n",
       "      <td>10</td>\n",
       "      <td>4.0</td>\n",
       "    </tr>\n",
       "    <tr>\n",
       "      <th>1384613</th>\n",
       "      <td>3421063</td>\n",
       "      <td>35548</td>\n",
       "      <td>4</td>\n",
       "      <td>1</td>\n",
       "      <td>169679</td>\n",
       "      <td>train</td>\n",
       "      <td>30</td>\n",
       "      <td>0</td>\n",
       "      <td>10</td>\n",
       "      <td>4.0</td>\n",
       "    </tr>\n",
       "    <tr>\n",
       "      <th>1384614</th>\n",
       "      <td>3421070</td>\n",
       "      <td>35951</td>\n",
       "      <td>1</td>\n",
       "      <td>1</td>\n",
       "      <td>139822</td>\n",
       "      <td>train</td>\n",
       "      <td>15</td>\n",
       "      <td>6</td>\n",
       "      <td>10</td>\n",
       "      <td>8.0</td>\n",
       "    </tr>\n",
       "    <tr>\n",
       "      <th>1384615</th>\n",
       "      <td>3421070</td>\n",
       "      <td>16953</td>\n",
       "      <td>2</td>\n",
       "      <td>1</td>\n",
       "      <td>139822</td>\n",
       "      <td>train</td>\n",
       "      <td>15</td>\n",
       "      <td>6</td>\n",
       "      <td>10</td>\n",
       "      <td>8.0</td>\n",
       "    </tr>\n",
       "    <tr>\n",
       "      <th>1384616</th>\n",
       "      <td>3421070</td>\n",
       "      <td>4724</td>\n",
       "      <td>3</td>\n",
       "      <td>1</td>\n",
       "      <td>139822</td>\n",
       "      <td>train</td>\n",
       "      <td>15</td>\n",
       "      <td>6</td>\n",
       "      <td>10</td>\n",
       "      <td>8.0</td>\n",
       "    </tr>\n",
       "  </tbody>\n",
       "</table>\n",
       "<p>1384617 rows × 10 columns</p>\n",
       "</div>"
      ],
      "text/plain": [
       "         order_id  product_id  add_to_cart_order  reordered  user_id eval_set  \\\n",
       "0               1       49302                  1          1   112108    train   \n",
       "1               1       11109                  2          1   112108    train   \n",
       "2               1       10246                  3          0   112108    train   \n",
       "3               1       49683                  4          0   112108    train   \n",
       "4               1       43633                  5          1   112108    train   \n",
       "...           ...         ...                ...        ...      ...      ...   \n",
       "1384612   3421063       14233                  3          1   169679    train   \n",
       "1384613   3421063       35548                  4          1   169679    train   \n",
       "1384614   3421070       35951                  1          1   139822    train   \n",
       "1384615   3421070       16953                  2          1   139822    train   \n",
       "1384616   3421070        4724                  3          1   139822    train   \n",
       "\n",
       "         order_number  order_dow  order_hour_of_day  days_since_prior_order  \n",
       "0                   4          4                 10                     9.0  \n",
       "1                   4          4                 10                     9.0  \n",
       "2                   4          4                 10                     9.0  \n",
       "3                   4          4                 10                     9.0  \n",
       "4                   4          4                 10                     9.0  \n",
       "...               ...        ...                ...                     ...  \n",
       "1384612            30          0                 10                     4.0  \n",
       "1384613            30          0                 10                     4.0  \n",
       "1384614            15          6                 10                     8.0  \n",
       "1384615            15          6                 10                     8.0  \n",
       "1384616            15          6                 10                     8.0  \n",
       "\n",
       "[1384617 rows x 10 columns]"
      ]
     },
     "execution_count": 60,
     "metadata": {},
     "output_type": "execute_result"
    }
   ],
   "source": [
    "df_order_products.dropna()"
   ]
  },
  {
   "cell_type": "code",
   "execution_count": 62,
   "metadata": {},
   "outputs": [],
   "source": [
    "X = df_order_products[['user_id',\n",
    "                       'product_id',\n",
    "                       'add_to_cart_order',\n",
    "                       'order_number',\n",
    "                       'order_dow',\n",
    "                       'order_hour_of_day']]\n",
    "y = df_order_products.reordered"
   ]
  },
  {
   "cell_type": "code",
   "execution_count": 63,
   "metadata": {},
   "outputs": [],
   "source": [
    "X_train, X_test, y_train, y_test = train_test_split(X, y, test_size=0.2, random_state=1)"
   ]
  },
  {
   "cell_type": "code",
   "execution_count": 66,
   "metadata": {},
   "outputs": [],
   "source": [
    "xgb = XGBClassifier()\n",
    "\n",
    "param_grid = {\n",
    "    'max_depth' : [1, 2, 3, 4],\n",
    "    'learning_rate' : [0.001, 0.01, 0.1, 0,3],\n",
    "    'subsample': [0.5, 0.6, 0.7, 0.8, 0.9, 1.0],\n",
    "    'gamma': [0, 0.25, 0.5, 1.0],\n",
    "    'reg_lambda': [0.1, 1.0, 5.0, 10.0, 50.0, 100.0],\n",
    "    'n_estimators': [100]\n",
    "}\n",
    "\n",
    "clf = RandomizedSearchCV(xgb, param_grid, n_iter=10, n_jobs= -1, verbose=2, cv=3, random_state=1)"
   ]
  },
  {
   "cell_type": "code",
   "execution_count": 67,
   "metadata": {},
   "outputs": [
    {
     "name": "stdout",
     "output_type": "stream",
     "text": [
      "Fitting 3 folds for each of 10 candidates, totalling 30 fits\n"
     ]
    },
    {
     "data": {
      "text/html": [
       "<style>#sk-container-id-1 {color: black;background-color: white;}#sk-container-id-1 pre{padding: 0;}#sk-container-id-1 div.sk-toggleable {background-color: white;}#sk-container-id-1 label.sk-toggleable__label {cursor: pointer;display: block;width: 100%;margin-bottom: 0;padding: 0.3em;box-sizing: border-box;text-align: center;}#sk-container-id-1 label.sk-toggleable__label-arrow:before {content: \"▸\";float: left;margin-right: 0.25em;color: #696969;}#sk-container-id-1 label.sk-toggleable__label-arrow:hover:before {color: black;}#sk-container-id-1 div.sk-estimator:hover label.sk-toggleable__label-arrow:before {color: black;}#sk-container-id-1 div.sk-toggleable__content {max-height: 0;max-width: 0;overflow: hidden;text-align: left;background-color: #f0f8ff;}#sk-container-id-1 div.sk-toggleable__content pre {margin: 0.2em;color: black;border-radius: 0.25em;background-color: #f0f8ff;}#sk-container-id-1 input.sk-toggleable__control:checked~div.sk-toggleable__content {max-height: 200px;max-width: 100%;overflow: auto;}#sk-container-id-1 input.sk-toggleable__control:checked~label.sk-toggleable__label-arrow:before {content: \"▾\";}#sk-container-id-1 div.sk-estimator input.sk-toggleable__control:checked~label.sk-toggleable__label {background-color: #d4ebff;}#sk-container-id-1 div.sk-label input.sk-toggleable__control:checked~label.sk-toggleable__label {background-color: #d4ebff;}#sk-container-id-1 input.sk-hidden--visually {border: 0;clip: rect(1px 1px 1px 1px);clip: rect(1px, 1px, 1px, 1px);height: 1px;margin: -1px;overflow: hidden;padding: 0;position: absolute;width: 1px;}#sk-container-id-1 div.sk-estimator {font-family: monospace;background-color: #f0f8ff;border: 1px dotted black;border-radius: 0.25em;box-sizing: border-box;margin-bottom: 0.5em;}#sk-container-id-1 div.sk-estimator:hover {background-color: #d4ebff;}#sk-container-id-1 div.sk-parallel-item::after {content: \"\";width: 100%;border-bottom: 1px solid gray;flex-grow: 1;}#sk-container-id-1 div.sk-label:hover label.sk-toggleable__label {background-color: #d4ebff;}#sk-container-id-1 div.sk-serial::before {content: \"\";position: absolute;border-left: 1px solid gray;box-sizing: border-box;top: 0;bottom: 0;left: 50%;z-index: 0;}#sk-container-id-1 div.sk-serial {display: flex;flex-direction: column;align-items: center;background-color: white;padding-right: 0.2em;padding-left: 0.2em;position: relative;}#sk-container-id-1 div.sk-item {position: relative;z-index: 1;}#sk-container-id-1 div.sk-parallel {display: flex;align-items: stretch;justify-content: center;background-color: white;position: relative;}#sk-container-id-1 div.sk-item::before, #sk-container-id-1 div.sk-parallel-item::before {content: \"\";position: absolute;border-left: 1px solid gray;box-sizing: border-box;top: 0;bottom: 0;left: 50%;z-index: -1;}#sk-container-id-1 div.sk-parallel-item {display: flex;flex-direction: column;z-index: 1;position: relative;background-color: white;}#sk-container-id-1 div.sk-parallel-item:first-child::after {align-self: flex-end;width: 50%;}#sk-container-id-1 div.sk-parallel-item:last-child::after {align-self: flex-start;width: 50%;}#sk-container-id-1 div.sk-parallel-item:only-child::after {width: 0;}#sk-container-id-1 div.sk-dashed-wrapped {border: 1px dashed gray;margin: 0 0.4em 0.5em 0.4em;box-sizing: border-box;padding-bottom: 0.4em;background-color: white;}#sk-container-id-1 div.sk-label label {font-family: monospace;font-weight: bold;display: inline-block;line-height: 1.2em;}#sk-container-id-1 div.sk-label-container {text-align: center;}#sk-container-id-1 div.sk-container {/* jupyter's `normalize.less` sets `[hidden] { display: none; }` but bootstrap.min.css set `[hidden] { display: none !important; }` so we also need the `!important` here to be able to override the default hidden behavior on the sphinx rendered scikit-learn.org. See: https://github.com/scikit-learn/scikit-learn/issues/21755 */display: inline-block !important;position: relative;}#sk-container-id-1 div.sk-text-repr-fallback {display: none;}</style><div id=\"sk-container-id-1\" class=\"sk-top-container\"><div class=\"sk-text-repr-fallback\"><pre>RandomizedSearchCV(cv=3,\n",
       "                   estimator=XGBClassifier(base_score=None, booster=None,\n",
       "                                           callbacks=None,\n",
       "                                           colsample_bylevel=None,\n",
       "                                           colsample_bynode=None,\n",
       "                                           colsample_bytree=None,\n",
       "                                           early_stopping_rounds=None,\n",
       "                                           enable_categorical=False,\n",
       "                                           eval_metric=None, feature_types=None,\n",
       "                                           gamma=None, gpu_id=None,\n",
       "                                           grow_policy=None,\n",
       "                                           importance_type=None,\n",
       "                                           interaction_constraints=None,\n",
       "                                           learning_rate...\n",
       "                                           monotone_constraints=None,\n",
       "                                           n_estimators=100, n_jobs=None,\n",
       "                                           num_parallel_tree=None,\n",
       "                                           predictor=None, random_state=None, ...),\n",
       "                   n_jobs=-1,\n",
       "                   param_distributions={&#x27;gamma&#x27;: [0, 0.25, 0.5, 1.0],\n",
       "                                        &#x27;learning_rate&#x27;: [0.001, 0.01, 0.1, 0,\n",
       "                                                          3],\n",
       "                                        &#x27;max_depth&#x27;: [1, 2, 3, 4],\n",
       "                                        &#x27;n_estimators&#x27;: [100],\n",
       "                                        &#x27;reg_lambda&#x27;: [0.1, 1.0, 5.0, 10.0,\n",
       "                                                       50.0, 100.0],\n",
       "                                        &#x27;subsample&#x27;: [0.5, 0.6, 0.7, 0.8, 0.9,\n",
       "                                                      1.0]},\n",
       "                   random_state=1, verbose=2)</pre><b>In a Jupyter environment, please rerun this cell to show the HTML representation or trust the notebook. <br />On GitHub, the HTML representation is unable to render, please try loading this page with nbviewer.org.</b></div><div class=\"sk-container\" hidden><div class=\"sk-item sk-dashed-wrapped\"><div class=\"sk-label-container\"><div class=\"sk-label sk-toggleable\"><input class=\"sk-toggleable__control sk-hidden--visually\" id=\"sk-estimator-id-1\" type=\"checkbox\" ><label for=\"sk-estimator-id-1\" class=\"sk-toggleable__label sk-toggleable__label-arrow\">RandomizedSearchCV</label><div class=\"sk-toggleable__content\"><pre>RandomizedSearchCV(cv=3,\n",
       "                   estimator=XGBClassifier(base_score=None, booster=None,\n",
       "                                           callbacks=None,\n",
       "                                           colsample_bylevel=None,\n",
       "                                           colsample_bynode=None,\n",
       "                                           colsample_bytree=None,\n",
       "                                           early_stopping_rounds=None,\n",
       "                                           enable_categorical=False,\n",
       "                                           eval_metric=None, feature_types=None,\n",
       "                                           gamma=None, gpu_id=None,\n",
       "                                           grow_policy=None,\n",
       "                                           importance_type=None,\n",
       "                                           interaction_constraints=None,\n",
       "                                           learning_rate...\n",
       "                                           monotone_constraints=None,\n",
       "                                           n_estimators=100, n_jobs=None,\n",
       "                                           num_parallel_tree=None,\n",
       "                                           predictor=None, random_state=None, ...),\n",
       "                   n_jobs=-1,\n",
       "                   param_distributions={&#x27;gamma&#x27;: [0, 0.25, 0.5, 1.0],\n",
       "                                        &#x27;learning_rate&#x27;: [0.001, 0.01, 0.1, 0,\n",
       "                                                          3],\n",
       "                                        &#x27;max_depth&#x27;: [1, 2, 3, 4],\n",
       "                                        &#x27;n_estimators&#x27;: [100],\n",
       "                                        &#x27;reg_lambda&#x27;: [0.1, 1.0, 5.0, 10.0,\n",
       "                                                       50.0, 100.0],\n",
       "                                        &#x27;subsample&#x27;: [0.5, 0.6, 0.7, 0.8, 0.9,\n",
       "                                                      1.0]},\n",
       "                   random_state=1, verbose=2)</pre></div></div></div><div class=\"sk-parallel\"><div class=\"sk-parallel-item\"><div class=\"sk-item\"><div class=\"sk-label-container\"><div class=\"sk-label sk-toggleable\"><input class=\"sk-toggleable__control sk-hidden--visually\" id=\"sk-estimator-id-2\" type=\"checkbox\" ><label for=\"sk-estimator-id-2\" class=\"sk-toggleable__label sk-toggleable__label-arrow\">estimator: XGBClassifier</label><div class=\"sk-toggleable__content\"><pre>XGBClassifier(base_score=None, booster=None, callbacks=None,\n",
       "              colsample_bylevel=None, colsample_bynode=None,\n",
       "              colsample_bytree=None, early_stopping_rounds=None,\n",
       "              enable_categorical=False, eval_metric=None, feature_types=None,\n",
       "              gamma=None, gpu_id=None, grow_policy=None, importance_type=None,\n",
       "              interaction_constraints=None, learning_rate=None, max_bin=None,\n",
       "              max_cat_threshold=None, max_cat_to_onehot=None,\n",
       "              max_delta_step=None, max_depth=None, max_leaves=None,\n",
       "              min_child_weight=None, missing=nan, monotone_constraints=None,\n",
       "              n_estimators=100, n_jobs=None, num_parallel_tree=None,\n",
       "              predictor=None, random_state=None, ...)</pre></div></div></div><div class=\"sk-serial\"><div class=\"sk-item\"><div class=\"sk-estimator sk-toggleable\"><input class=\"sk-toggleable__control sk-hidden--visually\" id=\"sk-estimator-id-3\" type=\"checkbox\" ><label for=\"sk-estimator-id-3\" class=\"sk-toggleable__label sk-toggleable__label-arrow\">XGBClassifier</label><div class=\"sk-toggleable__content\"><pre>XGBClassifier(base_score=None, booster=None, callbacks=None,\n",
       "              colsample_bylevel=None, colsample_bynode=None,\n",
       "              colsample_bytree=None, early_stopping_rounds=None,\n",
       "              enable_categorical=False, eval_metric=None, feature_types=None,\n",
       "              gamma=None, gpu_id=None, grow_policy=None, importance_type=None,\n",
       "              interaction_constraints=None, learning_rate=None, max_bin=None,\n",
       "              max_cat_threshold=None, max_cat_to_onehot=None,\n",
       "              max_delta_step=None, max_depth=None, max_leaves=None,\n",
       "              min_child_weight=None, missing=nan, monotone_constraints=None,\n",
       "              n_estimators=100, n_jobs=None, num_parallel_tree=None,\n",
       "              predictor=None, random_state=None, ...)</pre></div></div></div></div></div></div></div></div></div></div>"
      ],
      "text/plain": [
       "RandomizedSearchCV(cv=3,\n",
       "                   estimator=XGBClassifier(base_score=None, booster=None,\n",
       "                                           callbacks=None,\n",
       "                                           colsample_bylevel=None,\n",
       "                                           colsample_bynode=None,\n",
       "                                           colsample_bytree=None,\n",
       "                                           early_stopping_rounds=None,\n",
       "                                           enable_categorical=False,\n",
       "                                           eval_metric=None, feature_types=None,\n",
       "                                           gamma=None, gpu_id=None,\n",
       "                                           grow_policy=None,\n",
       "                                           importance_type=None,\n",
       "                                           interaction_constraints=None,\n",
       "                                           learning_rate...\n",
       "                                           monotone_constraints=None,\n",
       "                                           n_estimators=100, n_jobs=None,\n",
       "                                           num_parallel_tree=None,\n",
       "                                           predictor=None, random_state=None, ...),\n",
       "                   n_jobs=-1,\n",
       "                   param_distributions={'gamma': [0, 0.25, 0.5, 1.0],\n",
       "                                        'learning_rate': [0.001, 0.01, 0.1, 0,\n",
       "                                                          3],\n",
       "                                        'max_depth': [1, 2, 3, 4],\n",
       "                                        'n_estimators': [100],\n",
       "                                        'reg_lambda': [0.1, 1.0, 5.0, 10.0,\n",
       "                                                       50.0, 100.0],\n",
       "                                        'subsample': [0.5, 0.6, 0.7, 0.8, 0.9,\n",
       "                                                      1.0]},\n",
       "                   random_state=1, verbose=2)"
      ]
     },
     "execution_count": 67,
     "metadata": {},
     "output_type": "execute_result"
    }
   ],
   "source": [
    "clf.fit(X_train, y_train)"
   ]
  },
  {
   "cell_type": "code",
   "execution_count": 68,
   "metadata": {},
   "outputs": [],
   "source": [
    "y_pred = clf.predict(X_test)"
   ]
  },
  {
   "cell_type": "code",
   "execution_count": 70,
   "metadata": {},
   "outputs": [],
   "source": [
    "acc = accuracy_score(y_test, y_pred)\n",
    "f1_ = f1_score(y_test, y_pred)"
   ]
  },
  {
   "cell_type": "code",
   "execution_count": 72,
   "metadata": {},
   "outputs": [
    {
     "name": "stdout",
     "output_type": "stream",
     "text": [
      "Accuracy : 0.6595564125897359\n",
      "F1_score : 0.7415503633706984\n"
     ]
    }
   ],
   "source": [
    "print(f'Accuracy : {acc}\\nF1_score : {f1_}')"
   ]
  },
  {
   "attachments": {},
   "cell_type": "markdown",
   "metadata": {},
   "source": [
    "- tracer la courbe roc\n",
    "- effectuer des predictions en fonc de nouvelles valeurs\n",
    "- Ajouter d'autres methodes d'ensemble"
   ]
  },
  {
   "cell_type": "code",
   "execution_count": null,
   "metadata": {},
   "outputs": [],
   "source": []
  },
  {
   "attachments": {},
   "cell_type": "markdown",
   "metadata": {},
   "source": [
    "## Deep Clustering"
   ]
  }
 ],
 "metadata": {
  "kernel_info": {
   "name": "my_env2"
  },
  "kernelspec": {
   "display_name": "Python 3 (ipykernel)",
   "language": "python",
   "name": "python3"
  },
  "language_info": {
   "codemirror_mode": {
    "name": "ipython",
    "version": 3
   },
   "file_extension": ".py",
   "mimetype": "text/x-python",
   "name": "python",
   "nbconvert_exporter": "python",
   "pygments_lexer": "ipython3",
   "version": "3.10.10"
  },
  "microsoft": {
   "host": {
    "AzureML": {
     "notebookHasBeenCompleted": true
    }
   },
   "ms_spell_check": {
    "ms_spell_check_language": "fr"
   }
  },
  "nteract": {
   "version": "nteract-front-end@1.0.0"
  }
 },
 "nbformat": 4,
 "nbformat_minor": 2
}
