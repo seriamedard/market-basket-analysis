{
 "cells": [
  {
   "attachments": {},
   "cell_type": "markdown",
   "metadata": {
    "nteract": {
     "transient": {
      "deleting": false
     }
    }
   },
   "source": [
    "# Import modules"
   ]
  },
  {
   "cell_type": "code",
   "execution_count": 1,
   "metadata": {
    "gather": {
     "logged": 1680458593322
    },
    "jupyter": {
     "outputs_hidden": false,
     "source_hidden": false
    },
    "nteract": {
     "transient": {
      "deleting": false
     }
    }
   },
   "outputs": [],
   "source": [
    "# imports\n",
    "from mlxtend.frequent_patterns import apriori, fpgrowth, association_rules\n",
    "import matplotlib.pyplot as plt\n",
    "from zipfile import ZipFile\n",
    "from scipy import sparse\n",
    "import seaborn as sns\n",
    "import pandas as pd\n",
    "import numpy as np\n",
    "import os\n",
    "\n"
   ]
  },
  {
   "attachments": {},
   "cell_type": "markdown",
   "metadata": {
    "nteract": {
     "transient": {
      "deleting": false
     }
    }
   },
   "source": [
    "## Preprocessing"
   ]
  },
  {
   "attachments": {},
   "cell_type": "markdown",
   "metadata": {
    "nteract": {
     "transient": {
      "deleting": false
     }
    }
   },
   "source": [
    "### Unzip data"
   ]
  },
  {
   "cell_type": "code",
   "execution_count": 2,
   "metadata": {
    "gather": {
     "logged": 1680458625082
    },
    "jupyter": {
     "outputs_hidden": false,
     "source_hidden": false
    },
    "nteract": {
     "transient": {
      "deleting": false
     }
    }
   },
   "outputs": [
    {
     "name": "stdout",
     "output_type": "stream",
     "text": [
      "../data/kaggle/aisles.csv.zip\n",
      "../data/kaggle/departments.csv.zip\n",
      "../data/kaggle/orders.csv.zip\n",
      "../data/kaggle/order_products__prior.csv.zip\n",
      "../data/kaggle/order_products__train.csv.zip\n",
      "../data/kaggle/products.csv.zip\n",
      "../data/kaggle/sample_submission.csv.zip\n"
     ]
    }
   ],
   "source": [
    "# Extract data\n",
    "def preDot(txt):\n",
    "    return txt.rsplit('.', 1)[0]\n",
    "\n",
    "np.random.seed(73)\n",
    "pd.options.mode.chained_assignment = None\n",
    "path = \"../data/kaggle/\" # Path of dataset \n",
    "dataDict = {}\n",
    "\n",
    "for dirname, _ , filenames in os.walk(path) :\n",
    "    #print(filenames)\n",
    "    for filename in filenames:\n",
    "        if filename.endswith('.zip'):\n",
    "            print(os.path.join(dirname, filename))\n",
    "            with ZipFile(os.path.join(dirname, filename), 'r') as zipf:\n",
    "                unzipped_fn = preDot(filename)\n",
    "                with zipf.open(unzipped_fn) as f:\n",
    "                    dataDict[preDot(unzipped_fn)] = pd.read_csv(f)\n",
    "\n",
    "train_orders = dataDict['orders'][dataDict['orders']['eval_set'] == 'train'].drop('eval_set', axis=1)\n",
    "prior_orders = dataDict['orders'][dataDict['orders']['eval_set'] == 'prior'].drop('eval_set', axis=1)\n",
    "test_orders = dataDict['orders'][dataDict['orders']['eval_set'] == 'test'].drop('eval_set', axis=1)"
   ]
  },
  {
   "attachments": {},
   "cell_type": "markdown",
   "metadata": {
    "nteract": {
     "transient": {
      "deleting": false
     }
    }
   },
   "source": [
    "### Exploration\n"
   ]
  },
  {
   "cell_type": "code",
   "execution_count": null,
   "metadata": {
    "gather": {
     "logged": 1680463552684
    },
    "jupyter": {
     "outputs_hidden": false,
     "source_hidden": false
    },
    "nteract": {
     "transient": {
      "deleting": false
     }
    }
   },
   "outputs": [
    {
     "data": {
      "text/plain": [
       "dict_keys(['aisles', 'departments', 'orders', 'order_products__prior', 'order_products__train', 'products', 'sample_submission'])"
      ]
     },
     "execution_count": 3,
     "metadata": {},
     "output_type": "execute_result"
    }
   ],
   "source": [
    "dataDict.keys()"
   ]
  },
  {
   "cell_type": "code",
   "execution_count": 4,
   "metadata": {
    "gather": {
     "logged": 1680463939735
    },
    "jupyter": {
     "outputs_hidden": false,
     "source_hidden": false
    },
    "nteract": {
     "transient": {
      "deleting": false
     }
    }
   },
   "outputs": [],
   "source": [
    "def display_head(df):\n",
    "    print(df.head(),'\\n')\n"
   ]
  },
  {
   "cell_type": "code",
   "execution_count": 5,
   "metadata": {
    "gather": {
     "logged": 1680463942248
    },
    "jupyter": {
     "outputs_hidden": false,
     "source_hidden": false
    },
    "nteract": {
     "transient": {
      "deleting": false
     }
    }
   },
   "outputs": [
    {
     "name": "stdout",
     "output_type": "stream",
     "text": [
      "aisles \n",
      "\n",
      "   aisle_id                       aisle\n",
      "0         1       prepared soups salads\n",
      "1         2           specialty cheeses\n",
      "2         3         energy granola bars\n",
      "3         4               instant foods\n",
      "4         5  marinades meat preparation \n",
      "\n",
      "departments \n",
      "\n",
      "   department_id department\n",
      "0              1     frozen\n",
      "1              2      other\n",
      "2              3     bakery\n",
      "3              4    produce\n",
      "4              5    alcohol \n",
      "\n",
      "orders \n",
      "\n",
      "   order_id  user_id eval_set  order_number  order_dow  order_hour_of_day   \n",
      "0   2539329        1    prior             1          2                  8  \\\n",
      "1   2398795        1    prior             2          3                  7   \n",
      "2    473747        1    prior             3          3                 12   \n",
      "3   2254736        1    prior             4          4                  7   \n",
      "4    431534        1    prior             5          4                 15   \n",
      "\n",
      "   days_since_prior_order  \n",
      "0                     NaN  \n",
      "1                    15.0  \n",
      "2                    21.0  \n",
      "3                    29.0  \n",
      "4                    28.0   \n",
      "\n",
      "order_products__prior \n",
      "\n",
      "   order_id  product_id  add_to_cart_order  reordered\n",
      "0         2       33120                  1          1\n",
      "1         2       28985                  2          1\n",
      "2         2        9327                  3          0\n",
      "3         2       45918                  4          1\n",
      "4         2       30035                  5          0 \n",
      "\n",
      "order_products__train \n",
      "\n",
      "   order_id  product_id  add_to_cart_order  reordered\n",
      "0         1       49302                  1          1\n",
      "1         1       11109                  2          1\n",
      "2         1       10246                  3          0\n",
      "3         1       49683                  4          0\n",
      "4         1       43633                  5          1 \n",
      "\n",
      "products \n",
      "\n",
      "   product_id                                       product_name  aisle_id   \n",
      "0           1                         Chocolate Sandwich Cookies        61  \\\n",
      "1           2                                   All-Seasons Salt       104   \n",
      "2           3               Robust Golden Unsweetened Oolong Tea        94   \n",
      "3           4  Smart Ones Classic Favorites Mini Rigatoni Wit...        38   \n",
      "4           5                          Green Chile Anytime Sauce         5   \n",
      "\n",
      "   department_id  \n",
      "0             19  \n",
      "1             13  \n",
      "2              7  \n",
      "3              1  \n",
      "4             13   \n",
      "\n",
      "sample_submission \n",
      "\n",
      "   order_id     products\n",
      "0        17  39276 29259\n",
      "1        34  39276 29259\n",
      "2       137  39276 29259\n",
      "3       182  39276 29259\n",
      "4       257  39276 29259 \n",
      "\n"
     ]
    }
   ],
   "source": [
    "for file in dataDict.keys():\n",
    "    print(file,'\\n')\n",
    "    display_head(dataDict[file])"
   ]
  },
  {
   "attachments": {},
   "cell_type": "markdown",
   "metadata": {
    "nteract": {
     "transient": {
      "deleting": false
     }
    }
   },
   "source": [
    "### Transactional Table Preparation"
   ]
  },
  {
   "cell_type": "code",
   "execution_count": 14,
   "metadata": {
    "gather": {
     "logged": 1680458693709
    },
    "jupyter": {
     "outputs_hidden": false,
     "source_hidden": false
    },
    "nteract": {
     "transient": {
      "deleting": false
     }
    }
   },
   "outputs": [],
   "source": [
    "small_train_data = dataDict['order_products__train'][['order_id', 'product_id']]"
   ]
  },
  {
   "cell_type": "code",
   "execution_count": 15,
   "metadata": {
    "gather": {
     "logged": 1680458699856
    },
    "jupyter": {
     "outputs_hidden": false,
     "source_hidden": false
    },
    "nteract": {
     "transient": {
      "deleting": false
     }
    }
   },
   "outputs": [
    {
     "data": {
      "text/plain": [
       "(1384617, 2)"
      ]
     },
     "execution_count": 15,
     "metadata": {},
     "output_type": "execute_result"
    }
   ],
   "source": [
    "small_train_data.shape"
   ]
  },
  {
   "cell_type": "code",
   "execution_count": 16,
   "metadata": {
    "gather": {
     "logged": 1680458713135
    },
    "jupyter": {
     "outputs_hidden": false,
     "source_hidden": false
    },
    "nteract": {
     "transient": {
      "deleting": false
     }
    }
   },
   "outputs": [
    {
     "name": "stdout",
     "output_type": "stream",
     "text": [
      " Il y'a 131209 transactions et 39123 produits\n"
     ]
    }
   ],
   "source": [
    "print(f' Il y\\'a {len(small_train_data.order_id.unique())} transactions et {len(small_train_data.product_id.unique())} produits')"
   ]
  },
  {
   "cell_type": "code",
   "execution_count": 26,
   "metadata": {},
   "outputs": [
    {
     "data": {
      "text/plain": [
       "order_id      int64\n",
       "product_id    int64\n",
       "dtype: object"
      ]
     },
     "execution_count": 26,
     "metadata": {},
     "output_type": "execute_result"
    }
   ],
   "source": [
    "small_train_data.dtypes"
   ]
  },
  {
   "cell_type": "code",
   "execution_count": 66,
   "metadata": {
    "gather": {
     "logged": 1680459095659
    },
    "jupyter": {
     "outputs_hidden": false,
     "source_hidden": false
    },
    "nteract": {
     "transient": {
      "deleting": false
     }
    }
   },
   "outputs": [],
   "source": [
    "# Table of articles\n",
    "products = dataDict[\"products\"]"
   ]
  },
  {
   "cell_type": "code",
   "execution_count": 28,
   "metadata": {},
   "outputs": [
    {
     "data": {
      "text/html": [
       "<div>\n",
       "<style scoped>\n",
       "    .dataframe tbody tr th:only-of-type {\n",
       "        vertical-align: middle;\n",
       "    }\n",
       "\n",
       "    .dataframe tbody tr th {\n",
       "        vertical-align: top;\n",
       "    }\n",
       "\n",
       "    .dataframe thead th {\n",
       "        text-align: right;\n",
       "    }\n",
       "</style>\n",
       "<table border=\"1\" class=\"dataframe\">\n",
       "  <thead>\n",
       "    <tr style=\"text-align: right;\">\n",
       "      <th></th>\n",
       "      <th>product_id</th>\n",
       "      <th>product_name</th>\n",
       "      <th>aisle_id</th>\n",
       "      <th>department_id</th>\n",
       "    </tr>\n",
       "  </thead>\n",
       "  <tbody>\n",
       "    <tr>\n",
       "      <th>0</th>\n",
       "      <td>1</td>\n",
       "      <td>Chocolate Sandwich Cookies</td>\n",
       "      <td>61</td>\n",
       "      <td>19</td>\n",
       "    </tr>\n",
       "    <tr>\n",
       "      <th>1</th>\n",
       "      <td>2</td>\n",
       "      <td>All-Seasons Salt</td>\n",
       "      <td>104</td>\n",
       "      <td>13</td>\n",
       "    </tr>\n",
       "    <tr>\n",
       "      <th>2</th>\n",
       "      <td>3</td>\n",
       "      <td>Robust Golden Unsweetened Oolong Tea</td>\n",
       "      <td>94</td>\n",
       "      <td>7</td>\n",
       "    </tr>\n",
       "    <tr>\n",
       "      <th>3</th>\n",
       "      <td>4</td>\n",
       "      <td>Smart Ones Classic Favorites Mini Rigatoni Wit...</td>\n",
       "      <td>38</td>\n",
       "      <td>1</td>\n",
       "    </tr>\n",
       "    <tr>\n",
       "      <th>4</th>\n",
       "      <td>5</td>\n",
       "      <td>Green Chile Anytime Sauce</td>\n",
       "      <td>5</td>\n",
       "      <td>13</td>\n",
       "    </tr>\n",
       "  </tbody>\n",
       "</table>\n",
       "</div>"
      ],
      "text/plain": [
       "   product_id                                       product_name  aisle_id   \n",
       "0           1                         Chocolate Sandwich Cookies        61  \\\n",
       "1           2                                   All-Seasons Salt       104   \n",
       "2           3               Robust Golden Unsweetened Oolong Tea        94   \n",
       "3           4  Smart Ones Classic Favorites Mini Rigatoni Wit...        38   \n",
       "4           5                          Green Chile Anytime Sauce         5   \n",
       "\n",
       "   department_id  \n",
       "0             19  \n",
       "1             13  \n",
       "2              7  \n",
       "3              1  \n",
       "4             13  "
      ]
     },
     "execution_count": 28,
     "metadata": {},
     "output_type": "execute_result"
    }
   ],
   "source": [
    "products.head()"
   ]
  },
  {
   "cell_type": "code",
   "execution_count": 29,
   "metadata": {},
   "outputs": [
    {
     "data": {
      "text/plain": [
       "product_id       49688\n",
       "product_name     49688\n",
       "aisle_id           134\n",
       "department_id       21\n",
       "dtype: int64"
      ]
     },
     "execution_count": 29,
     "metadata": {},
     "output_type": "execute_result"
    }
   ],
   "source": [
    "products.nunique()"
   ]
  },
  {
   "cell_type": "code",
   "execution_count": 30,
   "metadata": {},
   "outputs": [
    {
     "data": {
      "text/plain": [
       "0                               Chocolate Sandwich Cookies\n",
       "1                                         All-Seasons Salt\n",
       "2                     Robust Golden Unsweetened Oolong Tea\n",
       "3        Smart Ones Classic Favorites Mini Rigatoni Wit...\n",
       "4                                Green Chile Anytime Sauce\n",
       "                               ...                        \n",
       "49683            Vodka, Triple Distilled, Twist of Vanilla\n",
       "49684                   En Croute Roast Hazelnut Cranberry\n",
       "49685                                     Artisan Baguette\n",
       "49686           Smartblend Healthy Metabolism Dry Cat Food\n",
       "49687                               Fresh Foaming Cleanser\n",
       "Name: product_name, Length: 49688, dtype: object"
      ]
     },
     "execution_count": 30,
     "metadata": {},
     "output_type": "execute_result"
    }
   ],
   "source": [
    "products['product_name']"
   ]
  },
  {
   "cell_type": "code",
   "execution_count": 31,
   "metadata": {
    "gather": {
     "logged": 1680459238132
    },
    "jupyter": {
     "outputs_hidden": false,
     "source_hidden": false
    },
    "nteract": {
     "transient": {
      "deleting": false
     }
    }
   },
   "outputs": [],
   "source": [
    "# La table de transaction ne peut pas tenir dans la memoire\n",
    "# Split en 3 parties\n",
    "small_train_data_split = (small_train_data[:461543],\n",
    "                            small_train_data[461543:461543*2-1],\n",
    "                            small_train_data[461543*2-1:])"
   ]
  },
  {
   "cell_type": "code",
   "execution_count": 32,
   "metadata": {},
   "outputs": [
    {
     "data": {
      "text/plain": [
       "923086"
      ]
     },
     "execution_count": 32,
     "metadata": {},
     "output_type": "execute_result"
    }
   ],
   "source": [
    "small_train_data_split[0].size"
   ]
  },
  {
   "cell_type": "code",
   "execution_count": 33,
   "metadata": {},
   "outputs": [
    {
     "data": {
      "text/plain": [
       "923084"
      ]
     },
     "execution_count": 33,
     "metadata": {},
     "output_type": "execute_result"
    }
   ],
   "source": [
    "small_train_data_split[1].size"
   ]
  },
  {
   "cell_type": "code",
   "execution_count": 34,
   "metadata": {},
   "outputs": [
    {
     "data": {
      "text/plain": [
       "923064"
      ]
     },
     "execution_count": 34,
     "metadata": {},
     "output_type": "execute_result"
    }
   ],
   "source": [
    "small_train_data_split[2].size"
   ]
  },
  {
   "cell_type": "code",
   "execution_count": 35,
   "metadata": {
    "gather": {
     "logged": 1680459934702
    },
    "jupyter": {
     "outputs_hidden": false,
     "source_hidden": false
    },
    "nteract": {
     "transient": {
      "deleting": false
     }
    }
   },
   "outputs": [],
   "source": [
    "# Traitement des valeurs manquantes\n",
    "\n",
    "pivots = []\n",
    "for df in small_train_data_split :\n",
    "    pvt = ~(df.pivot(index='order_id', columns='product_id', values='product_id').isna())\n",
    "    pivots.append(pvt.astype(pd.SparseDtype(bool)))\n",
    "del pvt\n",
    "\n",
    "product_cols = sorted(small_train_data.product_id.unique())"
   ]
  },
  {
   "cell_type": "code",
   "execution_count": 36,
   "metadata": {
    "gather": {
     "logged": 1680461063389
    },
    "jupyter": {
     "outputs_hidden": false,
     "source_hidden": false
    },
    "nteract": {
     "transient": {
      "deleting": false
     }
    }
   },
   "outputs": [],
   "source": [
    "# Condenser les produits pour chaque transaction\n",
    "for i in range(len(pivots)):\n",
    "    pivots[i] = pivots[i].reindex(columns=product_cols, fill_value=False).astype(pd.SparseDtype(bool))\n",
    "    pivots[i] = sparse.csr_matrix(pivots[i])\n",
    "\n",
    "pivots = sparse.vstack(pivots)\n",
    "\n",
    "truth_table=pd.DataFrame(pivots.todense(), index=small_train_data.order_id.unique(),\n",
    "                        columns=product_cols)"
   ]
  },
  {
   "cell_type": "code",
   "execution_count": 37,
   "metadata": {
    "gather": {
     "logged": 1680461930634
    },
    "jupyter": {
     "outputs_hidden": false,
     "source_hidden": false
    },
    "nteract": {
     "transient": {
      "deleting": false
     }
    }
   },
   "outputs": [
    {
     "data": {
      "text/plain": [
       "(131209, 39123)"
      ]
     },
     "execution_count": 37,
     "metadata": {},
     "output_type": "execute_result"
    }
   ],
   "source": [
    "truth_table.shape"
   ]
  },
  {
   "cell_type": "code",
   "execution_count": 38,
   "metadata": {
    "gather": {
     "logged": 1680461936093
    },
    "jupyter": {
     "outputs_hidden": false,
     "source_hidden": false
    },
    "nteract": {
     "transient": {
      "deleting": false
     }
    }
   },
   "outputs": [
    {
     "data": {
      "text/html": [
       "<div>\n",
       "<style scoped>\n",
       "    .dataframe tbody tr th:only-of-type {\n",
       "        vertical-align: middle;\n",
       "    }\n",
       "\n",
       "    .dataframe tbody tr th {\n",
       "        vertical-align: top;\n",
       "    }\n",
       "\n",
       "    .dataframe thead th {\n",
       "        text-align: right;\n",
       "    }\n",
       "</style>\n",
       "<table border=\"1\" class=\"dataframe\">\n",
       "  <thead>\n",
       "    <tr style=\"text-align: right;\">\n",
       "      <th></th>\n",
       "      <th>1</th>\n",
       "      <th>2</th>\n",
       "      <th>3</th>\n",
       "      <th>4</th>\n",
       "      <th>5</th>\n",
       "      <th>7</th>\n",
       "      <th>8</th>\n",
       "      <th>9</th>\n",
       "      <th>10</th>\n",
       "      <th>11</th>\n",
       "      <th>...</th>\n",
       "      <th>49677</th>\n",
       "      <th>49678</th>\n",
       "      <th>49679</th>\n",
       "      <th>49680</th>\n",
       "      <th>49681</th>\n",
       "      <th>49682</th>\n",
       "      <th>49683</th>\n",
       "      <th>49686</th>\n",
       "      <th>49687</th>\n",
       "      <th>49688</th>\n",
       "    </tr>\n",
       "  </thead>\n",
       "  <tbody>\n",
       "    <tr>\n",
       "      <th>1</th>\n",
       "      <td>False</td>\n",
       "      <td>False</td>\n",
       "      <td>False</td>\n",
       "      <td>False</td>\n",
       "      <td>False</td>\n",
       "      <td>False</td>\n",
       "      <td>False</td>\n",
       "      <td>False</td>\n",
       "      <td>False</td>\n",
       "      <td>False</td>\n",
       "      <td>...</td>\n",
       "      <td>False</td>\n",
       "      <td>False</td>\n",
       "      <td>False</td>\n",
       "      <td>False</td>\n",
       "      <td>False</td>\n",
       "      <td>False</td>\n",
       "      <td>True</td>\n",
       "      <td>False</td>\n",
       "      <td>False</td>\n",
       "      <td>False</td>\n",
       "    </tr>\n",
       "    <tr>\n",
       "      <th>36</th>\n",
       "      <td>False</td>\n",
       "      <td>False</td>\n",
       "      <td>False</td>\n",
       "      <td>False</td>\n",
       "      <td>False</td>\n",
       "      <td>False</td>\n",
       "      <td>False</td>\n",
       "      <td>False</td>\n",
       "      <td>False</td>\n",
       "      <td>False</td>\n",
       "      <td>...</td>\n",
       "      <td>False</td>\n",
       "      <td>False</td>\n",
       "      <td>False</td>\n",
       "      <td>False</td>\n",
       "      <td>False</td>\n",
       "      <td>False</td>\n",
       "      <td>False</td>\n",
       "      <td>False</td>\n",
       "      <td>False</td>\n",
       "      <td>False</td>\n",
       "    </tr>\n",
       "    <tr>\n",
       "      <th>38</th>\n",
       "      <td>False</td>\n",
       "      <td>False</td>\n",
       "      <td>False</td>\n",
       "      <td>False</td>\n",
       "      <td>False</td>\n",
       "      <td>False</td>\n",
       "      <td>False</td>\n",
       "      <td>False</td>\n",
       "      <td>False</td>\n",
       "      <td>False</td>\n",
       "      <td>...</td>\n",
       "      <td>False</td>\n",
       "      <td>False</td>\n",
       "      <td>False</td>\n",
       "      <td>False</td>\n",
       "      <td>False</td>\n",
       "      <td>False</td>\n",
       "      <td>False</td>\n",
       "      <td>False</td>\n",
       "      <td>False</td>\n",
       "      <td>False</td>\n",
       "    </tr>\n",
       "    <tr>\n",
       "      <th>96</th>\n",
       "      <td>False</td>\n",
       "      <td>False</td>\n",
       "      <td>False</td>\n",
       "      <td>False</td>\n",
       "      <td>False</td>\n",
       "      <td>False</td>\n",
       "      <td>False</td>\n",
       "      <td>False</td>\n",
       "      <td>False</td>\n",
       "      <td>False</td>\n",
       "      <td>...</td>\n",
       "      <td>False</td>\n",
       "      <td>False</td>\n",
       "      <td>False</td>\n",
       "      <td>False</td>\n",
       "      <td>False</td>\n",
       "      <td>False</td>\n",
       "      <td>False</td>\n",
       "      <td>False</td>\n",
       "      <td>False</td>\n",
       "      <td>False</td>\n",
       "    </tr>\n",
       "    <tr>\n",
       "      <th>98</th>\n",
       "      <td>False</td>\n",
       "      <td>False</td>\n",
       "      <td>False</td>\n",
       "      <td>False</td>\n",
       "      <td>False</td>\n",
       "      <td>False</td>\n",
       "      <td>False</td>\n",
       "      <td>False</td>\n",
       "      <td>False</td>\n",
       "      <td>False</td>\n",
       "      <td>...</td>\n",
       "      <td>False</td>\n",
       "      <td>False</td>\n",
       "      <td>False</td>\n",
       "      <td>False</td>\n",
       "      <td>False</td>\n",
       "      <td>False</td>\n",
       "      <td>False</td>\n",
       "      <td>False</td>\n",
       "      <td>False</td>\n",
       "      <td>False</td>\n",
       "    </tr>\n",
       "  </tbody>\n",
       "</table>\n",
       "<p>5 rows × 39123 columns</p>\n",
       "</div>"
      ],
      "text/plain": [
       "    1      2      3      4      5      7      8      9      10     11     ...   \n",
       "1   False  False  False  False  False  False  False  False  False  False  ...  \\\n",
       "36  False  False  False  False  False  False  False  False  False  False  ...   \n",
       "38  False  False  False  False  False  False  False  False  False  False  ...   \n",
       "96  False  False  False  False  False  False  False  False  False  False  ...   \n",
       "98  False  False  False  False  False  False  False  False  False  False  ...   \n",
       "\n",
       "    49677  49678  49679  49680  49681  49682  49683  49686  49687  49688  \n",
       "1   False  False  False  False  False  False   True  False  False  False  \n",
       "36  False  False  False  False  False  False  False  False  False  False  \n",
       "38  False  False  False  False  False  False  False  False  False  False  \n",
       "96  False  False  False  False  False  False  False  False  False  False  \n",
       "98  False  False  False  False  False  False  False  False  False  False  \n",
       "\n",
       "[5 rows x 39123 columns]"
      ]
     },
     "execution_count": 38,
     "metadata": {},
     "output_type": "execute_result"
    }
   ],
   "source": [
    "truth_table.head()"
   ]
  },
  {
   "attachments": {},
   "cell_type": "markdown",
   "metadata": {
    "nteract": {
     "transient": {
      "deleting": false
     }
    }
   },
   "source": [
    "## Algorithmes"
   ]
  },
  {
   "attachments": {},
   "cell_type": "markdown",
   "metadata": {
    "nteract": {
     "transient": {
      "deleting": false
     }
    }
   },
   "source": [
    "### Regles d'associations"
   ]
  },
  {
   "attachments": {},
   "cell_type": "markdown",
   "metadata": {},
   "source": [
    "Voyons le probleme sous l'angle de correlations entre les items en fonction du comportement d'achat.\n",
    "\n",
    "On cherche donc à savoir quel produit est succeptible d'être acheter en fonction de la composition du panier d'achat.\n",
    "\n",
    "Formellement ? quelles combinaisons de produits sont fréquemment achetées ensemble ?"
   ]
  },
  {
   "attachments": {},
   "cell_type": "markdown",
   "metadata": {
    "nteract": {
     "transient": {
      "deleting": false
     }
    }
   },
   "source": [
    "#### Apriori"
   ]
  },
  {
   "attachments": {},
   "cell_type": "markdown",
   "metadata": {},
   "source": [
    "1. Generer les itemset frequents\n",
    "2. Former les règles d'associations"
   ]
  },
  {
   "attachments": {},
   "cell_type": "markdown",
   "metadata": {
    "nteract": {
     "transient": {
      "deleting": false
     }
    }
   },
   "source": [
    "Generation des itemset frequents"
   ]
  },
  {
   "cell_type": "code",
   "execution_count": 39,
   "metadata": {
    "gather": {
     "logged": 1680461957170
    },
    "jupyter": {
     "outputs_hidden": false,
     "source_hidden": false
    },
    "nteract": {
     "transient": {
      "deleting": false
     }
    }
   },
   "outputs": [],
   "source": [
    "# Seuil de support\n",
    "min_sup = [0.001*i for i in range(4,100,2) ]"
   ]
  },
  {
   "cell_type": "code",
   "execution_count": 43,
   "metadata": {
    "gather": {
     "logged": 1680462844298
    },
    "jupyter": {
     "outputs_hidden": false,
     "source_hidden": false
    },
    "nteract": {
     "transient": {
      "deleting": false
     }
    }
   },
   "outputs": [],
   "source": [
    "import timeit\n",
    "apriori_start_time = timeit.default_timer()\n",
    "freq_itemsets_ap = []\n",
    "for i in min_sup:\n",
    "    tmp_f = apriori(truth_table, min_support=i, use_colnames=True)\n",
    "    freq_itemsets_ap.append(tmp_f)\n",
    "apriori_time = timeit.default_timer() - apriori_start_time"
   ]
  },
  {
   "cell_type": "code",
   "execution_count": 44,
   "metadata": {},
   "outputs": [
    {
     "name": "stdout",
     "output_type": "stream",
     "text": [
      "Temps Apriori pour generer: 1208.07 S\n"
     ]
    }
   ],
   "source": [
    "print(f\"Temps Apriori pour generer: {apriori_time:.2f} S\")"
   ]
  },
  {
   "cell_type": "code",
   "execution_count": 45,
   "metadata": {
    "gather": {
     "logged": 1680463234275
    },
    "jupyter": {
     "outputs_hidden": false,
     "source_hidden": false
    },
    "nteract": {
     "transient": {
      "deleting": false
     }
    }
   },
   "outputs": [
    {
     "data": {
      "image/png": "[encoded data removed]",
      "text/plain": [
       "<Figure size 640x480 with 1 Axes>"
      ]
     },
     "metadata": {},
     "output_type": "display_data"
    }
   ],
   "source": [
    "# Plot frequent itemset with minsup\n",
    "sns.set()\n",
    "y_ap = [i.shape[0] for i in freq_itemsets_ap]\n",
    "X_ap = min_sup\n",
    "plt.plot(X_ap,y_ap)\n",
    "plt.xlabel('support')\n",
    "plt.ylabel('Nombre d\\'items')\n",
    "plt.show()\n"
   ]
  },
  {
   "cell_type": "code",
   "execution_count": 46,
   "metadata": {
    "gather": {
     "logged": 1680463255678
    },
    "jupyter": {
     "outputs_hidden": false,
     "source_hidden": false
    },
    "nteract": {
     "transient": {
      "deleting": false
     }
    }
   },
   "outputs": [
    {
     "data": {
      "text/html": [
       "<div>\n",
       "<style scoped>\n",
       "    .dataframe tbody tr th:only-of-type {\n",
       "        vertical-align: middle;\n",
       "    }\n",
       "\n",
       "    .dataframe tbody tr th {\n",
       "        vertical-align: top;\n",
       "    }\n",
       "\n",
       "    .dataframe thead th {\n",
       "        text-align: right;\n",
       "    }\n",
       "</style>\n",
       "<table border=\"1\" class=\"dataframe\">\n",
       "  <thead>\n",
       "    <tr style=\"text-align: right;\">\n",
       "      <th></th>\n",
       "      <th>support</th>\n",
       "      <th>itemsets</th>\n",
       "    </tr>\n",
       "  </thead>\n",
       "  <tbody>\n",
       "    <tr>\n",
       "      <th>0</th>\n",
       "      <td>0.011485</td>\n",
       "      <td>(196)</td>\n",
       "    </tr>\n",
       "    <tr>\n",
       "      <th>1</th>\n",
       "      <td>0.009260</td>\n",
       "      <td>(260)</td>\n",
       "    </tr>\n",
       "    <tr>\n",
       "      <th>2</th>\n",
       "      <td>0.009733</td>\n",
       "      <td>(432)</td>\n",
       "    </tr>\n",
       "    <tr>\n",
       "      <th>3</th>\n",
       "      <td>0.008887</td>\n",
       "      <td>(2295)</td>\n",
       "    </tr>\n",
       "    <tr>\n",
       "      <th>4</th>\n",
       "      <td>0.009893</td>\n",
       "      <td>(3957)</td>\n",
       "    </tr>\n",
       "  </tbody>\n",
       "</table>\n",
       "</div>"
      ],
      "text/plain": [
       "    support itemsets\n",
       "0  0.011485    (196)\n",
       "1  0.009260    (260)\n",
       "2  0.009733    (432)\n",
       "3  0.008887   (2295)\n",
       "4  0.009893   (3957)"
      ]
     },
     "execution_count": 46,
     "metadata": {},
     "output_type": "execute_result"
    }
   ],
   "source": [
    "freq_itemsets_ap[2].head()"
   ]
  },
  {
   "cell_type": "code",
   "execution_count": 47,
   "metadata": {
    "gather": {
     "logged": 1680463260374
    },
    "jupyter": {
     "outputs_hidden": false,
     "source_hidden": false
    },
    "nteract": {
     "transient": {
      "deleting": false
     }
    }
   },
   "outputs": [
    {
     "data": {
      "text/plain": [
       "(169, 2)"
      ]
     },
     "execution_count": 47,
     "metadata": {},
     "output_type": "execute_result"
    }
   ],
   "source": [
    "freq_itemsets_ap[2].shape"
   ]
  },
  {
   "cell_type": "code",
   "execution_count": 48,
   "metadata": {
    "gather": {
     "logged": 1680463297580
    },
    "jupyter": {
     "outputs_hidden": false,
     "source_hidden": false
    },
    "nteract": {
     "transient": {
      "deleting": false
     }
    }
   },
   "outputs": [
    {
     "data": {
      "text/html": [
       "<div>\n",
       "<style scoped>\n",
       "    .dataframe tbody tr th:only-of-type {\n",
       "        vertical-align: middle;\n",
       "    }\n",
       "\n",
       "    .dataframe tbody tr th {\n",
       "        vertical-align: top;\n",
       "    }\n",
       "\n",
       "    .dataframe thead th {\n",
       "        text-align: right;\n",
       "    }\n",
       "</style>\n",
       "<table border=\"1\" class=\"dataframe\">\n",
       "  <thead>\n",
       "    <tr style=\"text-align: right;\">\n",
       "      <th></th>\n",
       "      <th>support</th>\n",
       "      <th>itemsets</th>\n",
       "      <th>length</th>\n",
       "    </tr>\n",
       "  </thead>\n",
       "  <tbody>\n",
       "    <tr>\n",
       "      <th>0</th>\n",
       "      <td>0.011485</td>\n",
       "      <td>(196)</td>\n",
       "      <td>1</td>\n",
       "    </tr>\n",
       "    <tr>\n",
       "      <th>1</th>\n",
       "      <td>0.009260</td>\n",
       "      <td>(260)</td>\n",
       "      <td>1</td>\n",
       "    </tr>\n",
       "    <tr>\n",
       "      <th>2</th>\n",
       "      <td>0.009733</td>\n",
       "      <td>(432)</td>\n",
       "      <td>1</td>\n",
       "    </tr>\n",
       "    <tr>\n",
       "      <th>3</th>\n",
       "      <td>0.008887</td>\n",
       "      <td>(2295)</td>\n",
       "      <td>1</td>\n",
       "    </tr>\n",
       "    <tr>\n",
       "      <th>4</th>\n",
       "      <td>0.009893</td>\n",
       "      <td>(3957)</td>\n",
       "      <td>1</td>\n",
       "    </tr>\n",
       "    <tr>\n",
       "      <th>...</th>\n",
       "      <td>...</td>\n",
       "      <td>...</td>\n",
       "      <td>...</td>\n",
       "    </tr>\n",
       "    <tr>\n",
       "      <th>164</th>\n",
       "      <td>0.009382</td>\n",
       "      <td>(45066, 24852)</td>\n",
       "      <td>2</td>\n",
       "    </tr>\n",
       "    <tr>\n",
       "      <th>165</th>\n",
       "      <td>0.016447</td>\n",
       "      <td>(47626, 24852)</td>\n",
       "      <td>2</td>\n",
       "    </tr>\n",
       "    <tr>\n",
       "      <th>166</th>\n",
       "      <td>0.016889</td>\n",
       "      <td>(24852, 47766)</td>\n",
       "      <td>2</td>\n",
       "    </tr>\n",
       "    <tr>\n",
       "      <th>167</th>\n",
       "      <td>0.012156</td>\n",
       "      <td>(26209, 47626)</td>\n",
       "      <td>2</td>\n",
       "    </tr>\n",
       "    <tr>\n",
       "      <th>168</th>\n",
       "      <td>0.010281</td>\n",
       "      <td>(47626, 47766)</td>\n",
       "      <td>2</td>\n",
       "    </tr>\n",
       "  </tbody>\n",
       "</table>\n",
       "<p>169 rows × 3 columns</p>\n",
       "</div>"
      ],
      "text/plain": [
       "      support        itemsets  length\n",
       "0    0.011485           (196)       1\n",
       "1    0.009260           (260)       1\n",
       "2    0.009733           (432)       1\n",
       "3    0.008887          (2295)       1\n",
       "4    0.009893          (3957)       1\n",
       "..        ...             ...     ...\n",
       "164  0.009382  (45066, 24852)       2\n",
       "165  0.016447  (47626, 24852)       2\n",
       "166  0.016889  (24852, 47766)       2\n",
       "167  0.012156  (26209, 47626)       2\n",
       "168  0.010281  (47626, 47766)       2\n",
       "\n",
       "[169 rows x 3 columns]"
      ]
     },
     "execution_count": 48,
     "metadata": {},
     "output_type": "execute_result"
    }
   ],
   "source": [
    "# Choix apriori avec min sup = 0.8%\n",
    "freq_itemsets_ap_1 =  freq_itemsets_ap[2]\n",
    "freq_itemsets_ap_1['length'] = freq_itemsets_ap_1['itemsets'].apply(lambda x:len(x))\n",
    "freq_itemsets_ap_1"
   ]
  },
  {
   "attachments": {},
   "cell_type": "markdown",
   "metadata": {
    "nteract": {
     "transient": {
      "deleting": false
     }
    }
   },
   "source": [
    "2. Generer des regles d'associations"
   ]
  },
  {
   "cell_type": "code",
   "execution_count": 49,
   "metadata": {
    "gather": {
     "logged": 1680463308330
    },
    "jupyter": {
     "outputs_hidden": false,
     "source_hidden": false
    },
    "nteract": {
     "transient": {
      "deleting": false
     }
    }
   },
   "outputs": [],
   "source": [
    "min_sup_c = 0.001"
   ]
  },
  {
   "cell_type": "code",
   "execution_count": 50,
   "metadata": {
    "gather": {
     "logged": 1680463324318
    },
    "jupyter": {
     "outputs_hidden": false,
     "source_hidden": false
    },
    "nteract": {
     "transient": {
      "deleting": false
     }
    }
   },
   "outputs": [],
   "source": [
    "rules_aprioi = association_rules(freq_itemsets_ap_1, metric='support', min_threshold=min_sup_c)"
   ]
  },
  {
   "cell_type": "code",
   "execution_count": 51,
   "metadata": {
    "gather": {
     "logged": 1680463331358
    },
    "jupyter": {
     "outputs_hidden": false,
     "source_hidden": false
    },
    "nteract": {
     "transient": {
      "deleting": false
     }
    }
   },
   "outputs": [
    {
     "data": {
      "text/html": [
       "<div>\n",
       "<style scoped>\n",
       "    .dataframe tbody tr th:only-of-type {\n",
       "        vertical-align: middle;\n",
       "    }\n",
       "\n",
       "    .dataframe tbody tr th {\n",
       "        vertical-align: top;\n",
       "    }\n",
       "\n",
       "    .dataframe thead th {\n",
       "        text-align: right;\n",
       "    }\n",
       "</style>\n",
       "<table border=\"1\" class=\"dataframe\">\n",
       "  <thead>\n",
       "    <tr style=\"text-align: right;\">\n",
       "      <th></th>\n",
       "      <th>antecedents</th>\n",
       "      <th>consequents</th>\n",
       "      <th>antecedent support</th>\n",
       "      <th>consequent support</th>\n",
       "      <th>support</th>\n",
       "      <th>confidence</th>\n",
       "      <th>lift</th>\n",
       "      <th>leverage</th>\n",
       "      <th>conviction</th>\n",
       "      <th>zhangs_metric</th>\n",
       "    </tr>\n",
       "  </thead>\n",
       "  <tbody>\n",
       "    <tr>\n",
       "      <th>0</th>\n",
       "      <td>(24852)</td>\n",
       "      <td>(4605)</td>\n",
       "      <td>0.142719</td>\n",
       "      <td>0.028672</td>\n",
       "      <td>0.008163</td>\n",
       "      <td>0.057193</td>\n",
       "      <td>1.994754</td>\n",
       "      <td>0.004071</td>\n",
       "      <td>1.030252</td>\n",
       "      <td>0.581705</td>\n",
       "    </tr>\n",
       "    <tr>\n",
       "      <th>1</th>\n",
       "      <td>(4605)</td>\n",
       "      <td>(24852)</td>\n",
       "      <td>0.028672</td>\n",
       "      <td>0.142719</td>\n",
       "      <td>0.008163</td>\n",
       "      <td>0.284689</td>\n",
       "      <td>1.994754</td>\n",
       "      <td>0.004071</td>\n",
       "      <td>1.198473</td>\n",
       "      <td>0.513405</td>\n",
       "    </tr>\n",
       "    <tr>\n",
       "      <th>2</th>\n",
       "      <td>(4920)</td>\n",
       "      <td>(24852)</td>\n",
       "      <td>0.030935</td>\n",
       "      <td>0.142719</td>\n",
       "      <td>0.008856</td>\n",
       "      <td>0.286277</td>\n",
       "      <td>2.005883</td>\n",
       "      <td>0.004441</td>\n",
       "      <td>1.201141</td>\n",
       "      <td>0.517475</td>\n",
       "    </tr>\n",
       "    <tr>\n",
       "      <th>3</th>\n",
       "      <td>(24852)</td>\n",
       "      <td>(4920)</td>\n",
       "      <td>0.142719</td>\n",
       "      <td>0.030935</td>\n",
       "      <td>0.008856</td>\n",
       "      <td>0.062053</td>\n",
       "      <td>2.005883</td>\n",
       "      <td>0.004441</td>\n",
       "      <td>1.033176</td>\n",
       "      <td>0.584950</td>\n",
       "    </tr>\n",
       "    <tr>\n",
       "      <th>4</th>\n",
       "      <td>(13176)</td>\n",
       "      <td>(5876)</td>\n",
       "      <td>0.117980</td>\n",
       "      <td>0.026713</td>\n",
       "      <td>0.008132</td>\n",
       "      <td>0.068928</td>\n",
       "      <td>2.580293</td>\n",
       "      <td>0.004980</td>\n",
       "      <td>1.045340</td>\n",
       "      <td>0.694369</td>\n",
       "    </tr>\n",
       "  </tbody>\n",
       "</table>\n",
       "</div>"
      ],
      "text/plain": [
       "  antecedents consequents  antecedent support  consequent support   support   \n",
       "0     (24852)      (4605)            0.142719            0.028672  0.008163  \\\n",
       "1      (4605)     (24852)            0.028672            0.142719  0.008163   \n",
       "2      (4920)     (24852)            0.030935            0.142719  0.008856   \n",
       "3     (24852)      (4920)            0.142719            0.030935  0.008856   \n",
       "4     (13176)      (5876)            0.117980            0.026713  0.008132   \n",
       "\n",
       "   confidence      lift  leverage  conviction  zhangs_metric  \n",
       "0    0.057193  1.994754  0.004071    1.030252       0.581705  \n",
       "1    0.284689  1.994754  0.004071    1.198473       0.513405  \n",
       "2    0.286277  2.005883  0.004441    1.201141       0.517475  \n",
       "3    0.062053  2.005883  0.004441    1.033176       0.584950  \n",
       "4    0.068928  2.580293  0.004980    1.045340       0.694369  "
      ]
     },
     "execution_count": 51,
     "metadata": {},
     "output_type": "execute_result"
    }
   ],
   "source": [
    "rules_aprioi.head()"
   ]
  },
  {
   "cell_type": "code",
   "execution_count": 52,
   "metadata": {
    "gather": {
     "logged": 1680493157383
    },
    "jupyter": {
     "outputs_hidden": false,
     "source_hidden": false
    },
    "nteract": {
     "transient": {
      "deleting": false
     }
    }
   },
   "outputs": [
    {
     "data": {
      "text/plain": [
       "(60, 10)"
      ]
     },
     "execution_count": 52,
     "metadata": {},
     "output_type": "execute_result"
    }
   ],
   "source": [
    "rules_aprioi.shape"
   ]
  },
  {
   "cell_type": "code",
   "execution_count": 53,
   "metadata": {
    "gather": {
     "logged": 1680463358062
    },
    "jupyter": {
     "outputs_hidden": false,
     "source_hidden": false
    },
    "nteract": {
     "transient": {
      "deleting": false
     }
    }
   },
   "outputs": [
    {
     "data": {
      "text/html": [
       "<div>\n",
       "<style scoped>\n",
       "    .dataframe tbody tr th:only-of-type {\n",
       "        vertical-align: middle;\n",
       "    }\n",
       "\n",
       "    .dataframe tbody tr th {\n",
       "        vertical-align: top;\n",
       "    }\n",
       "\n",
       "    .dataframe thead th {\n",
       "        text-align: right;\n",
       "    }\n",
       "</style>\n",
       "<table border=\"1\" class=\"dataframe\">\n",
       "  <thead>\n",
       "    <tr style=\"text-align: right;\">\n",
       "      <th></th>\n",
       "      <th>antecedents</th>\n",
       "      <th>consequents</th>\n",
       "      <th>antecedent support</th>\n",
       "      <th>consequent support</th>\n",
       "      <th>support</th>\n",
       "      <th>confidence</th>\n",
       "      <th>lift</th>\n",
       "      <th>leverage</th>\n",
       "      <th>conviction</th>\n",
       "      <th>zhangs_metric</th>\n",
       "    </tr>\n",
       "  </thead>\n",
       "  <tbody>\n",
       "    <tr>\n",
       "      <th>48</th>\n",
       "      <td>(28204)</td>\n",
       "      <td>(24852)</td>\n",
       "      <td>0.024823</td>\n",
       "      <td>0.142719</td>\n",
       "      <td>0.009222</td>\n",
       "      <td>0.371508</td>\n",
       "      <td>2.603072</td>\n",
       "      <td>0.005679</td>\n",
       "      <td>1.364028</td>\n",
       "      <td>0.631515</td>\n",
       "    </tr>\n",
       "    <tr>\n",
       "      <th>50</th>\n",
       "      <td>(45066)</td>\n",
       "      <td>(24852)</td>\n",
       "      <td>0.027064</td>\n",
       "      <td>0.142719</td>\n",
       "      <td>0.009382</td>\n",
       "      <td>0.346663</td>\n",
       "      <td>2.428991</td>\n",
       "      <td>0.005519</td>\n",
       "      <td>1.312157</td>\n",
       "      <td>0.604671</td>\n",
       "    </tr>\n",
       "    <tr>\n",
       "      <th>19</th>\n",
       "      <td>(47209)</td>\n",
       "      <td>(13176)</td>\n",
       "      <td>0.055583</td>\n",
       "      <td>0.117980</td>\n",
       "      <td>0.018444</td>\n",
       "      <td>0.331825</td>\n",
       "      <td>2.812560</td>\n",
       "      <td>0.011886</td>\n",
       "      <td>1.320044</td>\n",
       "      <td>0.682381</td>\n",
       "    </tr>\n",
       "    <tr>\n",
       "      <th>13</th>\n",
       "      <td>(27966)</td>\n",
       "      <td>(13176)</td>\n",
       "      <td>0.042268</td>\n",
       "      <td>0.117980</td>\n",
       "      <td>0.013566</td>\n",
       "      <td>0.320952</td>\n",
       "      <td>2.720400</td>\n",
       "      <td>0.008579</td>\n",
       "      <td>1.298907</td>\n",
       "      <td>0.660318</td>\n",
       "    </tr>\n",
       "    <tr>\n",
       "      <th>5</th>\n",
       "      <td>(5876)</td>\n",
       "      <td>(13176)</td>\n",
       "      <td>0.026713</td>\n",
       "      <td>0.117980</td>\n",
       "      <td>0.008132</td>\n",
       "      <td>0.304422</td>\n",
       "      <td>2.580293</td>\n",
       "      <td>0.004980</td>\n",
       "      <td>1.268040</td>\n",
       "      <td>0.629257</td>\n",
       "    </tr>\n",
       "    <tr>\n",
       "      <th>31</th>\n",
       "      <td>(27966)</td>\n",
       "      <td>(21137)</td>\n",
       "      <td>0.042268</td>\n",
       "      <td>0.083028</td>\n",
       "      <td>0.012728</td>\n",
       "      <td>0.301118</td>\n",
       "      <td>3.626710</td>\n",
       "      <td>0.009218</td>\n",
       "      <td>1.312056</td>\n",
       "      <td>0.756233</td>\n",
       "    </tr>\n",
       "    <tr>\n",
       "      <th>25</th>\n",
       "      <td>(16797)</td>\n",
       "      <td>(24852)</td>\n",
       "      <td>0.049494</td>\n",
       "      <td>0.142719</td>\n",
       "      <td>0.014847</td>\n",
       "      <td>0.299969</td>\n",
       "      <td>2.101819</td>\n",
       "      <td>0.007783</td>\n",
       "      <td>1.224633</td>\n",
       "      <td>0.551518</td>\n",
       "    </tr>\n",
       "    <tr>\n",
       "      <th>55</th>\n",
       "      <td>(47766)</td>\n",
       "      <td>(24852)</td>\n",
       "      <td>0.056467</td>\n",
       "      <td>0.142719</td>\n",
       "      <td>0.016889</td>\n",
       "      <td>0.299096</td>\n",
       "      <td>2.095698</td>\n",
       "      <td>0.008830</td>\n",
       "      <td>1.223107</td>\n",
       "      <td>0.554122</td>\n",
       "    </tr>\n",
       "    <tr>\n",
       "      <th>2</th>\n",
       "      <td>(4920)</td>\n",
       "      <td>(24852)</td>\n",
       "      <td>0.030935</td>\n",
       "      <td>0.142719</td>\n",
       "      <td>0.008856</td>\n",
       "      <td>0.286277</td>\n",
       "      <td>2.005883</td>\n",
       "      <td>0.004441</td>\n",
       "      <td>1.201141</td>\n",
       "      <td>0.517475</td>\n",
       "    </tr>\n",
       "    <tr>\n",
       "      <th>1</th>\n",
       "      <td>(4605)</td>\n",
       "      <td>(24852)</td>\n",
       "      <td>0.028672</td>\n",
       "      <td>0.142719</td>\n",
       "      <td>0.008163</td>\n",
       "      <td>0.284689</td>\n",
       "      <td>1.994754</td>\n",
       "      <td>0.004071</td>\n",
       "      <td>1.198473</td>\n",
       "      <td>0.513405</td>\n",
       "    </tr>\n",
       "  </tbody>\n",
       "</table>\n",
       "</div>"
      ],
      "text/plain": [
       "   antecedents consequents  antecedent support  consequent support   support   \n",
       "48     (28204)     (24852)            0.024823            0.142719  0.009222  \\\n",
       "50     (45066)     (24852)            0.027064            0.142719  0.009382   \n",
       "19     (47209)     (13176)            0.055583            0.117980  0.018444   \n",
       "13     (27966)     (13176)            0.042268            0.117980  0.013566   \n",
       "5       (5876)     (13176)            0.026713            0.117980  0.008132   \n",
       "31     (27966)     (21137)            0.042268            0.083028  0.012728   \n",
       "25     (16797)     (24852)            0.049494            0.142719  0.014847   \n",
       "55     (47766)     (24852)            0.056467            0.142719  0.016889   \n",
       "2       (4920)     (24852)            0.030935            0.142719  0.008856   \n",
       "1       (4605)     (24852)            0.028672            0.142719  0.008163   \n",
       "\n",
       "    confidence      lift  leverage  conviction  zhangs_metric  \n",
       "48    0.371508  2.603072  0.005679    1.364028       0.631515  \n",
       "50    0.346663  2.428991  0.005519    1.312157       0.604671  \n",
       "19    0.331825  2.812560  0.011886    1.320044       0.682381  \n",
       "13    0.320952  2.720400  0.008579    1.298907       0.660318  \n",
       "5     0.304422  2.580293  0.004980    1.268040       0.629257  \n",
       "31    0.301118  3.626710  0.009218    1.312056       0.756233  \n",
       "25    0.299969  2.101819  0.007783    1.224633       0.551518  \n",
       "55    0.299096  2.095698  0.008830    1.223107       0.554122  \n",
       "2     0.286277  2.005883  0.004441    1.201141       0.517475  \n",
       "1     0.284689  1.994754  0.004071    1.198473       0.513405  "
      ]
     },
     "execution_count": 53,
     "metadata": {},
     "output_type": "execute_result"
    }
   ],
   "source": [
    "# Les 10 règles qui se produisent le plus souvent\n",
    "rules_aprioi.sort_values(by='confidence',ascending=False)[:10]"
   ]
  },
  {
   "attachments": {},
   "cell_type": "markdown",
   "metadata": {
    "nteract": {
     "transient": {
      "deleting": false
     }
    }
   },
   "source": [
    "Predictions"
   ]
  },
  {
   "cell_type": "code",
   "execution_count": 54,
   "metadata": {
    "gather": {
     "logged": 1680480279330
    },
    "jupyter": {
     "outputs_hidden": false,
     "source_hidden": false
    },
    "nteract": {
     "transient": {
      "deleting": false
     }
    }
   },
   "outputs": [],
   "source": [
    "rules_ante_cons = rules_aprioi[['antecedents', 'consequents']]"
   ]
  },
  {
   "cell_type": "code",
   "execution_count": 55,
   "metadata": {
    "gather": {
     "logged": 1680480359160
    },
    "jupyter": {
     "outputs_hidden": false,
     "source_hidden": false
    },
    "nteract": {
     "transient": {
      "deleting": false
     }
    }
   },
   "outputs": [],
   "source": [
    "baskets = small_train_data.groupby('order_id')['product_id'].apply(frozenset)"
   ]
  },
  {
   "cell_type": "code",
   "execution_count": 56,
   "metadata": {
    "gather": {
     "logged": 1680480375684
    },
    "jupyter": {
     "outputs_hidden": false,
     "source_hidden": false
    },
    "nteract": {
     "transient": {
      "deleting": false
     }
    }
   },
   "outputs": [
    {
     "data": {
      "text/plain": [
       "order_id\n",
       "1          (11109, 10246, 47209, 43633, 49683, 22035, 493...\n",
       "36         (34497, 46979, 48679, 19660, 43086, 49235, 396...\n",
       "38         (42625, 23622, 11913, 28842, 4461, 39693, 1815...\n",
       "96         (40706, 24489, 25610, 39275, 30391, 20574, 27966)\n",
       "98         (46720, 24964, 4357, 43654, 18441, 36364, 3406...\n",
       "                                 ...                        \n",
       "3421049           (40800, 34243, 17706, 33424, 26800, 17299)\n",
       "3421056                    (21709, 12432, 5750, 16475, 9340)\n",
       "3421058    (34466, 6244, 6858, 32650, 30316, 15629, 35578...\n",
       "3421063                         (14233, 49235, 35548, 13565)\n",
       "3421070                                 (16953, 4724, 35951)\n",
       "Name: product_id, Length: 131209, dtype: object"
      ]
     },
     "execution_count": 56,
     "metadata": {},
     "output_type": "execute_result"
    }
   ],
   "source": [
    "baskets"
   ]
  },
  {
   "cell_type": "code",
   "execution_count": 57,
   "metadata": {
    "gather": {
     "logged": 1680480412970
    },
    "jupyter": {
     "outputs_hidden": false,
     "source_hidden": false
    },
    "nteract": {
     "transient": {
      "deleting": false
     }
    }
   },
   "outputs": [],
   "source": [
    "baskets.name = 'basket'"
   ]
  },
  {
   "cell_type": "code",
   "execution_count": 58,
   "metadata": {
    "gather": {
     "logged": 1680480592534
    },
    "jupyter": {
     "outputs_hidden": false,
     "source_hidden": false
    },
    "nteract": {
     "transient": {
      "deleting": false
     }
    }
   },
   "outputs": [],
   "source": [
    "recommendations = train_orders.join(baskets, on='order_id')\n",
    "recommendations['recommendations'] = [frozenset() for _ in range(len(recommendations))]"
   ]
  },
  {
   "cell_type": "code",
   "execution_count": 59,
   "metadata": {
    "gather": {
     "logged": 1680480660799
    },
    "jupyter": {
     "outputs_hidden": false,
     "source_hidden": false
    },
    "nteract": {
     "transient": {
      "deleting": false
     }
    }
   },
   "outputs": [],
   "source": [
    "for idx, antecedent in enumerate(rules_ante_cons[\"antecedents\"]):\n",
    "    lookup = antecedent <= recommendations.basket, \"recommendations\"\n",
    "    recommendations.loc[lookup] = recommendations.loc[lookup].apply(\n",
    "        frozenset.union,\n",
    "        args=(rules_ante_cons.loc[idx, \"consequents\"],)\n",
    "    )"
   ]
  },
  {
   "cell_type": "code",
   "execution_count": 60,
   "metadata": {
    "gather": {
     "logged": 1680480677186
    },
    "jupyter": {
     "outputs_hidden": false,
     "source_hidden": false
    },
    "nteract": {
     "transient": {
      "deleting": false
     }
    }
   },
   "outputs": [],
   "source": [
    "recommendations.loc[:, \"recommendations\"] = recommendations.recommendations - recommendations.basket"
   ]
  },
  {
   "cell_type": "code",
   "execution_count": 61,
   "metadata": {
    "gather": {
     "logged": 1680480922606
    },
    "jupyter": {
     "outputs_hidden": false,
     "source_hidden": false
    },
    "nteract": {
     "transient": {
      "deleting": false
     }
    }
   },
   "outputs": [
    {
     "name": "stdout",
     "output_type": "stream",
     "text": [
      "1 out of approx. 2 transactions will result in a recommendation being suggested to a customer.\n",
      "         order_id  user_id  order_number  order_dow  order_hour_of_day   \n",
      "10        1187899        1            11          4                  8  \\\n",
      "25        1492625        2            15          1                 11   \n",
      "74         525192        7            21          2                 11   \n",
      "78         880375        8             4          1                 14   \n",
      "200       2180313       17            41          3                 10   \n",
      "...           ...      ...           ...        ...                ...   \n",
      "3420786   3383615   206196             5          0                 15   \n",
      "3420862    943915   206200            24          6                 19   \n",
      "3420924   2371631   206203             6          4                 19   \n",
      "3420933   1716008   206205             4          1                 16   \n",
      "3421082    272231   206209            14          6                 14   \n",
      "\n",
      "         days_since_prior_order   \n",
      "10                         14.0  \\\n",
      "25                         30.0   \n",
      "74                          6.0   \n",
      "78                         10.0   \n",
      "200                        30.0   \n",
      "...                         ...   \n",
      "3420786                    30.0   \n",
      "3420862                     6.0   \n",
      "3420924                    30.0   \n",
      "3420933                    10.0   \n",
      "3421082                    30.0   \n",
      "\n",
      "                                                    basket   \n",
      "10       (Organic Whole Milk, Milk Chocolate Almonds, C...  \\\n",
      "25       (Organic D'Anjou Pears, Organic All Day Fresh ...   \n",
      "74       (Vanilla Coffee Concentrate, Panama Peach Anti...   \n",
      "78       (Organic Cilantro, Organic SprouTofu Silken To...   \n",
      "200      (Raspberries, Ultra Soft Bathroom Tissue Doubl...   \n",
      "...                                                    ...   \n",
      "3420786  (Organic Cilantro, Sparkling Water Grapefruit,...   \n",
      "3420862  (Vanilla Unsweetened Almond Milk, Organic Nave...   \n",
      "3420924  (Organic Lori's Lemon Tea, Original Whole Fat ...   \n",
      "3420933  (Oven Roasted Turkey, Vanilla Yoghurt, Origina...   \n",
      "3421082  (Diet Pepsi Pack, French Baguette Bread, Banan...   \n",
      "\n",
      "                                           recommendations  \n",
      "10                                (Bag of Organic Bananas)  \n",
      "25       (Yellow Onions, Organic Fuji Apple, Limes, Org...  \n",
      "74                                                (Banana)  \n",
      "78       (Organic Hass Avocado, Banana, Organic Strawbe...  \n",
      "200                                               (Banana)  \n",
      "...                                                    ...  \n",
      "3420786  (Yellow Onions, Organic Fuji Apple, Organic Av...  \n",
      "3420862  (Organic Raspberries, Organic Whole Milk, Bana...  \n",
      "3420924  (Organic Raspberries, Organic Whole Milk, Orga...  \n",
      "3420933  (Yellow Onions, Organic Hass Avocado, Organic ...  \n",
      "3421082  (Yellow Onions, Organic Fuji Apple, Limes, Org...  \n",
      "\n",
      "[67809 rows x 8 columns]\n"
     ]
    }
   ],
   "source": [
    "# non-empty recommendations\n",
    "non_empty_recs = recommendations[recommendations.recommendations.apply(bool)]\n",
    "print(\"1 out of approx.\", round(1/(len(non_empty_recs) / len(recommendations))), \"transactions will result in a recommendation being suggested to a customer.\")\n",
    "# mapping codes to product names\n",
    "def map_products(codes):\n",
    "    if isinstance(codes, pd.Series):\n",
    "        return codes.apply(map_products)\n",
    "    return frozenset(map(products.get, codes))\n",
    "\n",
    "products = dataDict[\"products\"]\n",
    "products = products.set_index(\"product_id\")[\"product_name\"].to_dict()\n",
    "non_empty_recs.loc[:, [\"basket\", \"recommendations\"]] = non_empty_recs[[\"basket\", \"recommendations\"]].apply(map_products)\n",
    "print(non_empty_recs)"
   ]
  },
  {
   "cell_type": "code",
   "execution_count": 76,
   "metadata": {
    "gather": {
     "logged": 1680481158434
    },
    "jupyter": {
     "outputs_hidden": false,
     "source_hidden": false
    },
    "nteract": {
     "transient": {
      "deleting": false
     }
    }
   },
   "outputs": [],
   "source": [
    "# Predire une recommandation en fonction d'un produit\n",
    "def arl_recommender(rules_df, product):\n",
    "    sorted_rules = rules_df.sort_values(\"lift\", ascending=False)\n",
    "    recommendation_list = []\n",
    "    for i, antecedent in enumerate(sorted_rules[\"antecedents\"]):\n",
    "        if product in antecedent:\n",
    "            recommendation_list.append(list(sorted_rules.iloc[i][\"consequents\"])[0])\n",
    "            \n",
    "    return recommendation_list\n",
    "     "
   ]
  },
  {
   "cell_type": "code",
   "execution_count": 78,
   "metadata": {},
   "outputs": [],
   "source": [
    "products_ = dataDict[\"products\"]"
   ]
  },
  {
   "cell_type": "code",
   "execution_count": 77,
   "metadata": {
    "gather": {
     "logged": 1680481284572
    },
    "jupyter": {
     "outputs_hidden": false,
     "source_hidden": false
    },
    "nteract": {
     "transient": {
      "deleting": false
     }
    }
   },
   "outputs": [
    {
     "data": {
      "text/plain": [
       "[24852]"
      ]
     },
     "execution_count": 77,
     "metadata": {},
     "output_type": "execute_result"
    }
   ],
   "source": [
    "\n",
    "arl_recommender(rules_aprioi, 28204)"
   ]
  },
  {
   "cell_type": "code",
   "execution_count": 80,
   "metadata": {},
   "outputs": [
    {
     "data": {
      "text/plain": [
       "24851    Banana\n",
       "Name: product_name, dtype: object"
      ]
     },
     "execution_count": 80,
     "metadata": {},
     "output_type": "execute_result"
    }
   ],
   "source": [
    "products_.loc[products_[\"product_id\"] == 24852, \"product_name\"]"
   ]
  },
  {
   "attachments": {},
   "cell_type": "markdown",
   "metadata": {
    "nteract": {
     "transient": {
      "deleting": false
     }
    }
   },
   "source": [
    "#### FPGrowth"
   ]
  },
  {
   "attachments": {},
   "cell_type": "markdown",
   "metadata": {},
   "source": [
    "Une amelioration d'Apriori pour gain en temps et mémoire\n",
    "1. Test de memoire\n",
    "2. Test temps d'execution"
   ]
  },
  {
   "attachments": {},
   "cell_type": "markdown",
   "metadata": {
    "nteract": {
     "transient": {
      "deleting": false
     }
    }
   },
   "source": [
    "1. Test de memoire"
   ]
  },
  {
   "cell_type": "code",
   "execution_count": 81,
   "metadata": {
    "gather": {
     "logged": 1680481914735
    },
    "jupyter": {
     "outputs_hidden": false,
     "source_hidden": false
    },
    "nteract": {
     "transient": {
      "deleting": false
     }
    }
   },
   "outputs": [],
   "source": [
    "tmp_g = fpgrowth(truth_table, min_support=0.0001, use_colnames=True)"
   ]
  },
  {
   "cell_type": "code",
   "execution_count": 82,
   "metadata": {
    "gather": {
     "logged": 1680494020841
    },
    "jupyter": {
     "outputs_hidden": false,
     "source_hidden": false
    },
    "nteract": {
     "transient": {
      "deleting": false
     }
    }
   },
   "outputs": [
    {
     "data": {
      "text/plain": [
       "(136394, 2)"
      ]
     },
     "execution_count": 82,
     "metadata": {},
     "output_type": "execute_result"
    }
   ],
   "source": [
    "tmp_g.shape"
   ]
  },
  {
   "cell_type": "code",
   "execution_count": null,
   "metadata": {
    "gather": {
     "logged": 1681682896510
    },
    "jupyter": {
     "outputs_hidden": false,
     "source_hidden": false
    },
    "nteract": {
     "transient": {
      "deleting": false
     }
    }
   },
   "outputs": [
    {
     "ename": "MemoryError",
     "evalue": "Unable to allocate 15.9 TiB for an array with shape (66741681, 2, 131209) and data type bool",
     "output_type": "error",
     "traceback": [
      "\u001b[1;31m---------------------------------------------------------------------------\u001b[0m",
      "\u001b[1;31mMemoryError\u001b[0m                               Traceback (most recent call last)",
      "Cell \u001b[1;32mIn[59], line 1\u001b[0m\n\u001b[1;32m----> 1\u001b[0m tmp_a \u001b[39m=\u001b[39m apriori(truth_table, min_support\u001b[39m=\u001b[39;49m\u001b[39m0.0001\u001b[39;49m, use_colnames\u001b[39m=\u001b[39;49m\u001b[39mTrue\u001b[39;49;00m)\n",
      "File \u001b[1;32mc:\\Users\\seria\\anaconda3\\envs\\arm_env\\lib\\site-packages\\mlxtend\\frequent_patterns\\apriori.py:309\u001b[0m, in \u001b[0;36mapriori\u001b[1;34m(df, min_support, use_colnames, max_len, verbose, low_memory)\u001b[0m\n\u001b[0;32m    307\u001b[0m         _bools \u001b[39m=\u001b[39m _bools \u001b[39m&\u001b[39m (X[:, combin[:, n]] \u001b[39m==\u001b[39m all_ones)\n\u001b[0;32m    308\u001b[0m \u001b[39melse\u001b[39;00m:\n\u001b[1;32m--> 309\u001b[0m     _bools \u001b[39m=\u001b[39m np\u001b[39m.\u001b[39mall(X[:, combin], axis\u001b[39m=\u001b[39m\u001b[39m2\u001b[39m)\n\u001b[0;32m    311\u001b[0m support \u001b[39m=\u001b[39m _support(np\u001b[39m.\u001b[39marray(_bools), rows_count, is_sparse)\n\u001b[0;32m    312\u001b[0m _mask \u001b[39m=\u001b[39m (support \u001b[39m>\u001b[39m\u001b[39m=\u001b[39m min_support)\u001b[39m.\u001b[39mreshape(\u001b[39m-\u001b[39m\u001b[39m1\u001b[39m)\n",
      "\u001b[1;31mMemoryError\u001b[0m: Unable to allocate 15.9 TiB for an array with shape (66741681, 2, 131209) and data type bool"
     ]
    }
   ],
   "source": [
    "#tmp_a = apriori(truth_table, min_support=0.0001, use_colnames=True)"
   ]
  },
  {
   "attachments": {},
   "cell_type": "markdown",
   "metadata": {
    "nteract": {
     "transient": {
      "deleting": false
     }
    }
   },
   "source": [
    "Frequent itemset"
   ]
  },
  {
   "attachments": {},
   "cell_type": "markdown",
   "metadata": {},
   "source": [
    "2. temps d'execution"
   ]
  },
  {
   "cell_type": "code",
   "execution_count": 83,
   "metadata": {
    "gather": {
     "logged": 1680481707588
    },
    "jupyter": {
     "outputs_hidden": false,
     "source_hidden": false
    },
    "nteract": {
     "transient": {
      "deleting": false
     }
    }
   },
   "outputs": [],
   "source": [
    "fp_time_start = timeit.default_timer()\n",
    "freq_itemsets_fpg = []\n",
    "for i in min_sup:\n",
    "    tmp_f = fpgrowth(truth_table, min_support=i, use_colnames=True)\n",
    "    freq_itemsets_fpg.append(tmp_f)\n",
    "\n",
    "fp_time = timeit.default_timer() - fp_time_start"
   ]
  },
  {
   "cell_type": "code",
   "execution_count": 84,
   "metadata": {},
   "outputs": [
    {
     "name": "stdout",
     "output_type": "stream",
     "text": [
      "Temps FPGrowth : 515.68 s\n"
     ]
    }
   ],
   "source": [
    "print(f\"Temps FPGrowth : {fp_time:.2f} s\")"
   ]
  },
  {
   "cell_type": "code",
   "execution_count": 85,
   "metadata": {
    "gather": {
     "logged": 1680481720506
    },
    "jupyter": {
     "outputs_hidden": false,
     "source_hidden": false
    },
    "nteract": {
     "transient": {
      "deleting": false
     }
    }
   },
   "outputs": [
    {
     "data": {
      "image/png": "[encoded data removed]",
      "text/plain": [
       "<Figure size 640x480 with 1 Axes>"
      ]
     },
     "metadata": {},
     "output_type": "display_data"
    }
   ],
   "source": [
    "# Plot frequent itemset with minsup\n",
    "sns.set()\n",
    "y_fpg = [i.shape[0] for i in freq_itemsets_fpg]\n",
    "X_fpg = min_sup\n",
    "plt.plot(X_fpg,y_fpg)\n",
    "plt.show()\n"
   ]
  },
  {
   "cell_type": "code",
   "execution_count": 86,
   "metadata": {
    "gather": {
     "logged": 1680481728080
    },
    "jupyter": {
     "outputs_hidden": false,
     "source_hidden": false
    },
    "nteract": {
     "transient": {
      "deleting": false
     }
    }
   },
   "outputs": [
    {
     "data": {
      "text/html": [
       "<div>\n",
       "<style scoped>\n",
       "    .dataframe tbody tr th:only-of-type {\n",
       "        vertical-align: middle;\n",
       "    }\n",
       "\n",
       "    .dataframe tbody tr th {\n",
       "        vertical-align: top;\n",
       "    }\n",
       "\n",
       "    .dataframe thead th {\n",
       "        text-align: right;\n",
       "    }\n",
       "</style>\n",
       "<table border=\"1\" class=\"dataframe\">\n",
       "  <thead>\n",
       "    <tr style=\"text-align: right;\">\n",
       "      <th></th>\n",
       "      <th>support</th>\n",
       "      <th>itemsets</th>\n",
       "    </tr>\n",
       "  </thead>\n",
       "  <tbody>\n",
       "    <tr>\n",
       "      <th>0</th>\n",
       "      <td>0.117980</td>\n",
       "      <td>(13176)</td>\n",
       "    </tr>\n",
       "    <tr>\n",
       "      <th>1</th>\n",
       "      <td>0.055583</td>\n",
       "      <td>(47209)</td>\n",
       "    </tr>\n",
       "    <tr>\n",
       "      <th>2</th>\n",
       "      <td>0.018391</td>\n",
       "      <td>(49683)</td>\n",
       "    </tr>\n",
       "    <tr>\n",
       "      <th>3</th>\n",
       "      <td>0.015190</td>\n",
       "      <td>(22035)</td>\n",
       "    </tr>\n",
       "    <tr>\n",
       "      <th>4</th>\n",
       "      <td>0.008094</td>\n",
       "      <td>(10246)</td>\n",
       "    </tr>\n",
       "  </tbody>\n",
       "</table>\n",
       "</div>"
      ],
      "text/plain": [
       "    support itemsets\n",
       "0  0.117980  (13176)\n",
       "1  0.055583  (47209)\n",
       "2  0.018391  (49683)\n",
       "3  0.015190  (22035)\n",
       "4  0.008094  (10246)"
      ]
     },
     "execution_count": 86,
     "metadata": {},
     "output_type": "execute_result"
    }
   ],
   "source": [
    "freq_itemsets_fpg1 = freq_itemsets_fpg[2]\n",
    "freq_itemsets_fpg1.head()"
   ]
  },
  {
   "cell_type": "code",
   "execution_count": 87,
   "metadata": {
    "gather": {
     "logged": 1680481735048
    },
    "jupyter": {
     "outputs_hidden": false,
     "source_hidden": false
    },
    "nteract": {
     "transient": {
      "deleting": false
     }
    }
   },
   "outputs": [
    {
     "data": {
      "text/plain": [
       "(169, 2)"
      ]
     },
     "execution_count": 87,
     "metadata": {},
     "output_type": "execute_result"
    }
   ],
   "source": [
    "freq_itemsets_fpg1.shape"
   ]
  },
  {
   "cell_type": "code",
   "execution_count": 88,
   "metadata": {
    "gather": {
     "logged": 1680481739582
    },
    "jupyter": {
     "outputs_hidden": false,
     "source_hidden": false
    },
    "nteract": {
     "transient": {
      "deleting": false
     }
    }
   },
   "outputs": [
    {
     "data": {
      "text/html": [
       "<div>\n",
       "<style scoped>\n",
       "    .dataframe tbody tr th:only-of-type {\n",
       "        vertical-align: middle;\n",
       "    }\n",
       "\n",
       "    .dataframe tbody tr th {\n",
       "        vertical-align: top;\n",
       "    }\n",
       "\n",
       "    .dataframe thead th {\n",
       "        text-align: right;\n",
       "    }\n",
       "</style>\n",
       "<table border=\"1\" class=\"dataframe\">\n",
       "  <thead>\n",
       "    <tr style=\"text-align: right;\">\n",
       "      <th></th>\n",
       "      <th>support</th>\n",
       "      <th>itemsets</th>\n",
       "      <th>length</th>\n",
       "    </tr>\n",
       "  </thead>\n",
       "  <tbody>\n",
       "    <tr>\n",
       "      <th>0</th>\n",
       "      <td>0.117980</td>\n",
       "      <td>(13176)</td>\n",
       "      <td>1</td>\n",
       "    </tr>\n",
       "    <tr>\n",
       "      <th>1</th>\n",
       "      <td>0.055583</td>\n",
       "      <td>(47209)</td>\n",
       "      <td>1</td>\n",
       "    </tr>\n",
       "    <tr>\n",
       "      <th>2</th>\n",
       "      <td>0.018391</td>\n",
       "      <td>(49683)</td>\n",
       "      <td>1</td>\n",
       "    </tr>\n",
       "    <tr>\n",
       "      <th>3</th>\n",
       "      <td>0.015190</td>\n",
       "      <td>(22035)</td>\n",
       "      <td>1</td>\n",
       "    </tr>\n",
       "    <tr>\n",
       "      <th>4</th>\n",
       "      <td>0.008094</td>\n",
       "      <td>(10246)</td>\n",
       "      <td>1</td>\n",
       "    </tr>\n",
       "    <tr>\n",
       "      <th>...</th>\n",
       "      <td>...</td>\n",
       "      <td>...</td>\n",
       "      <td>...</td>\n",
       "    </tr>\n",
       "    <tr>\n",
       "      <th>164</th>\n",
       "      <td>0.010281</td>\n",
       "      <td>(47626, 47766)</td>\n",
       "      <td>2</td>\n",
       "    </tr>\n",
       "    <tr>\n",
       "      <th>165</th>\n",
       "      <td>0.008155</td>\n",
       "      <td>(13176, 47766)</td>\n",
       "      <td>2</td>\n",
       "    </tr>\n",
       "    <tr>\n",
       "      <th>166</th>\n",
       "      <td>0.008856</td>\n",
       "      <td>(4920, 24852)</td>\n",
       "      <td>2</td>\n",
       "    </tr>\n",
       "    <tr>\n",
       "      <th>167</th>\n",
       "      <td>0.009222</td>\n",
       "      <td>(28204, 24852)</td>\n",
       "      <td>2</td>\n",
       "    </tr>\n",
       "    <tr>\n",
       "      <th>168</th>\n",
       "      <td>0.008163</td>\n",
       "      <td>(24852, 4605)</td>\n",
       "      <td>2</td>\n",
       "    </tr>\n",
       "  </tbody>\n",
       "</table>\n",
       "<p>169 rows × 3 columns</p>\n",
       "</div>"
      ],
      "text/plain": [
       "      support        itemsets  length\n",
       "0    0.117980         (13176)       1\n",
       "1    0.055583         (47209)       1\n",
       "2    0.018391         (49683)       1\n",
       "3    0.015190         (22035)       1\n",
       "4    0.008094         (10246)       1\n",
       "..        ...             ...     ...\n",
       "164  0.010281  (47626, 47766)       2\n",
       "165  0.008155  (13176, 47766)       2\n",
       "166  0.008856   (4920, 24852)       2\n",
       "167  0.009222  (28204, 24852)       2\n",
       "168  0.008163   (24852, 4605)       2\n",
       "\n",
       "[169 rows x 3 columns]"
      ]
     },
     "execution_count": 88,
     "metadata": {},
     "output_type": "execute_result"
    }
   ],
   "source": [
    "freq_itemsets_fpg1['length'] = freq_itemsets_fpg1['itemsets'].apply(lambda x:len(x))\n",
    "freq_itemsets_fpg1"
   ]
  },
  {
   "attachments": {},
   "cell_type": "markdown",
   "metadata": {
    "nteract": {
     "transient": {
      "deleting": false
     }
    }
   },
   "source": [
    "Generer des règles"
   ]
  },
  {
   "cell_type": "code",
   "execution_count": 89,
   "metadata": {
    "gather": {
     "logged": 1680481752521
    },
    "jupyter": {
     "outputs_hidden": false,
     "source_hidden": false
    },
    "nteract": {
     "transient": {
      "deleting": false
     }
    }
   },
   "outputs": [],
   "source": [
    "rules_fpg = association_rules(freq_itemsets_fpg1, metric='support', min_threshold=min_sup_c)"
   ]
  },
  {
   "cell_type": "code",
   "execution_count": 90,
   "metadata": {
    "gather": {
     "logged": 1680481780060
    },
    "jupyter": {
     "outputs_hidden": false,
     "source_hidden": false
    },
    "nteract": {
     "transient": {
      "deleting": false
     }
    }
   },
   "outputs": [
    {
     "data": {
      "text/html": [
       "<div>\n",
       "<style scoped>\n",
       "    .dataframe tbody tr th:only-of-type {\n",
       "        vertical-align: middle;\n",
       "    }\n",
       "\n",
       "    .dataframe tbody tr th {\n",
       "        vertical-align: top;\n",
       "    }\n",
       "\n",
       "    .dataframe thead th {\n",
       "        text-align: right;\n",
       "    }\n",
       "</style>\n",
       "<table border=\"1\" class=\"dataframe\">\n",
       "  <thead>\n",
       "    <tr style=\"text-align: right;\">\n",
       "      <th></th>\n",
       "      <th>antecedents</th>\n",
       "      <th>consequents</th>\n",
       "      <th>antecedent support</th>\n",
       "      <th>consequent support</th>\n",
       "      <th>support</th>\n",
       "      <th>confidence</th>\n",
       "      <th>lift</th>\n",
       "      <th>leverage</th>\n",
       "      <th>conviction</th>\n",
       "      <th>zhangs_metric</th>\n",
       "    </tr>\n",
       "  </thead>\n",
       "  <tbody>\n",
       "    <tr>\n",
       "      <th>56</th>\n",
       "      <td>(28204)</td>\n",
       "      <td>(24852)</td>\n",
       "      <td>0.024823</td>\n",
       "      <td>0.142719</td>\n",
       "      <td>0.009222</td>\n",
       "      <td>0.371508</td>\n",
       "      <td>2.603072</td>\n",
       "      <td>0.005679</td>\n",
       "      <td>1.364028</td>\n",
       "      <td>0.631515</td>\n",
       "    </tr>\n",
       "    <tr>\n",
       "      <th>40</th>\n",
       "      <td>(45066)</td>\n",
       "      <td>(24852)</td>\n",
       "      <td>0.027064</td>\n",
       "      <td>0.142719</td>\n",
       "      <td>0.009382</td>\n",
       "      <td>0.346663</td>\n",
       "      <td>2.428991</td>\n",
       "      <td>0.005519</td>\n",
       "      <td>1.312157</td>\n",
       "      <td>0.604671</td>\n",
       "    </tr>\n",
       "    <tr>\n",
       "      <th>1</th>\n",
       "      <td>(47209)</td>\n",
       "      <td>(13176)</td>\n",
       "      <td>0.055583</td>\n",
       "      <td>0.117980</td>\n",
       "      <td>0.018444</td>\n",
       "      <td>0.331825</td>\n",
       "      <td>2.812560</td>\n",
       "      <td>0.011886</td>\n",
       "      <td>1.320044</td>\n",
       "      <td>0.682381</td>\n",
       "    </tr>\n",
       "    <tr>\n",
       "      <th>7</th>\n",
       "      <td>(27966)</td>\n",
       "      <td>(13176)</td>\n",
       "      <td>0.042268</td>\n",
       "      <td>0.117980</td>\n",
       "      <td>0.013566</td>\n",
       "      <td>0.320952</td>\n",
       "      <td>2.720400</td>\n",
       "      <td>0.008579</td>\n",
       "      <td>1.298907</td>\n",
       "      <td>0.660318</td>\n",
       "    </tr>\n",
       "    <tr>\n",
       "      <th>17</th>\n",
       "      <td>(5876)</td>\n",
       "      <td>(13176)</td>\n",
       "      <td>0.026713</td>\n",
       "      <td>0.117980</td>\n",
       "      <td>0.008132</td>\n",
       "      <td>0.304422</td>\n",
       "      <td>2.580293</td>\n",
       "      <td>0.004980</td>\n",
       "      <td>1.268040</td>\n",
       "      <td>0.629257</td>\n",
       "    </tr>\n",
       "    <tr>\n",
       "      <th>9</th>\n",
       "      <td>(27966)</td>\n",
       "      <td>(21137)</td>\n",
       "      <td>0.042268</td>\n",
       "      <td>0.083028</td>\n",
       "      <td>0.012728</td>\n",
       "      <td>0.301118</td>\n",
       "      <td>3.626710</td>\n",
       "      <td>0.009218</td>\n",
       "      <td>1.312056</td>\n",
       "      <td>0.756233</td>\n",
       "    </tr>\n",
       "    <tr>\n",
       "      <th>23</th>\n",
       "      <td>(16797)</td>\n",
       "      <td>(24852)</td>\n",
       "      <td>0.049494</td>\n",
       "      <td>0.142719</td>\n",
       "      <td>0.014847</td>\n",
       "      <td>0.299969</td>\n",
       "      <td>2.101819</td>\n",
       "      <td>0.007783</td>\n",
       "      <td>1.224633</td>\n",
       "      <td>0.551518</td>\n",
       "    </tr>\n",
       "    <tr>\n",
       "      <th>47</th>\n",
       "      <td>(47766)</td>\n",
       "      <td>(24852)</td>\n",
       "      <td>0.056467</td>\n",
       "      <td>0.142719</td>\n",
       "      <td>0.016889</td>\n",
       "      <td>0.299096</td>\n",
       "      <td>2.095698</td>\n",
       "      <td>0.008830</td>\n",
       "      <td>1.223107</td>\n",
       "      <td>0.554122</td>\n",
       "    </tr>\n",
       "    <tr>\n",
       "      <th>54</th>\n",
       "      <td>(4920)</td>\n",
       "      <td>(24852)</td>\n",
       "      <td>0.030935</td>\n",
       "      <td>0.142719</td>\n",
       "      <td>0.008856</td>\n",
       "      <td>0.286277</td>\n",
       "      <td>2.005883</td>\n",
       "      <td>0.004441</td>\n",
       "      <td>1.201141</td>\n",
       "      <td>0.517475</td>\n",
       "    </tr>\n",
       "    <tr>\n",
       "      <th>59</th>\n",
       "      <td>(4605)</td>\n",
       "      <td>(24852)</td>\n",
       "      <td>0.028672</td>\n",
       "      <td>0.142719</td>\n",
       "      <td>0.008163</td>\n",
       "      <td>0.284689</td>\n",
       "      <td>1.994754</td>\n",
       "      <td>0.004071</td>\n",
       "      <td>1.198473</td>\n",
       "      <td>0.513405</td>\n",
       "    </tr>\n",
       "  </tbody>\n",
       "</table>\n",
       "</div>"
      ],
      "text/plain": [
       "   antecedents consequents  antecedent support  consequent support   support   \n",
       "56     (28204)     (24852)            0.024823            0.142719  0.009222  \\\n",
       "40     (45066)     (24852)            0.027064            0.142719  0.009382   \n",
       "1      (47209)     (13176)            0.055583            0.117980  0.018444   \n",
       "7      (27966)     (13176)            0.042268            0.117980  0.013566   \n",
       "17      (5876)     (13176)            0.026713            0.117980  0.008132   \n",
       "9      (27966)     (21137)            0.042268            0.083028  0.012728   \n",
       "23     (16797)     (24852)            0.049494            0.142719  0.014847   \n",
       "47     (47766)     (24852)            0.056467            0.142719  0.016889   \n",
       "54      (4920)     (24852)            0.030935            0.142719  0.008856   \n",
       "59      (4605)     (24852)            0.028672            0.142719  0.008163   \n",
       "\n",
       "    confidence      lift  leverage  conviction  zhangs_metric  \n",
       "56    0.371508  2.603072  0.005679    1.364028       0.631515  \n",
       "40    0.346663  2.428991  0.005519    1.312157       0.604671  \n",
       "1     0.331825  2.812560  0.011886    1.320044       0.682381  \n",
       "7     0.320952  2.720400  0.008579    1.298907       0.660318  \n",
       "17    0.304422  2.580293  0.004980    1.268040       0.629257  \n",
       "9     0.301118  3.626710  0.009218    1.312056       0.756233  \n",
       "23    0.299969  2.101819  0.007783    1.224633       0.551518  \n",
       "47    0.299096  2.095698  0.008830    1.223107       0.554122  \n",
       "54    0.286277  2.005883  0.004441    1.201141       0.517475  \n",
       "59    0.284689  1.994754  0.004071    1.198473       0.513405  "
      ]
     },
     "execution_count": 90,
     "metadata": {},
     "output_type": "execute_result"
    }
   ],
   "source": [
    "# Les 10 regles qui se produisent le plus souvent\n",
    "rules_fpg.sort_values(by='confidence', ascending=False)[:10]"
   ]
  },
  {
   "attachments": {},
   "cell_type": "markdown",
   "metadata": {},
   "source": [
    "Test avec support plus faible"
   ]
  },
  {
   "cell_type": "code",
   "execution_count": 91,
   "metadata": {},
   "outputs": [
    {
     "data": {
      "text/html": [
       "<div>\n",
       "<style scoped>\n",
       "    .dataframe tbody tr th:only-of-type {\n",
       "        vertical-align: middle;\n",
       "    }\n",
       "\n",
       "    .dataframe tbody tr th {\n",
       "        vertical-align: top;\n",
       "    }\n",
       "\n",
       "    .dataframe thead th {\n",
       "        text-align: right;\n",
       "    }\n",
       "</style>\n",
       "<table border=\"1\" class=\"dataframe\">\n",
       "  <thead>\n",
       "    <tr style=\"text-align: right;\">\n",
       "      <th></th>\n",
       "      <th>support</th>\n",
       "      <th>itemsets</th>\n",
       "      <th>length</th>\n",
       "    </tr>\n",
       "  </thead>\n",
       "  <tbody>\n",
       "    <tr>\n",
       "      <th>0</th>\n",
       "      <td>0.117980</td>\n",
       "      <td>(13176)</td>\n",
       "      <td>1</td>\n",
       "    </tr>\n",
       "    <tr>\n",
       "      <th>1</th>\n",
       "      <td>0.055583</td>\n",
       "      <td>(47209)</td>\n",
       "      <td>1</td>\n",
       "    </tr>\n",
       "    <tr>\n",
       "      <th>2</th>\n",
       "      <td>0.018391</td>\n",
       "      <td>(49683)</td>\n",
       "      <td>1</td>\n",
       "    </tr>\n",
       "    <tr>\n",
       "      <th>3</th>\n",
       "      <td>0.015190</td>\n",
       "      <td>(22035)</td>\n",
       "      <td>1</td>\n",
       "    </tr>\n",
       "    <tr>\n",
       "      <th>4</th>\n",
       "      <td>0.008094</td>\n",
       "      <td>(10246)</td>\n",
       "      <td>1</td>\n",
       "    </tr>\n",
       "    <tr>\n",
       "      <th>...</th>\n",
       "      <td>...</td>\n",
       "      <td>...</td>\n",
       "      <td>...</td>\n",
       "    </tr>\n",
       "    <tr>\n",
       "      <th>136389</th>\n",
       "      <td>0.000191</td>\n",
       "      <td>(17630, 895)</td>\n",
       "      <td>2</td>\n",
       "    </tr>\n",
       "    <tr>\n",
       "      <th>136390</th>\n",
       "      <td>0.000122</td>\n",
       "      <td>(24852, 895)</td>\n",
       "      <td>2</td>\n",
       "    </tr>\n",
       "    <tr>\n",
       "      <th>136391</th>\n",
       "      <td>0.000122</td>\n",
       "      <td>(18987, 44870)</td>\n",
       "      <td>2</td>\n",
       "    </tr>\n",
       "    <tr>\n",
       "      <th>136392</th>\n",
       "      <td>0.000107</td>\n",
       "      <td>(42345, 42085)</td>\n",
       "      <td>2</td>\n",
       "    </tr>\n",
       "    <tr>\n",
       "      <th>136393</th>\n",
       "      <td>0.000107</td>\n",
       "      <td>(23953, 27553)</td>\n",
       "      <td>2</td>\n",
       "    </tr>\n",
       "  </tbody>\n",
       "</table>\n",
       "<p>136394 rows × 3 columns</p>\n",
       "</div>"
      ],
      "text/plain": [
       "         support        itemsets  length\n",
       "0       0.117980         (13176)       1\n",
       "1       0.055583         (47209)       1\n",
       "2       0.018391         (49683)       1\n",
       "3       0.015190         (22035)       1\n",
       "4       0.008094         (10246)       1\n",
       "...          ...             ...     ...\n",
       "136389  0.000191    (17630, 895)       2\n",
       "136390  0.000122    (24852, 895)       2\n",
       "136391  0.000122  (18987, 44870)       2\n",
       "136392  0.000107  (42345, 42085)       2\n",
       "136393  0.000107  (23953, 27553)       2\n",
       "\n",
       "[136394 rows x 3 columns]"
      ]
     },
     "execution_count": 91,
     "metadata": {},
     "output_type": "execute_result"
    }
   ],
   "source": [
    "tmp_g['length'] = tmp_g['itemsets'].apply(lambda x:len(x))\n",
    "tmp_g"
   ]
  },
  {
   "cell_type": "code",
   "execution_count": 92,
   "metadata": {
    "gather": {
     "logged": 1680481999514
    },
    "jupyter": {
     "outputs_hidden": false,
     "source_hidden": false
    },
    "nteract": {
     "transient": {
      "deleting": false
     }
    }
   },
   "outputs": [],
   "source": [
    "rules_fpg_test_m = association_rules(tmp_g, metric='support', min_threshold=min_sup_c)"
   ]
  },
  {
   "cell_type": "code",
   "execution_count": 93,
   "metadata": {},
   "outputs": [
    {
     "data": {
      "text/plain": [
       "(6846, 10)"
      ]
     },
     "execution_count": 93,
     "metadata": {},
     "output_type": "execute_result"
    }
   ],
   "source": [
    "rules_fpg_test_m.shape"
   ]
  },
  {
   "cell_type": "code",
   "execution_count": 94,
   "metadata": {},
   "outputs": [
    {
     "data": {
      "text/plain": [
       "(60, 10)"
      ]
     },
     "execution_count": 94,
     "metadata": {},
     "output_type": "execute_result"
    }
   ],
   "source": [
    "rules_fpg.shape"
   ]
  },
  {
   "cell_type": "code",
   "execution_count": 97,
   "metadata": {
    "gather": {
     "logged": 1680482247360
    },
    "jupyter": {
     "outputs_hidden": false,
     "source_hidden": false
    },
    "nteract": {
     "transient": {
      "deleting": false
     }
    }
   },
   "outputs": [
    {
     "data": {
      "text/html": [
       "<div>\n",
       "<style scoped>\n",
       "    .dataframe tbody tr th:only-of-type {\n",
       "        vertical-align: middle;\n",
       "    }\n",
       "\n",
       "    .dataframe tbody tr th {\n",
       "        vertical-align: top;\n",
       "    }\n",
       "\n",
       "    .dataframe thead th {\n",
       "        text-align: right;\n",
       "    }\n",
       "</style>\n",
       "<table border=\"1\" class=\"dataframe\">\n",
       "  <thead>\n",
       "    <tr style=\"text-align: right;\">\n",
       "      <th></th>\n",
       "      <th>antecedents</th>\n",
       "      <th>consequents</th>\n",
       "      <th>antecedent support</th>\n",
       "      <th>consequent support</th>\n",
       "      <th>support</th>\n",
       "      <th>confidence</th>\n",
       "      <th>lift</th>\n",
       "      <th>leverage</th>\n",
       "      <th>conviction</th>\n",
       "      <th>zhangs_metric</th>\n",
       "    </tr>\n",
       "  </thead>\n",
       "  <tbody>\n",
       "    <tr>\n",
       "      <th>0</th>\n",
       "      <td>(13176)</td>\n",
       "      <td>(47209)</td>\n",
       "      <td>0.117980</td>\n",
       "      <td>0.055583</td>\n",
       "      <td>0.018444</td>\n",
       "      <td>0.156331</td>\n",
       "      <td>2.812560</td>\n",
       "      <td>0.011886</td>\n",
       "      <td>1.119416</td>\n",
       "      <td>0.730654</td>\n",
       "    </tr>\n",
       "    <tr>\n",
       "      <th>1</th>\n",
       "      <td>(47209)</td>\n",
       "      <td>(13176)</td>\n",
       "      <td>0.055583</td>\n",
       "      <td>0.117980</td>\n",
       "      <td>0.018444</td>\n",
       "      <td>0.331825</td>\n",
       "      <td>2.812560</td>\n",
       "      <td>0.011886</td>\n",
       "      <td>1.320044</td>\n",
       "      <td>0.682381</td>\n",
       "    </tr>\n",
       "    <tr>\n",
       "      <th>2</th>\n",
       "      <td>(47209)</td>\n",
       "      <td>(21137)</td>\n",
       "      <td>0.055583</td>\n",
       "      <td>0.083028</td>\n",
       "      <td>0.011729</td>\n",
       "      <td>0.211024</td>\n",
       "      <td>2.541609</td>\n",
       "      <td>0.007114</td>\n",
       "      <td>1.162231</td>\n",
       "      <td>0.642246</td>\n",
       "    </tr>\n",
       "    <tr>\n",
       "      <th>3</th>\n",
       "      <td>(21137)</td>\n",
       "      <td>(47209)</td>\n",
       "      <td>0.083028</td>\n",
       "      <td>0.055583</td>\n",
       "      <td>0.011729</td>\n",
       "      <td>0.141270</td>\n",
       "      <td>2.541609</td>\n",
       "      <td>0.007114</td>\n",
       "      <td>1.099784</td>\n",
       "      <td>0.661469</td>\n",
       "    </tr>\n",
       "    <tr>\n",
       "      <th>4</th>\n",
       "      <td>(47209)</td>\n",
       "      <td>(21903)</td>\n",
       "      <td>0.055583</td>\n",
       "      <td>0.074568</td>\n",
       "      <td>0.009542</td>\n",
       "      <td>0.171671</td>\n",
       "      <td>2.302212</td>\n",
       "      <td>0.005397</td>\n",
       "      <td>1.117228</td>\n",
       "      <td>0.598925</td>\n",
       "    </tr>\n",
       "  </tbody>\n",
       "</table>\n",
       "</div>"
      ],
      "text/plain": [
       "  antecedents consequents  antecedent support  consequent support   support   \n",
       "0     (13176)     (47209)            0.117980            0.055583  0.018444  \\\n",
       "1     (47209)     (13176)            0.055583            0.117980  0.018444   \n",
       "2     (47209)     (21137)            0.055583            0.083028  0.011729   \n",
       "3     (21137)     (47209)            0.083028            0.055583  0.011729   \n",
       "4     (47209)     (21903)            0.055583            0.074568  0.009542   \n",
       "\n",
       "   confidence      lift  leverage  conviction  zhangs_metric  \n",
       "0    0.156331  2.812560  0.011886    1.119416       0.730654  \n",
       "1    0.331825  2.812560  0.011886    1.320044       0.682381  \n",
       "2    0.211024  2.541609  0.007114    1.162231       0.642246  \n",
       "3    0.141270  2.541609  0.007114    1.099784       0.661469  \n",
       "4    0.171671  2.302212  0.005397    1.117228       0.598925  "
      ]
     },
     "execution_count": 97,
     "metadata": {},
     "output_type": "execute_result"
    }
   ],
   "source": [
    "rules_fpg_test_m.head()"
   ]
  },
  {
   "cell_type": "code",
   "execution_count": 98,
   "metadata": {},
   "outputs": [
    {
     "data": {
      "text/html": [
       "<div>\n",
       "<style scoped>\n",
       "    .dataframe tbody tr th:only-of-type {\n",
       "        vertical-align: middle;\n",
       "    }\n",
       "\n",
       "    .dataframe tbody tr th {\n",
       "        vertical-align: top;\n",
       "    }\n",
       "\n",
       "    .dataframe thead th {\n",
       "        text-align: right;\n",
       "    }\n",
       "</style>\n",
       "<table border=\"1\" class=\"dataframe\">\n",
       "  <thead>\n",
       "    <tr style=\"text-align: right;\">\n",
       "      <th></th>\n",
       "      <th>antecedents</th>\n",
       "      <th>consequents</th>\n",
       "      <th>antecedent support</th>\n",
       "      <th>consequent support</th>\n",
       "      <th>support</th>\n",
       "      <th>confidence</th>\n",
       "      <th>lift</th>\n",
       "      <th>leverage</th>\n",
       "      <th>conviction</th>\n",
       "      <th>zhangs_metric</th>\n",
       "    </tr>\n",
       "  </thead>\n",
       "  <tbody>\n",
       "    <tr>\n",
       "      <th>619</th>\n",
       "      <td>(47209, 21137, 27966)</td>\n",
       "      <td>(13176)</td>\n",
       "      <td>0.002904</td>\n",
       "      <td>0.117980</td>\n",
       "      <td>0.001738</td>\n",
       "      <td>0.598425</td>\n",
       "      <td>5.072272</td>\n",
       "      <td>0.001395</td>\n",
       "      <td>2.196403</td>\n",
       "      <td>0.805188</td>\n",
       "    </tr>\n",
       "    <tr>\n",
       "      <th>959</th>\n",
       "      <td>(47209, 21137, 30391)</td>\n",
       "      <td>(13176)</td>\n",
       "      <td>0.001951</td>\n",
       "      <td>0.117980</td>\n",
       "      <td>0.001067</td>\n",
       "      <td>0.546875</td>\n",
       "      <td>4.635331</td>\n",
       "      <td>0.000837</td>\n",
       "      <td>1.946528</td>\n",
       "      <td>0.785799</td>\n",
       "    </tr>\n",
       "    <tr>\n",
       "      <th>6560</th>\n",
       "      <td>(39928, 47209)</td>\n",
       "      <td>(13176)</td>\n",
       "      <td>0.002652</td>\n",
       "      <td>0.117980</td>\n",
       "      <td>0.001448</td>\n",
       "      <td>0.545977</td>\n",
       "      <td>4.627719</td>\n",
       "      <td>0.001135</td>\n",
       "      <td>1.942678</td>\n",
       "      <td>0.785996</td>\n",
       "    </tr>\n",
       "    <tr>\n",
       "      <th>6252</th>\n",
       "      <td>(27966, 8174)</td>\n",
       "      <td>(13176)</td>\n",
       "      <td>0.002126</td>\n",
       "      <td>0.117980</td>\n",
       "      <td>0.001151</td>\n",
       "      <td>0.541219</td>\n",
       "      <td>4.587387</td>\n",
       "      <td>0.000900</td>\n",
       "      <td>1.922529</td>\n",
       "      <td>0.783677</td>\n",
       "    </tr>\n",
       "    <tr>\n",
       "      <th>6448</th>\n",
       "      <td>(4605, 16797)</td>\n",
       "      <td>(24852)</td>\n",
       "      <td>0.002134</td>\n",
       "      <td>0.142719</td>\n",
       "      <td>0.001143</td>\n",
       "      <td>0.535714</td>\n",
       "      <td>3.753633</td>\n",
       "      <td>0.000839</td>\n",
       "      <td>1.846452</td>\n",
       "      <td>0.735160</td>\n",
       "    </tr>\n",
       "    <tr>\n",
       "      <th>178</th>\n",
       "      <td>(47209, 22035)</td>\n",
       "      <td>(13176)</td>\n",
       "      <td>0.002180</td>\n",
       "      <td>0.117980</td>\n",
       "      <td>0.001158</td>\n",
       "      <td>0.531469</td>\n",
       "      <td>4.504745</td>\n",
       "      <td>0.000901</td>\n",
       "      <td>1.882521</td>\n",
       "      <td>0.779711</td>\n",
       "    </tr>\n",
       "    <tr>\n",
       "      <th>6246</th>\n",
       "      <td>(47209, 8174)</td>\n",
       "      <td>(13176)</td>\n",
       "      <td>0.002828</td>\n",
       "      <td>0.117980</td>\n",
       "      <td>0.001494</td>\n",
       "      <td>0.528302</td>\n",
       "      <td>4.477905</td>\n",
       "      <td>0.001160</td>\n",
       "      <td>1.869883</td>\n",
       "      <td>0.778884</td>\n",
       "    </tr>\n",
       "    <tr>\n",
       "      <th>606</th>\n",
       "      <td>(47209, 27966)</td>\n",
       "      <td>(13176)</td>\n",
       "      <td>0.007766</td>\n",
       "      <td>0.117980</td>\n",
       "      <td>0.004047</td>\n",
       "      <td>0.521099</td>\n",
       "      <td>4.416854</td>\n",
       "      <td>0.003131</td>\n",
       "      <td>1.841760</td>\n",
       "      <td>0.779649</td>\n",
       "    </tr>\n",
       "    <tr>\n",
       "      <th>5818</th>\n",
       "      <td>(47209, 22825)</td>\n",
       "      <td>(13176)</td>\n",
       "      <td>0.002683</td>\n",
       "      <td>0.117980</td>\n",
       "      <td>0.001387</td>\n",
       "      <td>0.517045</td>\n",
       "      <td>4.382495</td>\n",
       "      <td>0.001071</td>\n",
       "      <td>1.826301</td>\n",
       "      <td>0.773896</td>\n",
       "    </tr>\n",
       "    <tr>\n",
       "      <th>1722</th>\n",
       "      <td>(47209, 35951)</td>\n",
       "      <td>(13176)</td>\n",
       "      <td>0.002431</td>\n",
       "      <td>0.117980</td>\n",
       "      <td>0.001250</td>\n",
       "      <td>0.514107</td>\n",
       "      <td>4.357585</td>\n",
       "      <td>0.000963</td>\n",
       "      <td>1.815255</td>\n",
       "      <td>0.772393</td>\n",
       "    </tr>\n",
       "  </tbody>\n",
       "</table>\n",
       "</div>"
      ],
      "text/plain": [
       "                antecedents consequents  antecedent support   \n",
       "619   (47209, 21137, 27966)     (13176)            0.002904  \\\n",
       "959   (47209, 21137, 30391)     (13176)            0.001951   \n",
       "6560         (39928, 47209)     (13176)            0.002652   \n",
       "6252          (27966, 8174)     (13176)            0.002126   \n",
       "6448          (4605, 16797)     (24852)            0.002134   \n",
       "178          (47209, 22035)     (13176)            0.002180   \n",
       "6246          (47209, 8174)     (13176)            0.002828   \n",
       "606          (47209, 27966)     (13176)            0.007766   \n",
       "5818         (47209, 22825)     (13176)            0.002683   \n",
       "1722         (47209, 35951)     (13176)            0.002431   \n",
       "\n",
       "      consequent support   support  confidence      lift  leverage   \n",
       "619             0.117980  0.001738    0.598425  5.072272  0.001395  \\\n",
       "959             0.117980  0.001067    0.546875  4.635331  0.000837   \n",
       "6560            0.117980  0.001448    0.545977  4.627719  0.001135   \n",
       "6252            0.117980  0.001151    0.541219  4.587387  0.000900   \n",
       "6448            0.142719  0.001143    0.535714  3.753633  0.000839   \n",
       "178             0.117980  0.001158    0.531469  4.504745  0.000901   \n",
       "6246            0.117980  0.001494    0.528302  4.477905  0.001160   \n",
       "606             0.117980  0.004047    0.521099  4.416854  0.003131   \n",
       "5818            0.117980  0.001387    0.517045  4.382495  0.001071   \n",
       "1722            0.117980  0.001250    0.514107  4.357585  0.000963   \n",
       "\n",
       "      conviction  zhangs_metric  \n",
       "619     2.196403       0.805188  \n",
       "959     1.946528       0.785799  \n",
       "6560    1.942678       0.785996  \n",
       "6252    1.922529       0.783677  \n",
       "6448    1.846452       0.735160  \n",
       "178     1.882521       0.779711  \n",
       "6246    1.869883       0.778884  \n",
       "606     1.841760       0.779649  \n",
       "5818    1.826301       0.773896  \n",
       "1722    1.815255       0.772393  "
      ]
     },
     "execution_count": 98,
     "metadata": {},
     "output_type": "execute_result"
    }
   ],
   "source": [
    "# Les 10 regles qui se produisent souvent\n",
    "rules_fpg_test_m.sort_values(by='confidence', ascending=False)[:10]"
   ]
  },
  {
   "cell_type": "code",
   "execution_count": 100,
   "metadata": {},
   "outputs": [
    {
     "data": {
      "text/plain": [
       "[21137, 24852]"
      ]
     },
     "execution_count": 100,
     "metadata": {},
     "output_type": "execute_result"
    }
   ],
   "source": [
    "# Predictions\n",
    "arl_recommender(rules_fpg_test_m, 3599)"
   ]
  },
  {
   "attachments": {},
   "cell_type": "markdown",
   "metadata": {
    "nteract": {
     "transient": {
      "deleting": false
     }
    }
   },
   "source": [
    "## Approche heuristique"
   ]
  },
  {
   "attachments": {},
   "cell_type": "markdown",
   "metadata": {
    "nteract": {
     "transient": {
      "deleting": false
     }
    }
   },
   "source": [
    "## SARL : scalable association rule learning"
   ]
  },
  {
   "attachments": {},
   "cell_type": "markdown",
   "metadata": {},
   "source": [
    "## Approche ensembliste : XGBoost (eXtreme Gradient Boosting)"
   ]
  },
  {
   "attachments": {},
   "cell_type": "markdown",
   "metadata": {},
   "source": [
    "### Definition du problème "
   ]
  },
  {
   "attachments": {},
   "cell_type": "markdown",
   "metadata": {},
   "source": [
    "Supposons que nous ne voulons pas faire une recommandation sur la base des transactions de multiples utilisateur, mais cible specifiquement un utilisateur et lui recommander un produit sur la base de ces precedentes commandes.\n",
    "\n",
    "Par conséquent, nous voulons prédire quels produits achetés précédemment (commandes antérieures) figureront dans la prochaine commande d'un utilisateur."
   ]
  },
  {
   "attachments": {},
   "cell_type": "markdown",
   "metadata": {},
   "source": [
    "## Deep Learning using clustering"
   ]
  }
 ],
 "metadata": {
  "kernel_info": {
   "name": "my_env2"
  },
  "kernelspec": {
   "display_name": "Python 3 (ipykernel)",
   "language": "python",
   "name": "python3"
  },
  "language_info": {
   "codemirror_mode": {
    "name": "ipython",
    "version": 3
   },
   "file_extension": ".py",
   "mimetype": "text/x-python",
   "name": "python",
   "nbconvert_exporter": "python",
   "pygments_lexer": "ipython3",
   "version": "3.10.10"
  },
  "microsoft": {
   "host": {
    "AzureML": {
     "notebookHasBeenCompleted": true
    }
   },
   "ms_spell_check": {
    "ms_spell_check_language": "fr"
   }
  },
  "nteract": {
   "version": "nteract-front-end@1.0.0"
  }
 },
 "nbformat": 4,
 "nbformat_minor": 2
}
